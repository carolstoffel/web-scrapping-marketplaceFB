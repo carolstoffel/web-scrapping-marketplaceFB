{
 "cells": [
  {
   "cell_type": "code",
   "execution_count": 2,
   "metadata": {},
   "outputs": [],
   "source": [
    "from selenium import webdriver\n",
    "from selenium.webdriver.support.ui import WebDriverWait\n",
    "from selenium.webdriver.support import expected_conditions as EC\n",
    "from selenium.webdriver.common.by import By\n",
    "from selenium.webdriver.common.keys import Keys\n",
    "import pandas as pd\n",
    "import time\n",
    "from IPython.core.display import display, HTML\n",
    "from datetime import datetime\n",
    "\n",
    "chrome_path = 'C:\\\\Users\\\\carol\\\\Desktop\\\\Python\\\\Projects\\\\web-scraping\\\\chromedriver\\\\chromedriver.exe' # caminho onde o chromedriver está\n",
    "driver = webdriver.Chrome(executable_path = chrome_path)\n",
    "\n",
    "min_price = 200\n",
    "max_price = 800\n",
    "query = 'toledo'\n",
    "\n",
    "url='https://www.facebook.com/marketplace/110246492337509/search/?minPrice={}&maxPrice={}&query={}&category_id=propertyrentals&exact=false'.format(min_price, max_price, query)\n",
    "\n",
    "driver.get(url)\n",
    "\n",
    "time.sleep(3)\n",
    "elements = driver.find_elements_by_class_name('oajrlxb2')\n"
   ]
  },
  {
   "cell_type": "code",
   "execution_count": 4,
   "metadata": {},
   "outputs": [
    {
     "name": "stdout",
     "output_type": "stream",
     "text": [
      "R$ 700\n",
      "Alugo apartamento em Toledo PR\n",
      "Toledo\n"
     ]
    },
    {
     "data": {
      "text/html": [
       "<a class=\"oajrlxb2 g5ia77u1 qu0x051f esr5mh6w e9989ue4 r7d6kgcz rq0escxv nhd2j8a9 nc684nl6 p7hjln8o kvgmc6g5 cxmmr5t8 oygrvhab hcukyx3x jb3vyjys rz4wbd8a qt6c0cv9 a8nywdso i1ao9s8h esuyzwwr f1sip0of lzcic4wl gmql0nx0 p8dawk7l\" href=\"/marketplace/item/1437993649718419/\" role=\"link\" tabindex=\"0\"><div class=\"j83agx80 cbu4d94t l9j0dhe7\"><div class=\"k4urcfbm l9j0dhe7\"><div class=\"kr520xx4 j9ispegn l9j0dhe7 stjgntxs ni8dbmo4 n7fi1qx3 i09qtzwb kzx2olss aot14ch1 p86d2i9g beltcj47 t63ysoy8 linmgsc8 hop1g133 opwvks06\"><div class=\"beltcj47 p86d2i9g aot14ch1 kzx2olss ni8dbmo4 stjgntxs d5it6em2 l9j0dhe7 k4urcfbm\"><div class=\"j83agx80 lhclo0ds ihdl84by pmk7jnqg h119xb3h iylxurvu bo2ra7bd\"><div class=\"rq0escxv j83agx80 buofh1pr datstx6m ggysqto6 exrn9cbp ojkyduve abpf7j7b l9j0dhe7 k4urcfbm\"><img alt=\"Alugo apartamento em Toledo PR no grupo Toledo\" class=\"idiwt2bm bixrwtb6 ni8dbmo4 stjgntxs k4urcfbm\" src=\"https://scontent.fbfh9-1.fna.fbcdn.net/v/t1.0-0/c0.139.540.540a/s261x260/104283660_1198232527186066_3097951578694717194_n.jpg?_nc_cat=109&amp;_nc_sid=843cd7&amp;_nc_ohc=lgxFOIJKU1IAX9aqcVi&amp;_nc_ht=scontent.fbfh9-1.fna&amp;oh=7fab5adfe73769910394a8b15f3daa7e&amp;oe=5F1FC85C\"></div></div></div></div></div><div class=\"rq0escxv j83agx80 cbu4d94t i1fnvgqd muag1w35 cxgpxx05 sj5x9vvc k4urcfbm cnmiy0wd gql6s8nh\"><div class=\"rs0gx3tq bakzw9nt\"><span class=\"j83agx80\"><div class=\"a8nywdso e5nlhep0 rz4wbd8a ecm0bbzt btwxx1t3 j83agx80\"><span class=\"oi732d6d ik7dh3pa d2edcug0 qv66sw1b c1et5uql a8c37x1j s89635nw ew0dbk1b a5q79mjw g1cxx5fr lrazzd5p oo9gr5id\" dir=\"auto\">R$&nbsp;700</span></div></span></div><div class=\"rs0gx3tq bakzw9nt\"><span aria-hidden=\"true\"><div class=\"a8nywdso e5nlhep0 rz4wbd8a linoseic\"><span class=\"oi732d6d ik7dh3pa d2edcug0 qv66sw1b c1et5uql a8c37x1j muag1w35 enqfppq2 jq4qci2q a3bd9o3v knj5qynh oo9gr5id\" dir=\"auto\"><div class=\"l9j0dhe7 stjgntxs ni8dbmo4\" style=\"display: -webkit-box; -webkit-box-orient: vertical; -webkit-line-clamp: 2;\">Alugo apartamento em Toledo PR</div></span></div></span></div><div class=\"rs0gx3tq bakzw9nt\"><span aria-hidden=\"true\"><div class=\"a8nywdso e5nlhep0 rz4wbd8a ecm0bbzt\"><span class=\"oi732d6d ik7dh3pa d2edcug0 qv66sw1b c1et5uql a8c37x1j hop8lmos enqfppq2 e9vueds3 j5wam9gi knj5qynh m9osqain ni8dbmo4 stjgntxs ltmttdrg g0qnabr5\" dir=\"auto\">Toledo</span></div></span></div></div></div></a>"
      ],
      "text/plain": [
       "<IPython.core.display.HTML object>"
      ]
     },
     "metadata": {},
     "output_type": "display_data"
    },
    {
     "name": "stdout",
     "output_type": "stream",
     "text": [
      "R$ 750\n",
      "Casa\n",
      "Toledo\n"
     ]
    },
    {
     "data": {
      "text/html": [
       "<a class=\"oajrlxb2 g5ia77u1 qu0x051f esr5mh6w e9989ue4 r7d6kgcz rq0escxv nhd2j8a9 nc684nl6 p7hjln8o kvgmc6g5 cxmmr5t8 oygrvhab hcukyx3x jb3vyjys rz4wbd8a qt6c0cv9 a8nywdso i1ao9s8h esuyzwwr f1sip0of lzcic4wl gmql0nx0 p8dawk7l\" href=\"/marketplace/item/2633165786972367/\" role=\"link\" tabindex=\"0\"><div class=\"j83agx80 cbu4d94t l9j0dhe7\"><div class=\"k4urcfbm l9j0dhe7\"><div class=\"kr520xx4 j9ispegn l9j0dhe7 stjgntxs ni8dbmo4 n7fi1qx3 i09qtzwb kzx2olss aot14ch1 p86d2i9g beltcj47 t63ysoy8 linmgsc8 hop1g133 opwvks06\"><div class=\"beltcj47 p86d2i9g aot14ch1 kzx2olss ni8dbmo4 stjgntxs d5it6em2 l9j0dhe7 k4urcfbm\"><div class=\"j83agx80 lhclo0ds ihdl84by pmk7jnqg h119xb3h iylxurvu bo2ra7bd\"><div class=\"rq0escxv j83agx80 buofh1pr datstx6m ggysqto6 exrn9cbp ojkyduve abpf7j7b l9j0dhe7 k4urcfbm\"><img alt=\"Casa no grupo Toledo\" class=\"idiwt2bm bixrwtb6 ni8dbmo4 stjgntxs k4urcfbm\" src=\"https://scontent.fbfh9-1.fna.fbcdn.net/v/t1.0-0/c0.95.864.864a/s261x260/103595754_3213467648722293_2695723169009576418_o.jpg?_nc_cat=109&amp;_nc_sid=843cd7&amp;_nc_ohc=QrWqpd_ziR8AX-RDjmq&amp;_nc_ht=scontent.fbfh9-1.fna&amp;oh=6b4f505010d2e6bdbc4057e3ff166ac8&amp;oe=5F1E1883\"></div></div></div></div></div><div class=\"rq0escxv j83agx80 cbu4d94t i1fnvgqd muag1w35 cxgpxx05 sj5x9vvc k4urcfbm cnmiy0wd gql6s8nh\"><div class=\"rs0gx3tq bakzw9nt\"><span class=\"j83agx80\"><div class=\"a8nywdso e5nlhep0 rz4wbd8a ecm0bbzt btwxx1t3 j83agx80\"><span class=\"oi732d6d ik7dh3pa d2edcug0 qv66sw1b c1et5uql a8c37x1j s89635nw ew0dbk1b a5q79mjw g1cxx5fr lrazzd5p oo9gr5id\" dir=\"auto\">R$&nbsp;750</span></div></span></div><div class=\"rs0gx3tq bakzw9nt\"><span aria-hidden=\"true\"><div class=\"a8nywdso e5nlhep0 rz4wbd8a linoseic\"><span class=\"oi732d6d ik7dh3pa d2edcug0 qv66sw1b c1et5uql a8c37x1j muag1w35 enqfppq2 jq4qci2q a3bd9o3v knj5qynh oo9gr5id\" dir=\"auto\"><div class=\"l9j0dhe7 stjgntxs ni8dbmo4\" style=\"display: -webkit-box; -webkit-box-orient: vertical; -webkit-line-clamp: 2;\">Casa</div></span></div></span></div><div class=\"rs0gx3tq bakzw9nt\"><span aria-hidden=\"true\"><div class=\"a8nywdso e5nlhep0 rz4wbd8a ecm0bbzt\"><span class=\"oi732d6d ik7dh3pa d2edcug0 qv66sw1b c1et5uql a8c37x1j hop8lmos enqfppq2 e9vueds3 j5wam9gi knj5qynh m9osqain ni8dbmo4 stjgntxs ltmttdrg g0qnabr5\" dir=\"auto\">Toledo</span></div></span></div></div></div></a>"
      ],
      "text/plain": [
       "<IPython.core.display.HTML object>"
      ]
     },
     "metadata": {},
     "output_type": "display_data"
    },
    {
     "name": "stdout",
     "output_type": "stream",
     "text": [
      "R$ 800\n",
      "Apartamento para alugar no JD Gisela, Toledo PR\n",
      "Toledo\n"
     ]
    },
    {
     "data": {
      "text/html": [
       "<a class=\"oajrlxb2 g5ia77u1 qu0x051f esr5mh6w e9989ue4 r7d6kgcz rq0escxv nhd2j8a9 nc684nl6 p7hjln8o kvgmc6g5 cxmmr5t8 oygrvhab hcukyx3x jb3vyjys rz4wbd8a qt6c0cv9 a8nywdso i1ao9s8h esuyzwwr f1sip0of lzcic4wl gmql0nx0 p8dawk7l\" href=\"/marketplace/item/912136105881474/\" role=\"link\" tabindex=\"0\"><div class=\"j83agx80 cbu4d94t l9j0dhe7\"><div class=\"k4urcfbm l9j0dhe7\"><div class=\"kr520xx4 j9ispegn l9j0dhe7 stjgntxs ni8dbmo4 n7fi1qx3 i09qtzwb kzx2olss aot14ch1 p86d2i9g beltcj47 t63ysoy8 linmgsc8 hop1g133 opwvks06\"><div class=\"beltcj47 p86d2i9g aot14ch1 kzx2olss ni8dbmo4 stjgntxs d5it6em2 l9j0dhe7 k4urcfbm\"><div class=\"j83agx80 lhclo0ds ihdl84by pmk7jnqg h119xb3h iylxurvu bo2ra7bd\"><div class=\"rq0escxv j83agx80 buofh1pr datstx6m ggysqto6 exrn9cbp ojkyduve abpf7j7b l9j0dhe7 k4urcfbm\"><img alt=\"Apartamento para alugar no JD Gisela, Toledo PR no grupo Toledo\" class=\"idiwt2bm bixrwtb6 ni8dbmo4 stjgntxs k4urcfbm\" src=\"https://scontent.fbfh9-1.fna.fbcdn.net/v/t1.0-0/c0.79.720.720a/s261x260/100865135_2580699922259039_4605765904226058240_n.jpg?_nc_cat=111&amp;_nc_sid=843cd7&amp;_nc_ohc=tGpRSmj3dQMAX-l2W1r&amp;_nc_ht=scontent.fbfh9-1.fna&amp;oh=89820fd0ba2ec4c9d3880d4293e8ea57&amp;oe=5F1E99A0\"></div></div></div></div></div><div class=\"rq0escxv j83agx80 cbu4d94t i1fnvgqd muag1w35 cxgpxx05 sj5x9vvc k4urcfbm cnmiy0wd gql6s8nh\"><div class=\"rs0gx3tq bakzw9nt\"><span class=\"j83agx80\"><div class=\"a8nywdso e5nlhep0 rz4wbd8a ecm0bbzt btwxx1t3 j83agx80\"><span class=\"oi732d6d ik7dh3pa d2edcug0 qv66sw1b c1et5uql a8c37x1j s89635nw ew0dbk1b a5q79mjw g1cxx5fr lrazzd5p oo9gr5id\" dir=\"auto\">R$&nbsp;800</span></div></span></div><div class=\"rs0gx3tq bakzw9nt\"><span aria-hidden=\"true\"><div class=\"a8nywdso e5nlhep0 rz4wbd8a linoseic\"><span class=\"oi732d6d ik7dh3pa d2edcug0 qv66sw1b c1et5uql a8c37x1j muag1w35 enqfppq2 jq4qci2q a3bd9o3v knj5qynh oo9gr5id\" dir=\"auto\"><div class=\"l9j0dhe7 stjgntxs ni8dbmo4\" style=\"display: -webkit-box; -webkit-box-orient: vertical; -webkit-line-clamp: 2;\">Apartamento para alugar no JD Gisela, Toledo PR</div></span></div></span></div><div class=\"rs0gx3tq bakzw9nt\"><span aria-hidden=\"true\"><div class=\"a8nywdso e5nlhep0 rz4wbd8a ecm0bbzt\"><span class=\"oi732d6d ik7dh3pa d2edcug0 qv66sw1b c1et5uql a8c37x1j hop8lmos enqfppq2 e9vueds3 j5wam9gi knj5qynh m9osqain ni8dbmo4 stjgntxs ltmttdrg g0qnabr5\" dir=\"auto\">Toledo</span></div></span></div></div></div></a>"
      ],
      "text/plain": [
       "<IPython.core.display.HTML object>"
      ]
     },
     "metadata": {},
     "output_type": "display_data"
    },
    {
     "name": "stdout",
     "output_type": "stream",
     "text": [
      "R$ 790\n",
      "Aluga-se\n",
      "Toledo\n"
     ]
    },
    {
     "data": {
      "text/html": [
       "<a class=\"oajrlxb2 g5ia77u1 qu0x051f esr5mh6w e9989ue4 r7d6kgcz rq0escxv nhd2j8a9 nc684nl6 p7hjln8o kvgmc6g5 cxmmr5t8 oygrvhab hcukyx3x jb3vyjys rz4wbd8a qt6c0cv9 a8nywdso i1ao9s8h esuyzwwr f1sip0of lzcic4wl gmql0nx0 p8dawk7l\" href=\"/marketplace/item/697755467665156/\" role=\"link\" tabindex=\"0\"><div class=\"j83agx80 cbu4d94t l9j0dhe7\"><div class=\"k4urcfbm l9j0dhe7\"><div class=\"kr520xx4 j9ispegn l9j0dhe7 stjgntxs ni8dbmo4 n7fi1qx3 i09qtzwb kzx2olss aot14ch1 p86d2i9g beltcj47 t63ysoy8 linmgsc8 hop1g133 opwvks06\"><div class=\"beltcj47 p86d2i9g aot14ch1 kzx2olss ni8dbmo4 stjgntxs d5it6em2 l9j0dhe7 k4urcfbm\"><div class=\"j83agx80 lhclo0ds ihdl84by pmk7jnqg h119xb3h iylxurvu bo2ra7bd\"><div class=\"rq0escxv j83agx80 buofh1pr datstx6m ggysqto6 exrn9cbp ojkyduve abpf7j7b l9j0dhe7 k4urcfbm\"><img alt=\"Aluga-se no grupo Toledo\" class=\"idiwt2bm bixrwtb6 ni8dbmo4 stjgntxs k4urcfbm\" src=\"https://scontent.fbfh9-1.fna.fbcdn.net/v/t1.0-0/c43.0.260.260a/p261x260/95490075_2997446746975020_4427496358823329792_n.jpg?_nc_cat=110&amp;_nc_sid=843cd7&amp;_nc_ohc=Zd3mDKfo7CwAX9yCrAT&amp;_nc_ht=scontent.fbfh9-1.fna&amp;oh=1f272d6674263fa4c7c66034f38c7d20&amp;oe=5F21DC62\"></div></div></div></div></div><div class=\"rq0escxv j83agx80 cbu4d94t i1fnvgqd muag1w35 cxgpxx05 sj5x9vvc k4urcfbm cnmiy0wd gql6s8nh\"><div class=\"rs0gx3tq bakzw9nt\"><span class=\"j83agx80\"><div class=\"a8nywdso e5nlhep0 rz4wbd8a ecm0bbzt btwxx1t3 j83agx80\"><span class=\"oi732d6d ik7dh3pa d2edcug0 qv66sw1b c1et5uql a8c37x1j s89635nw ew0dbk1b a5q79mjw g1cxx5fr lrazzd5p oo9gr5id\" dir=\"auto\">R$&nbsp;790</span></div></span></div><div class=\"rs0gx3tq bakzw9nt\"><span aria-hidden=\"true\"><div class=\"a8nywdso e5nlhep0 rz4wbd8a linoseic\"><span class=\"oi732d6d ik7dh3pa d2edcug0 qv66sw1b c1et5uql a8c37x1j muag1w35 enqfppq2 jq4qci2q a3bd9o3v knj5qynh oo9gr5id\" dir=\"auto\"><div class=\"l9j0dhe7 stjgntxs ni8dbmo4\" style=\"display: -webkit-box; -webkit-box-orient: vertical; -webkit-line-clamp: 2;\">Aluga-se</div></span></div></span></div><div class=\"rs0gx3tq bakzw9nt\"><span aria-hidden=\"true\"><div class=\"a8nywdso e5nlhep0 rz4wbd8a ecm0bbzt\"><span class=\"oi732d6d ik7dh3pa d2edcug0 qv66sw1b c1et5uql a8c37x1j hop8lmos enqfppq2 e9vueds3 j5wam9gi knj5qynh m9osqain ni8dbmo4 stjgntxs ltmttdrg g0qnabr5\" dir=\"auto\">Toledo</span></div></span></div></div></div></a>"
      ],
      "text/plain": [
       "<IPython.core.display.HTML object>"
      ]
     },
     "metadata": {},
     "output_type": "display_data"
    },
    {
     "name": "stdout",
     "output_type": "stream",
     "text": [
      "R$ 750\n",
      "Aluga Apartamento Terreo\n",
      "Toledo\n"
     ]
    },
    {
     "data": {
      "text/html": [
       "<a class=\"oajrlxb2 g5ia77u1 qu0x051f esr5mh6w e9989ue4 r7d6kgcz rq0escxv nhd2j8a9 nc684nl6 p7hjln8o kvgmc6g5 cxmmr5t8 oygrvhab hcukyx3x jb3vyjys rz4wbd8a qt6c0cv9 a8nywdso i1ao9s8h esuyzwwr f1sip0of lzcic4wl gmql0nx0 p8dawk7l\" href=\"/marketplace/item/305905483776039/\" role=\"link\" tabindex=\"0\"><div class=\"j83agx80 cbu4d94t l9j0dhe7\"><div class=\"k4urcfbm l9j0dhe7\"><div class=\"kr520xx4 j9ispegn l9j0dhe7 stjgntxs ni8dbmo4 n7fi1qx3 i09qtzwb kzx2olss aot14ch1 p86d2i9g beltcj47 t63ysoy8 linmgsc8 hop1g133 opwvks06\"><div class=\"beltcj47 p86d2i9g aot14ch1 kzx2olss ni8dbmo4 stjgntxs d5it6em2 l9j0dhe7 k4urcfbm\"><div class=\"j83agx80 lhclo0ds ihdl84by pmk7jnqg h119xb3h iylxurvu bo2ra7bd\"><div class=\"rq0escxv j83agx80 buofh1pr datstx6m ggysqto6 exrn9cbp ojkyduve abpf7j7b l9j0dhe7 k4urcfbm\"><img alt=\"Aluga Apartamento Terreo no grupo Toledo\" class=\"idiwt2bm bixrwtb6 ni8dbmo4 stjgntxs k4urcfbm\" src=\"https://scontent.fbfh9-1.fna.fbcdn.net/v/t1.0-0/c0.29.261.261a/p235x350/106198115_3237430239659367_7319173819060789477_o.jpg?_nc_cat=103&amp;_nc_sid=843cd7&amp;_nc_ohc=mVabtf3T_U4AX_5QjX8&amp;_nc_ht=scontent.fbfh9-1.fna&amp;oh=16b03b10406e09b9391f0c8fa276eed0&amp;oe=5F1FC4A9\"></div></div></div></div></div><div class=\"rq0escxv j83agx80 cbu4d94t i1fnvgqd muag1w35 cxgpxx05 sj5x9vvc k4urcfbm cnmiy0wd gql6s8nh\"><div class=\"rs0gx3tq bakzw9nt\"><span class=\"j83agx80\"><div class=\"a8nywdso e5nlhep0 rz4wbd8a ecm0bbzt btwxx1t3 j83agx80\"><span class=\"oi732d6d ik7dh3pa d2edcug0 qv66sw1b c1et5uql a8c37x1j s89635nw ew0dbk1b a5q79mjw g1cxx5fr lrazzd5p oo9gr5id\" dir=\"auto\">R$&nbsp;750</span></div></span></div><div class=\"rs0gx3tq bakzw9nt\"><span aria-hidden=\"true\"><div class=\"a8nywdso e5nlhep0 rz4wbd8a linoseic\"><span class=\"oi732d6d ik7dh3pa d2edcug0 qv66sw1b c1et5uql a8c37x1j muag1w35 enqfppq2 jq4qci2q a3bd9o3v knj5qynh oo9gr5id\" dir=\"auto\"><div class=\"l9j0dhe7 stjgntxs ni8dbmo4\" style=\"display: -webkit-box; -webkit-box-orient: vertical; -webkit-line-clamp: 2;\">Aluga Apartamento Terreo</div></span></div></span></div><div class=\"rs0gx3tq bakzw9nt\"><span aria-hidden=\"true\"><div class=\"a8nywdso e5nlhep0 rz4wbd8a ecm0bbzt\"><span class=\"oi732d6d ik7dh3pa d2edcug0 qv66sw1b c1et5uql a8c37x1j hop8lmos enqfppq2 e9vueds3 j5wam9gi knj5qynh m9osqain ni8dbmo4 stjgntxs ltmttdrg g0qnabr5\" dir=\"auto\">Toledo</span></div></span></div></div></div></a>"
      ],
      "text/plain": [
       "<IPython.core.display.HTML object>"
      ]
     },
     "metadata": {},
     "output_type": "display_data"
    },
    {
     "name": "stdout",
     "output_type": "stream",
     "text": [
      "R$ 650\n",
      "Aluga Apartamento Centro\n",
      "Toledo\n"
     ]
    },
    {
     "data": {
      "text/html": [
       "<a class=\"oajrlxb2 g5ia77u1 qu0x051f esr5mh6w e9989ue4 r7d6kgcz rq0escxv nhd2j8a9 nc684nl6 p7hjln8o kvgmc6g5 cxmmr5t8 oygrvhab hcukyx3x jb3vyjys rz4wbd8a qt6c0cv9 a8nywdso i1ao9s8h esuyzwwr f1sip0of lzcic4wl gmql0nx0 p8dawk7l\" href=\"/marketplace/item/2715976435355835/\" role=\"link\" tabindex=\"0\"><div class=\"j83agx80 cbu4d94t l9j0dhe7\"><div class=\"k4urcfbm l9j0dhe7\"><div class=\"kr520xx4 j9ispegn l9j0dhe7 stjgntxs ni8dbmo4 n7fi1qx3 i09qtzwb kzx2olss aot14ch1 p86d2i9g beltcj47 t63ysoy8 linmgsc8 hop1g133 opwvks06\"><div class=\"beltcj47 p86d2i9g aot14ch1 kzx2olss ni8dbmo4 stjgntxs d5it6em2 l9j0dhe7 k4urcfbm\"><div class=\"j83agx80 lhclo0ds ihdl84by pmk7jnqg h119xb3h iylxurvu bo2ra7bd\"><div class=\"rq0escxv j83agx80 buofh1pr datstx6m ggysqto6 exrn9cbp ojkyduve abpf7j7b l9j0dhe7 k4urcfbm\"><img alt=\"Aluga Apartamento Centro no grupo Toledo\" class=\"idiwt2bm bixrwtb6 ni8dbmo4 stjgntxs k4urcfbm\" src=\"https://scontent.fbfh9-1.fna.fbcdn.net/v/t1.0-0/c0.106.960.960a/s261x260/104408673_3212843115451413_1443068723921450479_o.jpg?_nc_cat=106&amp;_nc_sid=843cd7&amp;_nc_ohc=t09v_IAkaNQAX9gMAMN&amp;_nc_ht=scontent.fbfh9-1.fna&amp;oh=d990af6ba4650cda7d5dd6f17c14c23a&amp;oe=5F1EFAD6\"></div></div></div></div></div><div class=\"rq0escxv j83agx80 cbu4d94t i1fnvgqd muag1w35 cxgpxx05 sj5x9vvc k4urcfbm cnmiy0wd gql6s8nh\"><div class=\"rs0gx3tq bakzw9nt\"><span class=\"j83agx80\"><div class=\"a8nywdso e5nlhep0 rz4wbd8a ecm0bbzt btwxx1t3 j83agx80\"><span class=\"oi732d6d ik7dh3pa d2edcug0 qv66sw1b c1et5uql a8c37x1j s89635nw ew0dbk1b a5q79mjw g1cxx5fr lrazzd5p oo9gr5id\" dir=\"auto\">R$&nbsp;650</span></div></span></div><div class=\"rs0gx3tq bakzw9nt\"><span aria-hidden=\"true\"><div class=\"a8nywdso e5nlhep0 rz4wbd8a linoseic\"><span class=\"oi732d6d ik7dh3pa d2edcug0 qv66sw1b c1et5uql a8c37x1j muag1w35 enqfppq2 jq4qci2q a3bd9o3v knj5qynh oo9gr5id\" dir=\"auto\"><div class=\"l9j0dhe7 stjgntxs ni8dbmo4\" style=\"display: -webkit-box; -webkit-box-orient: vertical; -webkit-line-clamp: 2;\">Aluga Apartamento Centro</div></span></div></span></div><div class=\"rs0gx3tq bakzw9nt\"><span aria-hidden=\"true\"><div class=\"a8nywdso e5nlhep0 rz4wbd8a ecm0bbzt\"><span class=\"oi732d6d ik7dh3pa d2edcug0 qv66sw1b c1et5uql a8c37x1j hop8lmos enqfppq2 e9vueds3 j5wam9gi knj5qynh m9osqain ni8dbmo4 stjgntxs ltmttdrg g0qnabr5\" dir=\"auto\">Toledo</span></div></span></div></div></div></a>"
      ],
      "text/plain": [
       "<IPython.core.display.HTML object>"
      ]
     },
     "metadata": {},
     "output_type": "display_data"
    },
    {
     "name": "stdout",
     "output_type": "stream",
     "text": [
      "R$ 500\n",
      "Salas Comerciais no Centro!!\n",
      "Toledo\n"
     ]
    },
    {
     "data": {
      "text/html": [
       "<a class=\"oajrlxb2 g5ia77u1 qu0x051f esr5mh6w e9989ue4 r7d6kgcz rq0escxv nhd2j8a9 nc684nl6 p7hjln8o kvgmc6g5 cxmmr5t8 oygrvhab hcukyx3x jb3vyjys rz4wbd8a qt6c0cv9 a8nywdso i1ao9s8h esuyzwwr f1sip0of lzcic4wl gmql0nx0 p8dawk7l\" href=\"/marketplace/item/553933518820195/\" role=\"link\" tabindex=\"0\"><div class=\"j83agx80 cbu4d94t l9j0dhe7\"><div class=\"k4urcfbm l9j0dhe7\"><div class=\"kr520xx4 j9ispegn l9j0dhe7 stjgntxs ni8dbmo4 n7fi1qx3 i09qtzwb kzx2olss aot14ch1 p86d2i9g beltcj47 t63ysoy8 linmgsc8 hop1g133 opwvks06\"><div class=\"beltcj47 p86d2i9g aot14ch1 kzx2olss ni8dbmo4 stjgntxs d5it6em2 l9j0dhe7 k4urcfbm\"><div class=\"j83agx80 lhclo0ds ihdl84by pmk7jnqg h119xb3h iylxurvu bo2ra7bd\"><div class=\"rq0escxv j83agx80 buofh1pr datstx6m ggysqto6 exrn9cbp ojkyduve abpf7j7b l9j0dhe7 k4urcfbm\"><img alt=\"Salas Comerciais no Centro!! no grupo Toledo\" class=\"idiwt2bm bixrwtb6 ni8dbmo4 stjgntxs k4urcfbm\" src=\"https://scontent.fbfh9-1.fna.fbcdn.net/v/t1.0-0/c43.0.260.260a/p261x260/105499990_3229210503814674_4506753195958067492_o.jpg?_nc_cat=105&amp;_nc_sid=843cd7&amp;_nc_ohc=lu-BYuJ_LlsAX-PeaUm&amp;_nc_ht=scontent.fbfh9-1.fna&amp;oh=a323373ca62063a2bf73de501063dfbd&amp;oe=5F1EA868\"></div></div></div></div></div><div class=\"rq0escxv j83agx80 cbu4d94t i1fnvgqd muag1w35 cxgpxx05 sj5x9vvc k4urcfbm cnmiy0wd gql6s8nh\"><div class=\"rs0gx3tq bakzw9nt\"><span class=\"j83agx80\"><div class=\"a8nywdso e5nlhep0 rz4wbd8a ecm0bbzt btwxx1t3 j83agx80\"><span class=\"oi732d6d ik7dh3pa d2edcug0 qv66sw1b c1et5uql a8c37x1j s89635nw ew0dbk1b a5q79mjw g1cxx5fr lrazzd5p oo9gr5id\" dir=\"auto\">R$&nbsp;500</span></div></span></div><div class=\"rs0gx3tq bakzw9nt\"><span aria-hidden=\"true\"><div class=\"a8nywdso e5nlhep0 rz4wbd8a linoseic\"><span class=\"oi732d6d ik7dh3pa d2edcug0 qv66sw1b c1et5uql a8c37x1j muag1w35 enqfppq2 jq4qci2q a3bd9o3v knj5qynh oo9gr5id\" dir=\"auto\"><div class=\"l9j0dhe7 stjgntxs ni8dbmo4\" style=\"display: -webkit-box; -webkit-box-orient: vertical; -webkit-line-clamp: 2;\">Salas Comerciais no Centro!!</div></span></div></span></div><div class=\"rs0gx3tq bakzw9nt\"><span aria-hidden=\"true\"><div class=\"a8nywdso e5nlhep0 rz4wbd8a ecm0bbzt\"><span class=\"oi732d6d ik7dh3pa d2edcug0 qv66sw1b c1et5uql a8c37x1j hop8lmos enqfppq2 e9vueds3 j5wam9gi knj5qynh m9osqain ni8dbmo4 stjgntxs ltmttdrg g0qnabr5\" dir=\"auto\">Toledo</span></div></span></div></div></div></a>"
      ],
      "text/plain": [
       "<IPython.core.display.HTML object>"
      ]
     },
     "metadata": {},
     "output_type": "display_data"
    },
    {
     "name": "stdout",
     "output_type": "stream",
     "text": [
      "R$ 550\n",
      "Casa p alugar\n",
      "Cascavel, Parana, Brazil\n"
     ]
    },
    {
     "data": {
      "text/html": [
       "<a class=\"oajrlxb2 g5ia77u1 qu0x051f esr5mh6w e9989ue4 r7d6kgcz rq0escxv nhd2j8a9 nc684nl6 p7hjln8o kvgmc6g5 cxmmr5t8 oygrvhab hcukyx3x jb3vyjys rz4wbd8a qt6c0cv9 a8nywdso i1ao9s8h esuyzwwr f1sip0of lzcic4wl gmql0nx0 p8dawk7l\" href=\"/marketplace/item/557756831564756/\" role=\"link\" tabindex=\"0\"><div class=\"j83agx80 cbu4d94t l9j0dhe7\"><div class=\"k4urcfbm l9j0dhe7\"><div class=\"kr520xx4 j9ispegn l9j0dhe7 stjgntxs ni8dbmo4 n7fi1qx3 i09qtzwb kzx2olss aot14ch1 p86d2i9g beltcj47 t63ysoy8 linmgsc8 hop1g133 opwvks06\"><div class=\"beltcj47 p86d2i9g aot14ch1 kzx2olss ni8dbmo4 stjgntxs d5it6em2 l9j0dhe7 k4urcfbm\"><div class=\"j83agx80 lhclo0ds ihdl84by pmk7jnqg h119xb3h iylxurvu bo2ra7bd\"><div class=\"rq0escxv j83agx80 buofh1pr datstx6m ggysqto6 exrn9cbp ojkyduve abpf7j7b l9j0dhe7 k4urcfbm\"><img alt=\"Casa p alugar no grupo Cascavel, Parana, Brazil\" class=\"idiwt2bm bixrwtb6 ni8dbmo4 stjgntxs k4urcfbm\" src=\"https://scontent.fbfh9-1.fna.fbcdn.net/v/t1.0-0/c101.0.260.260a/p261x260/106128048_2739784212922109_9072828986115013344_n.jpg?_nc_cat=111&amp;_nc_sid=843cd7&amp;_nc_ohc=5KakE9gJwe0AX85h3Tj&amp;_nc_ht=scontent.fbfh9-1.fna&amp;oh=b823addf3c03c677985a1b7f2b72eb52&amp;oe=5F1E48CE\"></div></div></div></div></div><div class=\"rq0escxv j83agx80 cbu4d94t i1fnvgqd muag1w35 cxgpxx05 sj5x9vvc k4urcfbm cnmiy0wd gql6s8nh\"><div class=\"rs0gx3tq bakzw9nt\"><span class=\"j83agx80\"><div class=\"a8nywdso e5nlhep0 rz4wbd8a ecm0bbzt btwxx1t3 j83agx80\"><span class=\"oi732d6d ik7dh3pa d2edcug0 qv66sw1b c1et5uql a8c37x1j s89635nw ew0dbk1b a5q79mjw g1cxx5fr lrazzd5p oo9gr5id\" dir=\"auto\">R$&nbsp;550</span></div></span></div><div class=\"rs0gx3tq bakzw9nt\"><span aria-hidden=\"true\"><div class=\"a8nywdso e5nlhep0 rz4wbd8a linoseic\"><span class=\"oi732d6d ik7dh3pa d2edcug0 qv66sw1b c1et5uql a8c37x1j muag1w35 enqfppq2 jq4qci2q a3bd9o3v knj5qynh oo9gr5id\" dir=\"auto\"><div class=\"l9j0dhe7 stjgntxs ni8dbmo4\" style=\"display: -webkit-box; -webkit-box-orient: vertical; -webkit-line-clamp: 2;\">Casa p alugar</div></span></div></span></div><div class=\"rs0gx3tq bakzw9nt\"><span aria-hidden=\"true\"><div class=\"a8nywdso e5nlhep0 rz4wbd8a ecm0bbzt\"><span class=\"oi732d6d ik7dh3pa d2edcug0 qv66sw1b c1et5uql a8c37x1j hop8lmos enqfppq2 e9vueds3 j5wam9gi knj5qynh m9osqain ni8dbmo4 stjgntxs ltmttdrg g0qnabr5\" dir=\"auto\">Cascavel, Parana, Brazil</span></div></span></div></div></div></a>"
      ],
      "text/plain": [
       "<IPython.core.display.HTML object>"
      ]
     },
     "metadata": {},
     "output_type": "display_data"
    },
    {
     "name": "stdout",
     "output_type": "stream",
     "text": [
      "R$ 790\n",
      "Aluga se Apto com 2 quartos. Vila Becker. Toledo Pr\n",
      "Toledo\n"
     ]
    },
    {
     "data": {
      "text/html": [
       "<a class=\"oajrlxb2 g5ia77u1 qu0x051f esr5mh6w e9989ue4 r7d6kgcz rq0escxv nhd2j8a9 nc684nl6 p7hjln8o kvgmc6g5 cxmmr5t8 oygrvhab hcukyx3x jb3vyjys rz4wbd8a qt6c0cv9 a8nywdso i1ao9s8h esuyzwwr f1sip0of lzcic4wl gmql0nx0 p8dawk7l\" href=\"/marketplace/item/621509501787047/\" role=\"link\" tabindex=\"0\"><div class=\"j83agx80 cbu4d94t l9j0dhe7\"><div class=\"k4urcfbm l9j0dhe7\"><div class=\"kr520xx4 j9ispegn l9j0dhe7 stjgntxs ni8dbmo4 n7fi1qx3 i09qtzwb kzx2olss aot14ch1 p86d2i9g beltcj47 t63ysoy8 linmgsc8 hop1g133 opwvks06\"><div class=\"beltcj47 p86d2i9g aot14ch1 kzx2olss ni8dbmo4 stjgntxs d5it6em2 l9j0dhe7 k4urcfbm\"><div class=\"j83agx80 lhclo0ds ihdl84by pmk7jnqg h119xb3h iylxurvu bo2ra7bd\"><div class=\"rq0escxv j83agx80 buofh1pr datstx6m ggysqto6 exrn9cbp ojkyduve abpf7j7b l9j0dhe7 k4urcfbm\"><img alt=\"Aluga se Apto com 2 quartos. Vila Becker. Toledo Pr no grupo Toledo\" class=\"idiwt2bm bixrwtb6 ni8dbmo4 stjgntxs k4urcfbm\" src=\"https://scontent.fbfh9-1.fna.fbcdn.net/v/t1.0-0/c43.0.260.260a/p261x260/100041632_2865233603596534_1291594423657824256_n.jpg?_nc_cat=111&amp;_nc_sid=843cd7&amp;_nc_ohc=Z0g_fsz3CwMAX9K5b37&amp;_nc_ht=scontent.fbfh9-1.fna&amp;oh=59b2c7e56cf241d005dc3d914af4e9e5&amp;oe=5F210879\"></div></div></div></div></div><div class=\"rq0escxv j83agx80 cbu4d94t i1fnvgqd muag1w35 cxgpxx05 sj5x9vvc k4urcfbm cnmiy0wd gql6s8nh\"><div class=\"rs0gx3tq bakzw9nt\"><span class=\"j83agx80\"><div class=\"a8nywdso e5nlhep0 rz4wbd8a ecm0bbzt btwxx1t3 j83agx80\"><span class=\"oi732d6d ik7dh3pa d2edcug0 qv66sw1b c1et5uql a8c37x1j s89635nw ew0dbk1b a5q79mjw g1cxx5fr lrazzd5p oo9gr5id\" dir=\"auto\">R$&nbsp;790</span></div></span></div><div class=\"rs0gx3tq bakzw9nt\"><span aria-hidden=\"true\"><div class=\"a8nywdso e5nlhep0 rz4wbd8a linoseic\"><span class=\"oi732d6d ik7dh3pa d2edcug0 qv66sw1b c1et5uql a8c37x1j muag1w35 enqfppq2 jq4qci2q a3bd9o3v knj5qynh oo9gr5id\" dir=\"auto\"><div class=\"l9j0dhe7 stjgntxs ni8dbmo4\" style=\"display: -webkit-box; -webkit-box-orient: vertical; -webkit-line-clamp: 2;\">Aluga se Apto com 2 quartos. Vila Becker. Toledo Pr</div></span></div></span></div><div class=\"rs0gx3tq bakzw9nt\"><span aria-hidden=\"true\"><div class=\"a8nywdso e5nlhep0 rz4wbd8a ecm0bbzt\"><span class=\"oi732d6d ik7dh3pa d2edcug0 qv66sw1b c1et5uql a8c37x1j hop8lmos enqfppq2 e9vueds3 j5wam9gi knj5qynh m9osqain ni8dbmo4 stjgntxs ltmttdrg g0qnabr5\" dir=\"auto\">Toledo</span></div></span></div></div></div></a>"
      ],
      "text/plain": [
       "<IPython.core.display.HTML object>"
      ]
     },
     "metadata": {},
     "output_type": "display_data"
    },
    {
     "name": "stdout",
     "output_type": "stream",
     "text": [
      "R$ 600\n",
      "Aluguel de kitinete na Vila Borges Rua Pompeu de Toledo 527\n",
      "Foz do Iguaçu\n"
     ]
    },
    {
     "data": {
      "text/html": [
       "<a class=\"oajrlxb2 g5ia77u1 qu0x051f esr5mh6w e9989ue4 r7d6kgcz rq0escxv nhd2j8a9 nc684nl6 p7hjln8o kvgmc6g5 cxmmr5t8 oygrvhab hcukyx3x jb3vyjys rz4wbd8a qt6c0cv9 a8nywdso i1ao9s8h esuyzwwr f1sip0of lzcic4wl gmql0nx0 p8dawk7l\" href=\"/marketplace/item/208687513509209/\" role=\"link\" tabindex=\"0\"><div class=\"j83agx80 cbu4d94t l9j0dhe7\"><div class=\"k4urcfbm l9j0dhe7\"><div class=\"kr520xx4 j9ispegn l9j0dhe7 stjgntxs ni8dbmo4 n7fi1qx3 i09qtzwb kzx2olss aot14ch1 p86d2i9g beltcj47 t63ysoy8 linmgsc8 hop1g133 opwvks06\"><div class=\"beltcj47 p86d2i9g aot14ch1 kzx2olss ni8dbmo4 stjgntxs d5it6em2 l9j0dhe7 k4urcfbm\"><div class=\"j83agx80 lhclo0ds ihdl84by pmk7jnqg h119xb3h iylxurvu bo2ra7bd\"><div class=\"rq0escxv j83agx80 buofh1pr datstx6m ggysqto6 exrn9cbp ojkyduve abpf7j7b l9j0dhe7 k4urcfbm\"><img alt=\"Aluguel de kitinete na Vila Borges Rua Pompeu de Toledo 527 no grupo Foz do Iguaçu\" class=\"idiwt2bm bixrwtb6 ni8dbmo4 stjgntxs k4urcfbm\" src=\"https://scontent.fbfh9-1.fna.fbcdn.net/v/t1.0-0/c0.94.256.256a/p180x540/104182755_3375140572711342_5700495472328727991_o.jpg?_nc_cat=108&amp;_nc_sid=843cd7&amp;_nc_ohc=w3nhk2DWnGgAX8cnonL&amp;_nc_ht=scontent.fbfh9-1.fna&amp;oh=ce81a489c61ca53c4072ed74ef0ce7fc&amp;oe=5F1FE0CF\"></div></div></div></div></div><div class=\"rq0escxv j83agx80 cbu4d94t i1fnvgqd muag1w35 cxgpxx05 sj5x9vvc k4urcfbm cnmiy0wd gql6s8nh\"><div class=\"rs0gx3tq bakzw9nt\"><span class=\"j83agx80\"><div class=\"a8nywdso e5nlhep0 rz4wbd8a ecm0bbzt btwxx1t3 j83agx80\"><span class=\"oi732d6d ik7dh3pa d2edcug0 qv66sw1b c1et5uql a8c37x1j s89635nw ew0dbk1b a5q79mjw g1cxx5fr lrazzd5p oo9gr5id\" dir=\"auto\">R$&nbsp;600</span></div></span></div><div class=\"rs0gx3tq bakzw9nt\"><span aria-hidden=\"true\"><div class=\"a8nywdso e5nlhep0 rz4wbd8a linoseic\"><span class=\"oi732d6d ik7dh3pa d2edcug0 qv66sw1b c1et5uql a8c37x1j muag1w35 enqfppq2 jq4qci2q a3bd9o3v knj5qynh oo9gr5id\" dir=\"auto\"><div class=\"l9j0dhe7 stjgntxs ni8dbmo4\" style=\"display: -webkit-box; -webkit-box-orient: vertical; -webkit-line-clamp: 2;\">Aluguel de kitinete na Vila Borges Rua Pompeu de Toledo 527</div></span></div></span></div><div class=\"rs0gx3tq bakzw9nt\"><span aria-hidden=\"true\"><div class=\"a8nywdso e5nlhep0 rz4wbd8a ecm0bbzt\"><span class=\"oi732d6d ik7dh3pa d2edcug0 qv66sw1b c1et5uql a8c37x1j hop8lmos enqfppq2 e9vueds3 j5wam9gi knj5qynh m9osqain ni8dbmo4 stjgntxs ltmttdrg g0qnabr5\" dir=\"auto\">Foz do Iguaçu</span></div></span></div></div></div></a>"
      ],
      "text/plain": [
       "<IPython.core.display.HTML object>"
      ]
     },
     "metadata": {},
     "output_type": "display_data"
    },
    {
     "name": "stdout",
     "output_type": "stream",
     "text": [
      "R$ 750\n",
      "Apartamento Terreo\n",
      "Toledo\n"
     ]
    },
    {
     "data": {
      "text/html": [
       "<a class=\"oajrlxb2 g5ia77u1 qu0x051f esr5mh6w e9989ue4 r7d6kgcz rq0escxv nhd2j8a9 nc684nl6 p7hjln8o kvgmc6g5 cxmmr5t8 oygrvhab hcukyx3x jb3vyjys rz4wbd8a qt6c0cv9 a8nywdso i1ao9s8h esuyzwwr f1sip0of lzcic4wl gmql0nx0 p8dawk7l\" href=\"/marketplace/item/963426567412295/\" role=\"link\" tabindex=\"0\"><div class=\"j83agx80 cbu4d94t l9j0dhe7\"><div class=\"k4urcfbm l9j0dhe7\"><div class=\"kr520xx4 j9ispegn l9j0dhe7 stjgntxs ni8dbmo4 n7fi1qx3 i09qtzwb kzx2olss aot14ch1 p86d2i9g beltcj47 t63ysoy8 linmgsc8 hop1g133 opwvks06\"><div class=\"beltcj47 p86d2i9g aot14ch1 kzx2olss ni8dbmo4 stjgntxs d5it6em2 l9j0dhe7 k4urcfbm\"><div class=\"j83agx80 lhclo0ds ihdl84by pmk7jnqg h119xb3h iylxurvu bo2ra7bd\"><div class=\"rq0escxv j83agx80 buofh1pr datstx6m ggysqto6 exrn9cbp ojkyduve abpf7j7b l9j0dhe7 k4urcfbm\"><img alt=\"Apartamento Terreo no grupo Toledo\" class=\"idiwt2bm bixrwtb6 ni8dbmo4 stjgntxs k4urcfbm\" src=\"https://scontent.fbfh9-1.fna.fbcdn.net/v/t1.0-0/c0.106.960.960a/s261x260/104149383_3210136825722042_8017766788601353606_o.jpg?_nc_cat=105&amp;_nc_sid=843cd7&amp;_nc_ohc=SO4VCzuuWMcAX8W5HFH&amp;_nc_ht=scontent.fbfh9-1.fna&amp;oh=4649587e39a34e1aefb49789d594cb62&amp;oe=5F1E3F48\"></div></div></div></div></div><div class=\"rq0escxv j83agx80 cbu4d94t i1fnvgqd muag1w35 cxgpxx05 sj5x9vvc k4urcfbm cnmiy0wd gql6s8nh\"><div class=\"rs0gx3tq bakzw9nt\"><span class=\"j83agx80\"><div class=\"a8nywdso e5nlhep0 rz4wbd8a ecm0bbzt btwxx1t3 j83agx80\"><span class=\"oi732d6d ik7dh3pa d2edcug0 qv66sw1b c1et5uql a8c37x1j s89635nw ew0dbk1b a5q79mjw g1cxx5fr lrazzd5p oo9gr5id\" dir=\"auto\">R$&nbsp;750</span></div></span></div><div class=\"rs0gx3tq bakzw9nt\"><span aria-hidden=\"true\"><div class=\"a8nywdso e5nlhep0 rz4wbd8a linoseic\"><span class=\"oi732d6d ik7dh3pa d2edcug0 qv66sw1b c1et5uql a8c37x1j muag1w35 enqfppq2 jq4qci2q a3bd9o3v knj5qynh oo9gr5id\" dir=\"auto\"><div class=\"l9j0dhe7 stjgntxs ni8dbmo4\" style=\"display: -webkit-box; -webkit-box-orient: vertical; -webkit-line-clamp: 2;\">Apartamento Terreo</div></span></div></span></div><div class=\"rs0gx3tq bakzw9nt\"><span aria-hidden=\"true\"><div class=\"a8nywdso e5nlhep0 rz4wbd8a ecm0bbzt\"><span class=\"oi732d6d ik7dh3pa d2edcug0 qv66sw1b c1et5uql a8c37x1j hop8lmos enqfppq2 e9vueds3 j5wam9gi knj5qynh m9osqain ni8dbmo4 stjgntxs ltmttdrg g0qnabr5\" dir=\"auto\">Toledo</span></div></span></div></div></div></a>"
      ],
      "text/plain": [
       "<IPython.core.display.HTML object>"
      ]
     },
     "metadata": {},
     "output_type": "display_data"
    },
    {
     "name": "stdout",
     "output_type": "stream",
     "text": [
      "R$ 800\n",
      "Aluga se uma casa em Vila Nova\n",
      "Novo Sarandi, Parana, Brazil\n"
     ]
    },
    {
     "data": {
      "text/html": [
       "<a class=\"oajrlxb2 g5ia77u1 qu0x051f esr5mh6w e9989ue4 r7d6kgcz rq0escxv nhd2j8a9 nc684nl6 p7hjln8o kvgmc6g5 cxmmr5t8 oygrvhab hcukyx3x jb3vyjys rz4wbd8a qt6c0cv9 a8nywdso i1ao9s8h esuyzwwr f1sip0of lzcic4wl gmql0nx0 p8dawk7l\" href=\"/marketplace/item/1130200644021846/\" role=\"link\" tabindex=\"0\"><div class=\"j83agx80 cbu4d94t l9j0dhe7\"><div class=\"k4urcfbm l9j0dhe7\"><div class=\"kr520xx4 j9ispegn l9j0dhe7 stjgntxs ni8dbmo4 n7fi1qx3 i09qtzwb kzx2olss aot14ch1 p86d2i9g beltcj47 t63ysoy8 linmgsc8 hop1g133 opwvks06\"><div class=\"beltcj47 p86d2i9g aot14ch1 kzx2olss ni8dbmo4 stjgntxs d5it6em2 l9j0dhe7 k4urcfbm\"><div class=\"j83agx80 lhclo0ds ihdl84by pmk7jnqg h119xb3h iylxurvu bo2ra7bd\"><div class=\"rq0escxv j83agx80 buofh1pr datstx6m ggysqto6 exrn9cbp ojkyduve abpf7j7b l9j0dhe7 k4urcfbm\"><img alt=\"Aluga se uma casa em Vila Nova no grupo Novo Sarandi, Parana, Brazil\" class=\"idiwt2bm bixrwtb6 ni8dbmo4 stjgntxs k4urcfbm\" src=\"https://scontent.fbfh9-1.fna.fbcdn.net/v/t1.0-0/c207.0.260.260a/p261x260/103586555_3790198647717488_7507090554412288398_o.jpg?_nc_cat=107&amp;_nc_sid=843cd7&amp;_nc_ohc=3g340Wr_QkEAX_3lWi4&amp;_nc_ht=scontent.fbfh9-1.fna&amp;oh=9f5a11862aca79725468db4c6b1683ef&amp;oe=5F1E12BD\"></div></div></div></div></div><div class=\"rq0escxv j83agx80 cbu4d94t i1fnvgqd muag1w35 cxgpxx05 sj5x9vvc k4urcfbm cnmiy0wd gql6s8nh\"><div class=\"rs0gx3tq bakzw9nt\"><span class=\"j83agx80\"><div class=\"a8nywdso e5nlhep0 rz4wbd8a ecm0bbzt btwxx1t3 j83agx80\"><span class=\"oi732d6d ik7dh3pa d2edcug0 qv66sw1b c1et5uql a8c37x1j s89635nw ew0dbk1b a5q79mjw g1cxx5fr lrazzd5p oo9gr5id\" dir=\"auto\">R$&nbsp;800</span></div></span></div><div class=\"rs0gx3tq bakzw9nt\"><span aria-hidden=\"true\"><div class=\"a8nywdso e5nlhep0 rz4wbd8a linoseic\"><span class=\"oi732d6d ik7dh3pa d2edcug0 qv66sw1b c1et5uql a8c37x1j muag1w35 enqfppq2 jq4qci2q a3bd9o3v knj5qynh oo9gr5id\" dir=\"auto\"><div class=\"l9j0dhe7 stjgntxs ni8dbmo4\" style=\"display: -webkit-box; -webkit-box-orient: vertical; -webkit-line-clamp: 2;\">Aluga se uma casa em Vila Nova</div></span></div></span></div><div class=\"rs0gx3tq bakzw9nt\"><span aria-hidden=\"true\"><div class=\"a8nywdso e5nlhep0 rz4wbd8a ecm0bbzt\"><span class=\"oi732d6d ik7dh3pa d2edcug0 qv66sw1b c1et5uql a8c37x1j hop8lmos enqfppq2 e9vueds3 j5wam9gi knj5qynh m9osqain ni8dbmo4 stjgntxs ltmttdrg g0qnabr5\" dir=\"auto\">Novo Sarandi, Parana, Brazil</span></div></span></div></div></div></a>"
      ],
      "text/plain": [
       "<IPython.core.display.HTML object>"
      ]
     },
     "metadata": {},
     "output_type": "display_data"
    },
    {
     "name": "stdout",
     "output_type": "stream",
     "text": [
      "R$ 750\n",
      "Alugo apartamento no panorama\n",
      "Toledo\n"
     ]
    },
    {
     "data": {
      "text/html": [
       "<a class=\"oajrlxb2 g5ia77u1 qu0x051f esr5mh6w e9989ue4 r7d6kgcz rq0escxv nhd2j8a9 nc684nl6 p7hjln8o kvgmc6g5 cxmmr5t8 oygrvhab hcukyx3x jb3vyjys rz4wbd8a qt6c0cv9 a8nywdso i1ao9s8h esuyzwwr f1sip0of lzcic4wl gmql0nx0 p8dawk7l\" href=\"/marketplace/item/1043870772673293/\" role=\"link\" tabindex=\"0\"><div class=\"j83agx80 cbu4d94t l9j0dhe7\"><div class=\"k4urcfbm l9j0dhe7\"><div class=\"kr520xx4 j9ispegn l9j0dhe7 stjgntxs ni8dbmo4 n7fi1qx3 i09qtzwb kzx2olss aot14ch1 p86d2i9g beltcj47 t63ysoy8 linmgsc8 hop1g133 opwvks06\"><div class=\"beltcj47 p86d2i9g aot14ch1 kzx2olss ni8dbmo4 stjgntxs d5it6em2 l9j0dhe7 k4urcfbm\"><div class=\"j83agx80 lhclo0ds ihdl84by pmk7jnqg h119xb3h iylxurvu bo2ra7bd\"><div class=\"rq0escxv j83agx80 buofh1pr datstx6m ggysqto6 exrn9cbp ojkyduve abpf7j7b l9j0dhe7 k4urcfbm\"><img alt=\"Alugo apartamento no panorama no grupo Toledo\" class=\"idiwt2bm bixrwtb6 ni8dbmo4 stjgntxs k4urcfbm\" src=\"https://scontent.fbfh9-1.fna.fbcdn.net/v/t1.0-0/c0.79.720.720a/s261x260/101988933_1608277725993921_4433599193818333184_n.jpg?_nc_cat=110&amp;_nc_sid=843cd7&amp;_nc_ohc=ii0WnBl04W4AX915wNw&amp;_nc_ht=scontent.fbfh9-1.fna&amp;oh=97d8dbdbb368b45ca5572dd439f7aff5&amp;oe=5F2075E0\"></div></div></div></div></div><div class=\"rq0escxv j83agx80 cbu4d94t i1fnvgqd muag1w35 cxgpxx05 sj5x9vvc k4urcfbm cnmiy0wd gql6s8nh\"><div class=\"rs0gx3tq bakzw9nt\"><span class=\"j83agx80\"><div class=\"a8nywdso e5nlhep0 rz4wbd8a ecm0bbzt btwxx1t3 j83agx80\"><span class=\"oi732d6d ik7dh3pa d2edcug0 qv66sw1b c1et5uql a8c37x1j s89635nw ew0dbk1b a5q79mjw g1cxx5fr lrazzd5p oo9gr5id\" dir=\"auto\">R$&nbsp;750</span></div></span></div><div class=\"rs0gx3tq bakzw9nt\"><span aria-hidden=\"true\"><div class=\"a8nywdso e5nlhep0 rz4wbd8a linoseic\"><span class=\"oi732d6d ik7dh3pa d2edcug0 qv66sw1b c1et5uql a8c37x1j muag1w35 enqfppq2 jq4qci2q a3bd9o3v knj5qynh oo9gr5id\" dir=\"auto\"><div class=\"l9j0dhe7 stjgntxs ni8dbmo4\" style=\"display: -webkit-box; -webkit-box-orient: vertical; -webkit-line-clamp: 2;\">Alugo apartamento no panorama</div></span></div></span></div><div class=\"rs0gx3tq bakzw9nt\"><span aria-hidden=\"true\"><div class=\"a8nywdso e5nlhep0 rz4wbd8a ecm0bbzt\"><span class=\"oi732d6d ik7dh3pa d2edcug0 qv66sw1b c1et5uql a8c37x1j hop8lmos enqfppq2 e9vueds3 j5wam9gi knj5qynh m9osqain ni8dbmo4 stjgntxs ltmttdrg g0qnabr5\" dir=\"auto\">Toledo</span></div></span></div></div></div></a>"
      ],
      "text/plain": [
       "<IPython.core.display.HTML object>"
      ]
     },
     "metadata": {},
     "output_type": "display_data"
    },
    {
     "name": "stdout",
     "output_type": "stream",
     "text": [
      "R$ 660\n",
      "Aluga Apartamento na Barão do Rio Branco\n",
      "Toledo\n"
     ]
    },
    {
     "data": {
      "text/html": [
       "<a class=\"oajrlxb2 g5ia77u1 qu0x051f esr5mh6w e9989ue4 r7d6kgcz rq0escxv nhd2j8a9 nc684nl6 p7hjln8o kvgmc6g5 cxmmr5t8 oygrvhab hcukyx3x jb3vyjys rz4wbd8a qt6c0cv9 a8nywdso i1ao9s8h esuyzwwr f1sip0of lzcic4wl gmql0nx0 p8dawk7l\" href=\"/marketplace/item/674820973274347/\" role=\"link\" tabindex=\"0\"><div class=\"j83agx80 cbu4d94t l9j0dhe7\"><div class=\"k4urcfbm l9j0dhe7\"><div class=\"kr520xx4 j9ispegn l9j0dhe7 stjgntxs ni8dbmo4 n7fi1qx3 i09qtzwb kzx2olss aot14ch1 p86d2i9g beltcj47 t63ysoy8 linmgsc8 hop1g133 opwvks06\"><div class=\"beltcj47 p86d2i9g aot14ch1 kzx2olss ni8dbmo4 stjgntxs d5it6em2 l9j0dhe7 k4urcfbm\"><div class=\"j83agx80 lhclo0ds ihdl84by pmk7jnqg h119xb3h iylxurvu bo2ra7bd\"><div class=\"rq0escxv j83agx80 buofh1pr datstx6m ggysqto6 exrn9cbp ojkyduve abpf7j7b l9j0dhe7 k4urcfbm\"><img alt=\"Aluga Apartamento na Barão do Rio Branco no grupo Toledo\" class=\"idiwt2bm bixrwtb6 ni8dbmo4 stjgntxs k4urcfbm\" src=\"https://scontent.fbfh9-1.fna.fbcdn.net/v/t1.0-0/c0.106.960.960a/s261x260/90235270_3006421106093616_8722760707646423040_o.jpg?_nc_cat=106&amp;_nc_sid=843cd7&amp;_nc_ohc=09YFsUHFUtQAX8uORRx&amp;_nc_ht=scontent.fbfh9-1.fna&amp;oh=1815a79176870bb628509971a1f6639a&amp;oe=5F1DFDE3\"></div></div></div></div></div><div class=\"rq0escxv j83agx80 cbu4d94t i1fnvgqd muag1w35 cxgpxx05 sj5x9vvc k4urcfbm cnmiy0wd gql6s8nh\"><div class=\"rs0gx3tq bakzw9nt\"><span class=\"j83agx80\"><div class=\"a8nywdso e5nlhep0 rz4wbd8a ecm0bbzt btwxx1t3 j83agx80\"><span class=\"oi732d6d ik7dh3pa d2edcug0 qv66sw1b c1et5uql a8c37x1j s89635nw ew0dbk1b a5q79mjw g1cxx5fr lrazzd5p oo9gr5id\" dir=\"auto\">R$&nbsp;660</span></div></span></div><div class=\"rs0gx3tq bakzw9nt\"><span aria-hidden=\"true\"><div class=\"a8nywdso e5nlhep0 rz4wbd8a linoseic\"><span class=\"oi732d6d ik7dh3pa d2edcug0 qv66sw1b c1et5uql a8c37x1j muag1w35 enqfppq2 jq4qci2q a3bd9o3v knj5qynh oo9gr5id\" dir=\"auto\"><div class=\"l9j0dhe7 stjgntxs ni8dbmo4\" style=\"display: -webkit-box; -webkit-box-orient: vertical; -webkit-line-clamp: 2;\">Aluga Apartamento na Barão do Rio Branco</div></span></div></span></div><div class=\"rs0gx3tq bakzw9nt\"><span aria-hidden=\"true\"><div class=\"a8nywdso e5nlhep0 rz4wbd8a ecm0bbzt\"><span class=\"oi732d6d ik7dh3pa d2edcug0 qv66sw1b c1et5uql a8c37x1j hop8lmos enqfppq2 e9vueds3 j5wam9gi knj5qynh m9osqain ni8dbmo4 stjgntxs ltmttdrg g0qnabr5\" dir=\"auto\">Toledo</span></div></span></div></div></div></a>"
      ],
      "text/plain": [
       "<IPython.core.display.HTML object>"
      ]
     },
     "metadata": {},
     "output_type": "display_data"
    },
    {
     "name": "stdout",
     "output_type": "stream",
     "text": [
      "R$ 720\n",
      "Alugo apartamento no bairro Pancera, em Toledo - PR\n",
      "Toledo\n"
     ]
    },
    {
     "data": {
      "text/html": [
       "<a class=\"oajrlxb2 g5ia77u1 qu0x051f esr5mh6w e9989ue4 r7d6kgcz rq0escxv nhd2j8a9 nc684nl6 p7hjln8o kvgmc6g5 cxmmr5t8 oygrvhab hcukyx3x jb3vyjys rz4wbd8a qt6c0cv9 a8nywdso i1ao9s8h esuyzwwr f1sip0of lzcic4wl gmql0nx0 p8dawk7l\" href=\"/marketplace/item/3531130100236350/\" role=\"link\" tabindex=\"0\"><div class=\"j83agx80 cbu4d94t l9j0dhe7\"><div class=\"k4urcfbm l9j0dhe7\"><div class=\"kr520xx4 j9ispegn l9j0dhe7 stjgntxs ni8dbmo4 n7fi1qx3 i09qtzwb kzx2olss aot14ch1 p86d2i9g beltcj47 t63ysoy8 linmgsc8 hop1g133 opwvks06\"><div class=\"beltcj47 p86d2i9g aot14ch1 kzx2olss ni8dbmo4 stjgntxs d5it6em2 l9j0dhe7 k4urcfbm\"><div class=\"j83agx80 lhclo0ds ihdl84by pmk7jnqg h119xb3h iylxurvu bo2ra7bd\"><div class=\"rq0escxv j83agx80 buofh1pr datstx6m ggysqto6 exrn9cbp ojkyduve abpf7j7b l9j0dhe7 k4urcfbm\"><img alt=\"Alugo apartamento no bairro Pancera, em Toledo - PR no grupo Toledo\" class=\"idiwt2bm bixrwtb6 ni8dbmo4 stjgntxs k4urcfbm\" src=\"https://scontent.fbfh9-1.fna.fbcdn.net/v/t1.0-0/c65.0.260.260a/p261x260/94429914_2817796538307847_5161161791857754112_n.jpg?_nc_cat=107&amp;_nc_sid=843cd7&amp;_nc_ohc=TCWk2F8_mLMAX8h7Jt9&amp;_nc_ht=scontent.fbfh9-1.fna&amp;oh=0b8afdf0c3dff4ad8adfd31742e169f3&amp;oe=5F1EE587\"></div></div></div></div></div><div class=\"rq0escxv j83agx80 cbu4d94t i1fnvgqd muag1w35 cxgpxx05 sj5x9vvc k4urcfbm cnmiy0wd gql6s8nh\"><div class=\"rs0gx3tq bakzw9nt\"><span class=\"j83agx80\"><div class=\"a8nywdso e5nlhep0 rz4wbd8a ecm0bbzt btwxx1t3 j83agx80\"><span class=\"oi732d6d ik7dh3pa d2edcug0 qv66sw1b c1et5uql a8c37x1j s89635nw ew0dbk1b a5q79mjw g1cxx5fr lrazzd5p oo9gr5id\" dir=\"auto\">R$&nbsp;720</span></div></span></div><div class=\"rs0gx3tq bakzw9nt\"><span aria-hidden=\"true\"><div class=\"a8nywdso e5nlhep0 rz4wbd8a linoseic\"><span class=\"oi732d6d ik7dh3pa d2edcug0 qv66sw1b c1et5uql a8c37x1j muag1w35 enqfppq2 jq4qci2q a3bd9o3v knj5qynh oo9gr5id\" dir=\"auto\"><div class=\"l9j0dhe7 stjgntxs ni8dbmo4\" style=\"display: -webkit-box; -webkit-box-orient: vertical; -webkit-line-clamp: 2;\">Alugo apartamento no bairro Pancera, em Toledo - PR</div></span></div></span></div><div class=\"rs0gx3tq bakzw9nt\"><span aria-hidden=\"true\"><div class=\"a8nywdso e5nlhep0 rz4wbd8a ecm0bbzt\"><span class=\"oi732d6d ik7dh3pa d2edcug0 qv66sw1b c1et5uql a8c37x1j hop8lmos enqfppq2 e9vueds3 j5wam9gi knj5qynh m9osqain ni8dbmo4 stjgntxs ltmttdrg g0qnabr5\" dir=\"auto\">Toledo</span></div></span></div></div></div></a>"
      ],
      "text/plain": [
       "<IPython.core.display.HTML object>"
      ]
     },
     "metadata": {},
     "output_type": "display_data"
    },
    {
     "name": "stdout",
     "output_type": "stream",
     "text": [
      "R$ 770\n",
      "Habitazi Imobiliária Aluga Casa de Fundos com 2 quartos - Jd. Panorama Toledo PR.\n",
      "Toledo\n"
     ]
    },
    {
     "data": {
      "text/html": [
       "<a class=\"oajrlxb2 g5ia77u1 qu0x051f esr5mh6w e9989ue4 r7d6kgcz rq0escxv nhd2j8a9 nc684nl6 p7hjln8o kvgmc6g5 cxmmr5t8 oygrvhab hcukyx3x jb3vyjys rz4wbd8a qt6c0cv9 a8nywdso i1ao9s8h esuyzwwr f1sip0of lzcic4wl gmql0nx0 p8dawk7l\" href=\"/marketplace/item/238427164183451/\" role=\"link\" tabindex=\"0\"><div class=\"j83agx80 cbu4d94t l9j0dhe7\"><div class=\"k4urcfbm l9j0dhe7\"><div class=\"kr520xx4 j9ispegn l9j0dhe7 stjgntxs ni8dbmo4 n7fi1qx3 i09qtzwb kzx2olss aot14ch1 p86d2i9g beltcj47 t63ysoy8 linmgsc8 hop1g133 opwvks06\"><div class=\"beltcj47 p86d2i9g aot14ch1 kzx2olss ni8dbmo4 stjgntxs d5it6em2 l9j0dhe7 k4urcfbm\"><div class=\"j83agx80 lhclo0ds ihdl84by pmk7jnqg h119xb3h iylxurvu bo2ra7bd\"><div class=\"rq0escxv j83agx80 buofh1pr datstx6m ggysqto6 exrn9cbp ojkyduve abpf7j7b l9j0dhe7 k4urcfbm\"><img alt=\"Habitazi Imobiliária Aluga Casa de Fundos com 2 quartos  - Jd. Panorama Toledo PR. no grupo Toledo\" class=\"idiwt2bm bixrwtb6 ni8dbmo4 stjgntxs k4urcfbm\" src=\"https://scontent.fbfh9-1.fna.fbcdn.net/v/t1.0-0/c43.0.260.260a/p261x260/94381814_2790294364523744_2069524854796713984_o.jpg?_nc_cat=100&amp;_nc_sid=843cd7&amp;_nc_ohc=eM0EzOYJcu4AX9ml3r4&amp;_nc_ht=scontent.fbfh9-1.fna&amp;oh=c505632102b8f74763882ff7010ac3f4&amp;oe=5F1EBCA1\"></div></div></div></div></div><div class=\"rq0escxv j83agx80 cbu4d94t i1fnvgqd muag1w35 cxgpxx05 sj5x9vvc k4urcfbm cnmiy0wd gql6s8nh\"><div class=\"rs0gx3tq bakzw9nt\"><span class=\"j83agx80\"><div class=\"a8nywdso e5nlhep0 rz4wbd8a ecm0bbzt btwxx1t3 j83agx80\"><span class=\"oi732d6d ik7dh3pa d2edcug0 qv66sw1b c1et5uql a8c37x1j s89635nw ew0dbk1b a5q79mjw g1cxx5fr lrazzd5p oo9gr5id\" dir=\"auto\">R$&nbsp;770</span></div></span></div><div class=\"rs0gx3tq bakzw9nt\"><span aria-hidden=\"true\"><div class=\"a8nywdso e5nlhep0 rz4wbd8a linoseic\"><span class=\"oi732d6d ik7dh3pa d2edcug0 qv66sw1b c1et5uql a8c37x1j muag1w35 enqfppq2 jq4qci2q a3bd9o3v knj5qynh oo9gr5id\" dir=\"auto\"><div class=\"l9j0dhe7 stjgntxs ni8dbmo4\" style=\"display: -webkit-box; -webkit-box-orient: vertical; -webkit-line-clamp: 2;\">Habitazi Imobiliária Aluga Casa de Fundos com 2 quartos  - Jd. Panorama Toledo PR.</div></span></div></span></div><div class=\"rs0gx3tq bakzw9nt\"><span aria-hidden=\"true\"><div class=\"a8nywdso e5nlhep0 rz4wbd8a ecm0bbzt\"><span class=\"oi732d6d ik7dh3pa d2edcug0 qv66sw1b c1et5uql a8c37x1j hop8lmos enqfppq2 e9vueds3 j5wam9gi knj5qynh m9osqain ni8dbmo4 stjgntxs ltmttdrg g0qnabr5\" dir=\"auto\">Toledo</span></div></span></div></div></div></a>"
      ],
      "text/plain": [
       "<IPython.core.display.HTML object>"
      ]
     },
     "metadata": {},
     "output_type": "display_data"
    },
    {
     "name": "stdout",
     "output_type": "stream",
     "text": [
      "R$ 750\n",
      "Alugo\n",
      "Toledo\n"
     ]
    },
    {
     "data": {
      "text/html": [
       "<a class=\"oajrlxb2 g5ia77u1 qu0x051f esr5mh6w e9989ue4 r7d6kgcz rq0escxv nhd2j8a9 nc684nl6 p7hjln8o kvgmc6g5 cxmmr5t8 oygrvhab hcukyx3x jb3vyjys rz4wbd8a qt6c0cv9 a8nywdso i1ao9s8h esuyzwwr f1sip0of lzcic4wl gmql0nx0 p8dawk7l\" href=\"/marketplace/item/2665868140323408/\" role=\"link\" tabindex=\"0\"><div class=\"j83agx80 cbu4d94t l9j0dhe7\"><div class=\"k4urcfbm l9j0dhe7\"><div class=\"kr520xx4 j9ispegn l9j0dhe7 stjgntxs ni8dbmo4 n7fi1qx3 i09qtzwb kzx2olss aot14ch1 p86d2i9g beltcj47 t63ysoy8 linmgsc8 hop1g133 opwvks06\"><div class=\"beltcj47 p86d2i9g aot14ch1 kzx2olss ni8dbmo4 stjgntxs d5it6em2 l9j0dhe7 k4urcfbm\"><div class=\"j83agx80 lhclo0ds ihdl84by pmk7jnqg h119xb3h iylxurvu bo2ra7bd\"><div class=\"rq0escxv j83agx80 buofh1pr datstx6m ggysqto6 exrn9cbp ojkyduve abpf7j7b l9j0dhe7 k4urcfbm\"><img alt=\"Alugo no grupo Toledo\" class=\"idiwt2bm bixrwtb6 ni8dbmo4 stjgntxs k4urcfbm\" src=\"https://scontent.fbfh9-1.fna.fbcdn.net/v/t1.0-0/c0.116.609.609a/s261x260/105494154_3664905880202675_8989963191294319131_n.jpg?_nc_cat=106&amp;_nc_sid=843cd7&amp;_nc_ohc=YT7gVkBd8QcAX9KdK2R&amp;_nc_ht=scontent.fbfh9-1.fna&amp;oh=d3529e70bff1d5b1a46159e498f2c44e&amp;oe=5F21DDCC\"></div></div></div></div></div><div class=\"rq0escxv j83agx80 cbu4d94t i1fnvgqd muag1w35 cxgpxx05 sj5x9vvc k4urcfbm cnmiy0wd gql6s8nh\"><div class=\"rs0gx3tq bakzw9nt\"><span class=\"j83agx80\"><div class=\"a8nywdso e5nlhep0 rz4wbd8a ecm0bbzt btwxx1t3 j83agx80\"><span class=\"oi732d6d ik7dh3pa d2edcug0 qv66sw1b c1et5uql a8c37x1j s89635nw ew0dbk1b a5q79mjw g1cxx5fr lrazzd5p oo9gr5id\" dir=\"auto\">R$&nbsp;750</span></div></span></div><div class=\"rs0gx3tq bakzw9nt\"><span aria-hidden=\"true\"><div class=\"a8nywdso e5nlhep0 rz4wbd8a linoseic\"><span class=\"oi732d6d ik7dh3pa d2edcug0 qv66sw1b c1et5uql a8c37x1j muag1w35 enqfppq2 jq4qci2q a3bd9o3v knj5qynh oo9gr5id\" dir=\"auto\"><div class=\"l9j0dhe7 stjgntxs ni8dbmo4\" style=\"display: -webkit-box; -webkit-box-orient: vertical; -webkit-line-clamp: 2;\">Alugo</div></span></div></span></div><div class=\"rs0gx3tq bakzw9nt\"><span aria-hidden=\"true\"><div class=\"a8nywdso e5nlhep0 rz4wbd8a ecm0bbzt\"><span class=\"oi732d6d ik7dh3pa d2edcug0 qv66sw1b c1et5uql a8c37x1j hop8lmos enqfppq2 e9vueds3 j5wam9gi knj5qynh m9osqain ni8dbmo4 stjgntxs ltmttdrg g0qnabr5\" dir=\"auto\">Toledo</span></div></span></div></div></div></a>"
      ],
      "text/plain": [
       "<IPython.core.display.HTML object>"
      ]
     },
     "metadata": {},
     "output_type": "display_data"
    },
    {
     "name": "stdout",
     "output_type": "stream",
     "text": [
      "R$ 600\n",
      "Aluga-se sala comercial\n",
      "Toledo\n"
     ]
    },
    {
     "data": {
      "text/html": [
       "<a class=\"oajrlxb2 g5ia77u1 qu0x051f esr5mh6w e9989ue4 r7d6kgcz rq0escxv nhd2j8a9 nc684nl6 p7hjln8o kvgmc6g5 cxmmr5t8 oygrvhab hcukyx3x jb3vyjys rz4wbd8a qt6c0cv9 a8nywdso i1ao9s8h esuyzwwr f1sip0of lzcic4wl gmql0nx0 p8dawk7l\" href=\"/marketplace/item/202131951210157/\" role=\"link\" tabindex=\"0\"><div class=\"j83agx80 cbu4d94t l9j0dhe7\"><div class=\"k4urcfbm l9j0dhe7\"><div class=\"kr520xx4 j9ispegn l9j0dhe7 stjgntxs ni8dbmo4 n7fi1qx3 i09qtzwb kzx2olss aot14ch1 p86d2i9g beltcj47 t63ysoy8 linmgsc8 hop1g133 opwvks06\"><div class=\"beltcj47 p86d2i9g aot14ch1 kzx2olss ni8dbmo4 stjgntxs d5it6em2 l9j0dhe7 k4urcfbm\"><div class=\"j83agx80 lhclo0ds ihdl84by pmk7jnqg h119xb3h iylxurvu bo2ra7bd\"><div class=\"rq0escxv j83agx80 buofh1pr datstx6m ggysqto6 exrn9cbp ojkyduve abpf7j7b l9j0dhe7 k4urcfbm\"><img alt=\"Aluga-se sala comercial no grupo Toledo\" class=\"idiwt2bm bixrwtb6 ni8dbmo4 stjgntxs k4urcfbm\" src=\"https://scontent.fbfh9-1.fna.fbcdn.net/v/t1.0-0/c69.0.260.260a/p261x260/92134333_2652943154833715_182851961974947840_n.jpg?_nc_cat=106&amp;_nc_sid=843cd7&amp;_nc_ohc=52382w_xoWcAX-l8j1r&amp;_nc_ht=scontent.fbfh9-1.fna&amp;oh=c458cc34f3d0ba23378f4cd5ab15f0a8&amp;oe=5F217979\"></div></div></div></div></div><div class=\"rq0escxv j83agx80 cbu4d94t i1fnvgqd muag1w35 cxgpxx05 sj5x9vvc k4urcfbm cnmiy0wd gql6s8nh\"><div class=\"rs0gx3tq bakzw9nt\"><span class=\"j83agx80\"><div class=\"a8nywdso e5nlhep0 rz4wbd8a ecm0bbzt btwxx1t3 j83agx80\"><span class=\"oi732d6d ik7dh3pa d2edcug0 qv66sw1b c1et5uql a8c37x1j s89635nw ew0dbk1b a5q79mjw g1cxx5fr lrazzd5p oo9gr5id\" dir=\"auto\">R$&nbsp;600</span></div></span></div><div class=\"rs0gx3tq bakzw9nt\"><span aria-hidden=\"true\"><div class=\"a8nywdso e5nlhep0 rz4wbd8a linoseic\"><span class=\"oi732d6d ik7dh3pa d2edcug0 qv66sw1b c1et5uql a8c37x1j muag1w35 enqfppq2 jq4qci2q a3bd9o3v knj5qynh oo9gr5id\" dir=\"auto\"><div class=\"l9j0dhe7 stjgntxs ni8dbmo4\" style=\"display: -webkit-box; -webkit-box-orient: vertical; -webkit-line-clamp: 2;\">Aluga-se sala comercial</div></span></div></span></div><div class=\"rs0gx3tq bakzw9nt\"><span aria-hidden=\"true\"><div class=\"a8nywdso e5nlhep0 rz4wbd8a ecm0bbzt\"><span class=\"oi732d6d ik7dh3pa d2edcug0 qv66sw1b c1et5uql a8c37x1j hop8lmos enqfppq2 e9vueds3 j5wam9gi knj5qynh m9osqain ni8dbmo4 stjgntxs ltmttdrg g0qnabr5\" dir=\"auto\">Toledo</span></div></span></div></div></div></a>"
      ],
      "text/plain": [
       "<IPython.core.display.HTML object>"
      ]
     },
     "metadata": {},
     "output_type": "display_data"
    },
    {
     "name": "stdout",
     "output_type": "stream",
     "text": [
      "R$ 750\n",
      "Habitazi Imobiliária Aluga Apartamento 2 quartos - Próximo a PUC e UTFPR Toledo - PR.\n",
      "Toledo\n"
     ]
    },
    {
     "data": {
      "text/html": [
       "<a class=\"oajrlxb2 g5ia77u1 qu0x051f esr5mh6w e9989ue4 r7d6kgcz rq0escxv nhd2j8a9 nc684nl6 p7hjln8o kvgmc6g5 cxmmr5t8 oygrvhab hcukyx3x jb3vyjys rz4wbd8a qt6c0cv9 a8nywdso i1ao9s8h esuyzwwr f1sip0of lzcic4wl gmql0nx0 p8dawk7l\" href=\"/marketplace/item/3125966254163947/\" role=\"link\" tabindex=\"0\"><div class=\"j83agx80 cbu4d94t l9j0dhe7\"><div class=\"k4urcfbm l9j0dhe7\"><div class=\"kr520xx4 j9ispegn l9j0dhe7 stjgntxs ni8dbmo4 n7fi1qx3 i09qtzwb kzx2olss aot14ch1 p86d2i9g beltcj47 t63ysoy8 linmgsc8 hop1g133 opwvks06\"><div class=\"beltcj47 p86d2i9g aot14ch1 kzx2olss ni8dbmo4 stjgntxs d5it6em2 l9j0dhe7 k4urcfbm\"><div class=\"j83agx80 lhclo0ds ihdl84by pmk7jnqg h119xb3h iylxurvu bo2ra7bd\"><div class=\"rq0escxv j83agx80 buofh1pr datstx6m ggysqto6 exrn9cbp ojkyduve abpf7j7b l9j0dhe7 k4urcfbm\"><img alt=\"Habitazi Imobiliária Aluga Apartamento 2 quartos - Próximo a PUC e UTFPR Toledo - PR. no grupo Toledo\" class=\"idiwt2bm bixrwtb6 ni8dbmo4 stjgntxs k4urcfbm\" src=\"https://scontent.fbfh9-1.fna.fbcdn.net/v/t1.0-0/c0.106.960.960a/s261x260/93777874_2790285261191321_1409903481124290560_o.jpg?_nc_cat=111&amp;_nc_sid=843cd7&amp;_nc_ohc=L-Z9zELVAO4AX-kuB_9&amp;_nc_ht=scontent.fbfh9-1.fna&amp;oh=0cd01a699bb75d757db551d18846e291&amp;oe=5F2028BC\"></div></div></div></div></div><div class=\"rq0escxv j83agx80 cbu4d94t i1fnvgqd muag1w35 cxgpxx05 sj5x9vvc k4urcfbm cnmiy0wd gql6s8nh\"><div class=\"rs0gx3tq bakzw9nt\"><span class=\"j83agx80\"><div class=\"a8nywdso e5nlhep0 rz4wbd8a ecm0bbzt btwxx1t3 j83agx80\"><span class=\"oi732d6d ik7dh3pa d2edcug0 qv66sw1b c1et5uql a8c37x1j s89635nw ew0dbk1b a5q79mjw g1cxx5fr lrazzd5p oo9gr5id\" dir=\"auto\">R$&nbsp;750</span></div></span></div><div class=\"rs0gx3tq bakzw9nt\"><span aria-hidden=\"true\"><div class=\"a8nywdso e5nlhep0 rz4wbd8a linoseic\"><span class=\"oi732d6d ik7dh3pa d2edcug0 qv66sw1b c1et5uql a8c37x1j muag1w35 enqfppq2 jq4qci2q a3bd9o3v knj5qynh oo9gr5id\" dir=\"auto\"><div class=\"l9j0dhe7 stjgntxs ni8dbmo4\" style=\"display: -webkit-box; -webkit-box-orient: vertical; -webkit-line-clamp: 2;\">Habitazi Imobiliária Aluga Apartamento 2 quartos - Próximo a PUC e UTFPR Toledo - PR.</div></span></div></span></div><div class=\"rs0gx3tq bakzw9nt\"><span aria-hidden=\"true\"><div class=\"a8nywdso e5nlhep0 rz4wbd8a ecm0bbzt\"><span class=\"oi732d6d ik7dh3pa d2edcug0 qv66sw1b c1et5uql a8c37x1j hop8lmos enqfppq2 e9vueds3 j5wam9gi knj5qynh m9osqain ni8dbmo4 stjgntxs ltmttdrg g0qnabr5\" dir=\"auto\">Toledo</span></div></span></div></div></div></a>"
      ],
      "text/plain": [
       "<IPython.core.display.HTML object>"
      ]
     },
     "metadata": {},
     "output_type": "display_data"
    },
    {
     "name": "stdout",
     "output_type": "stream",
     "text": [
      "R$ 750\n",
      "2 quartos 1 banheiro - Apartamento\n",
      "Toledo\n"
     ]
    },
    {
     "data": {
      "text/html": [
       "<a class=\"oajrlxb2 g5ia77u1 qu0x051f esr5mh6w e9989ue4 r7d6kgcz rq0escxv nhd2j8a9 nc684nl6 p7hjln8o kvgmc6g5 cxmmr5t8 oygrvhab hcukyx3x jb3vyjys rz4wbd8a qt6c0cv9 a8nywdso i1ao9s8h esuyzwwr f1sip0of lzcic4wl gmql0nx0 p8dawk7l\" href=\"/marketplace/item/3480145262002923/\" role=\"link\" tabindex=\"0\"><div class=\"j83agx80 cbu4d94t l9j0dhe7\"><div class=\"k4urcfbm l9j0dhe7\"><div class=\"kr520xx4 j9ispegn l9j0dhe7 stjgntxs ni8dbmo4 n7fi1qx3 i09qtzwb kzx2olss aot14ch1 p86d2i9g beltcj47 t63ysoy8 linmgsc8 hop1g133 opwvks06\"><div class=\"beltcj47 p86d2i9g aot14ch1 kzx2olss ni8dbmo4 stjgntxs d5it6em2 l9j0dhe7 k4urcfbm\"><div class=\"j83agx80 lhclo0ds ihdl84by pmk7jnqg h119xb3h iylxurvu bo2ra7bd\"><div class=\"rq0escxv j83agx80 buofh1pr datstx6m ggysqto6 exrn9cbp ojkyduve abpf7j7b l9j0dhe7 k4urcfbm\"><img alt=\"2 quartos 1 banheiro - Apartamento no grupo Toledo\" class=\"idiwt2bm bixrwtb6 ni8dbmo4 stjgntxs k4urcfbm\" src=\"https://scontent.fbfh9-1.fna.fbcdn.net/v/t1.0-0/c0.79.720.720a/s261x260/93780106_918988245201917_4645069678232731648_n.jpg?_nc_cat=110&amp;_nc_sid=843cd7&amp;_nc_ohc=DWJVrdh6szMAX-kWSE5&amp;_nc_ht=scontent.fbfh9-1.fna&amp;oh=87bb42fb26b07eb6c6b143c0b9361e33&amp;oe=5F1FE4E9\"></div></div></div></div></div><div class=\"rq0escxv j83agx80 cbu4d94t i1fnvgqd muag1w35 cxgpxx05 sj5x9vvc k4urcfbm cnmiy0wd gql6s8nh\"><div class=\"rs0gx3tq bakzw9nt\"><span class=\"j83agx80\"><div class=\"a8nywdso e5nlhep0 rz4wbd8a ecm0bbzt btwxx1t3 j83agx80\"><span class=\"oi732d6d ik7dh3pa d2edcug0 qv66sw1b c1et5uql a8c37x1j s89635nw ew0dbk1b a5q79mjw g1cxx5fr lrazzd5p oo9gr5id\" dir=\"auto\">R$&nbsp;750</span></div></span></div><div class=\"rs0gx3tq bakzw9nt\"><span aria-hidden=\"true\"><div class=\"a8nywdso e5nlhep0 rz4wbd8a linoseic\"><span class=\"oi732d6d ik7dh3pa d2edcug0 qv66sw1b c1et5uql a8c37x1j muag1w35 enqfppq2 jq4qci2q a3bd9o3v knj5qynh oo9gr5id\" dir=\"auto\"><div class=\"l9j0dhe7 stjgntxs ni8dbmo4\" style=\"display: -webkit-box; -webkit-box-orient: vertical; -webkit-line-clamp: 2;\">2 quartos 1 banheiro - Apartamento</div></span></div></span></div><div class=\"rs0gx3tq bakzw9nt\"><span aria-hidden=\"true\"><div class=\"a8nywdso e5nlhep0 rz4wbd8a ecm0bbzt\"><span class=\"oi732d6d ik7dh3pa d2edcug0 qv66sw1b c1et5uql a8c37x1j hop8lmos enqfppq2 e9vueds3 j5wam9gi knj5qynh m9osqain ni8dbmo4 stjgntxs ltmttdrg g0qnabr5\" dir=\"auto\">Toledo</span></div></span></div></div></div></a>"
      ],
      "text/plain": [
       "<IPython.core.display.HTML object>"
      ]
     },
     "metadata": {},
     "output_type": "display_data"
    },
    {
     "name": "stdout",
     "output_type": "stream",
     "text": [
      "R$ 500\n",
      "Alugo\n",
      "Toledo\n"
     ]
    },
    {
     "data": {
      "text/html": [
       "<a class=\"oajrlxb2 g5ia77u1 qu0x051f esr5mh6w e9989ue4 r7d6kgcz rq0escxv nhd2j8a9 nc684nl6 p7hjln8o kvgmc6g5 cxmmr5t8 oygrvhab hcukyx3x jb3vyjys rz4wbd8a qt6c0cv9 a8nywdso i1ao9s8h esuyzwwr f1sip0of lzcic4wl gmql0nx0 p8dawk7l\" href=\"/marketplace/item/549219265959399/\" role=\"link\" tabindex=\"0\"><div class=\"j83agx80 cbu4d94t l9j0dhe7\"><div class=\"k4urcfbm l9j0dhe7\"><div class=\"kr520xx4 j9ispegn l9j0dhe7 stjgntxs ni8dbmo4 n7fi1qx3 i09qtzwb kzx2olss aot14ch1 p86d2i9g beltcj47 t63ysoy8 linmgsc8 hop1g133 opwvks06\"><div class=\"beltcj47 p86d2i9g aot14ch1 kzx2olss ni8dbmo4 stjgntxs d5it6em2 l9j0dhe7 k4urcfbm\"><div class=\"j83agx80 lhclo0ds ihdl84by pmk7jnqg h119xb3h iylxurvu bo2ra7bd\"><div class=\"rq0escxv j83agx80 buofh1pr datstx6m ggysqto6 exrn9cbp ojkyduve abpf7j7b l9j0dhe7 k4urcfbm\"><img alt=\"Alugo no grupo Toledo\" class=\"idiwt2bm bixrwtb6 ni8dbmo4 stjgntxs k4urcfbm\" src=\"https://scontent.fbfh9-1.fna.fbcdn.net/v/t1.0-0/c43.0.260.260a/p261x260/100507785_2966681203424998_2643081079631642624_o.jpg?_nc_cat=109&amp;_nc_sid=843cd7&amp;_nc_ohc=UtCwT3dgVlsAX8InbJf&amp;_nc_ht=scontent.fbfh9-1.fna&amp;oh=32342ade4354f8850d9dfd079e3e8dc9&amp;oe=5F1E8903\"></div></div></div></div></div><div class=\"rq0escxv j83agx80 cbu4d94t i1fnvgqd muag1w35 cxgpxx05 sj5x9vvc k4urcfbm cnmiy0wd gql6s8nh\"><div class=\"rs0gx3tq bakzw9nt\"><span class=\"j83agx80\"><div class=\"a8nywdso e5nlhep0 rz4wbd8a ecm0bbzt btwxx1t3 j83agx80\"><span class=\"oi732d6d ik7dh3pa d2edcug0 qv66sw1b c1et5uql a8c37x1j s89635nw ew0dbk1b a5q79mjw g1cxx5fr lrazzd5p oo9gr5id\" dir=\"auto\">R$&nbsp;500</span></div></span></div><div class=\"rs0gx3tq bakzw9nt\"><span aria-hidden=\"true\"><div class=\"a8nywdso e5nlhep0 rz4wbd8a linoseic\"><span class=\"oi732d6d ik7dh3pa d2edcug0 qv66sw1b c1et5uql a8c37x1j muag1w35 enqfppq2 jq4qci2q a3bd9o3v knj5qynh oo9gr5id\" dir=\"auto\"><div class=\"l9j0dhe7 stjgntxs ni8dbmo4\" style=\"display: -webkit-box; -webkit-box-orient: vertical; -webkit-line-clamp: 2;\">Alugo</div></span></div></span></div><div class=\"rs0gx3tq bakzw9nt\"><span aria-hidden=\"true\"><div class=\"a8nywdso e5nlhep0 rz4wbd8a ecm0bbzt\"><span class=\"oi732d6d ik7dh3pa d2edcug0 qv66sw1b c1et5uql a8c37x1j hop8lmos enqfppq2 e9vueds3 j5wam9gi knj5qynh m9osqain ni8dbmo4 stjgntxs ltmttdrg g0qnabr5\" dir=\"auto\">Toledo</span></div></span></div></div></div></a>"
      ],
      "text/plain": [
       "<IPython.core.display.HTML object>"
      ]
     },
     "metadata": {},
     "output_type": "display_data"
    },
    {
     "name": "stdout",
     "output_type": "stream",
     "text": [
      "R$ 650\n",
      "Sala comercial\n",
      "Toledo\n"
     ]
    },
    {
     "data": {
      "text/html": [
       "<a class=\"oajrlxb2 g5ia77u1 qu0x051f esr5mh6w e9989ue4 r7d6kgcz rq0escxv nhd2j8a9 nc684nl6 p7hjln8o kvgmc6g5 cxmmr5t8 oygrvhab hcukyx3x jb3vyjys rz4wbd8a qt6c0cv9 a8nywdso i1ao9s8h esuyzwwr f1sip0of lzcic4wl gmql0nx0 p8dawk7l\" href=\"/marketplace/item/2877564082298529/\" role=\"link\" tabindex=\"0\"><div class=\"j83agx80 cbu4d94t l9j0dhe7\"><div class=\"k4urcfbm l9j0dhe7\"><div class=\"kr520xx4 j9ispegn l9j0dhe7 stjgntxs ni8dbmo4 n7fi1qx3 i09qtzwb kzx2olss aot14ch1 p86d2i9g beltcj47 t63ysoy8 linmgsc8 hop1g133 opwvks06\"><div class=\"beltcj47 p86d2i9g aot14ch1 kzx2olss ni8dbmo4 stjgntxs d5it6em2 l9j0dhe7 k4urcfbm\"><div class=\"j83agx80 lhclo0ds ihdl84by pmk7jnqg h119xb3h iylxurvu bo2ra7bd\"><div class=\"rq0escxv j83agx80 buofh1pr datstx6m ggysqto6 exrn9cbp ojkyduve abpf7j7b l9j0dhe7 k4urcfbm\"><img alt=\"Sala comercial no grupo Toledo\" class=\"idiwt2bm bixrwtb6 ni8dbmo4 stjgntxs k4urcfbm\" src=\"https://scontent.fbfh9-1.fna.fbcdn.net/v/t1.0-0/c0.130.565.565a/s261x260/98089026_10223424288980480_8233007828856471552_n.jpg?_nc_cat=111&amp;_nc_sid=843cd7&amp;_nc_ohc=XVXs6F13AHIAX_SyQtP&amp;_nc_ht=scontent.fbfh9-1.fna&amp;oh=6783d3e102f32581e15c5c395618121d&amp;oe=5F1F8170\"></div></div></div></div></div><div class=\"rq0escxv j83agx80 cbu4d94t i1fnvgqd muag1w35 cxgpxx05 sj5x9vvc k4urcfbm cnmiy0wd gql6s8nh\"><div class=\"rs0gx3tq bakzw9nt\"><span class=\"j83agx80\"><div class=\"a8nywdso e5nlhep0 rz4wbd8a ecm0bbzt btwxx1t3 j83agx80\"><span class=\"oi732d6d ik7dh3pa d2edcug0 qv66sw1b c1et5uql a8c37x1j s89635nw ew0dbk1b a5q79mjw g1cxx5fr lrazzd5p oo9gr5id\" dir=\"auto\">R$&nbsp;650</span></div></span></div><div class=\"rs0gx3tq bakzw9nt\"><span aria-hidden=\"true\"><div class=\"a8nywdso e5nlhep0 rz4wbd8a linoseic\"><span class=\"oi732d6d ik7dh3pa d2edcug0 qv66sw1b c1et5uql a8c37x1j muag1w35 enqfppq2 jq4qci2q a3bd9o3v knj5qynh oo9gr5id\" dir=\"auto\"><div class=\"l9j0dhe7 stjgntxs ni8dbmo4\" style=\"display: -webkit-box; -webkit-box-orient: vertical; -webkit-line-clamp: 2;\">Sala comercial</div></span></div></span></div><div class=\"rs0gx3tq bakzw9nt\"><span aria-hidden=\"true\"><div class=\"a8nywdso e5nlhep0 rz4wbd8a ecm0bbzt\"><span class=\"oi732d6d ik7dh3pa d2edcug0 qv66sw1b c1et5uql a8c37x1j hop8lmos enqfppq2 e9vueds3 j5wam9gi knj5qynh m9osqain ni8dbmo4 stjgntxs ltmttdrg g0qnabr5\" dir=\"auto\">Toledo</span></div></span></div></div></div></a>"
      ],
      "text/plain": [
       "<IPython.core.display.HTML object>"
      ]
     },
     "metadata": {},
     "output_type": "display_data"
    },
    {
     "name": "stdout",
     "output_type": "stream",
     "text": [
      "end\n"
     ]
    }
   ],
   "source": [
    "palavras = ['apartamento','kitnet', 'quitnet', 'apto', 'casa', 'dividir', 'Apto', 'quarto', 'mobiliada', 'Quarto', 'Toledo', 'toledo', 'Cascavel', 'cascavel']\n",
    "chosen = {}\n",
    "count = 0\n",
    "for element in elements:\n",
    "    for palavra in palavras:\n",
    "        if 'R$' in element.text and palavra in element.text:\n",
    "            if element.text not in chosen.values():\n",
    "                chosen[count] = element.text\n",
    "                print(element.text)\n",
    "                display(HTML(element.get_attribute('outerHTML')))\n",
    "                count+=1"
   ]
  },
  {
   "cell_type": "code",
   "execution_count": 31,
   "metadata": {
    "scrolled": true
   },
   "outputs": [],
   "source": [
    "# Cria um arquivo .csv com as informações do scrapping\n",
    "import csv\n",
    "with open('imoveis.csv', 'w', encoding='utf-8') as csvfile:\n",
    "    writer = csv.writer(csvfile,delimiter=',', quotechar='\"', quoting=csv.QUOTE_MINIMAL)\n",
    "    writer.writerow([\"Preço\", \"Imóvel\", \"Local\"])\n",
    "    for key, value in chosen.items():\n",
    "        v = value.split('\\n')\n",
    "        price = v[0]\n",
    "        texto = v[1].replace(',', ' ')\n",
    "        local = v[2].replace(',', ' ')\n",
    "        writer.writerow([price, texto, local])\n",
    "\n",
    "        "
   ]
  },
  {
   "cell_type": "code",
   "execution_count": null,
   "metadata": {},
   "outputs": [],
   "source": []
  }
 ],
 "metadata": {
  "kernelspec": {
   "display_name": "Python 3",
   "language": "python",
   "name": "python3"
  },
  "language_info": {
   "codemirror_mode": {
    "name": "ipython",
    "version": 3
   },
   "file_extension": ".py",
   "mimetype": "text/x-python",
   "name": "python",
   "nbconvert_exporter": "python",
   "pygments_lexer": "ipython3",
   "version": "3.7.6"
  }
 },
 "nbformat": 4,
 "nbformat_minor": 4
}
