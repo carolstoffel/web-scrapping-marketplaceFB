{
 "cells": [
  {
   "cell_type": "code",
   "execution_count": 10,
   "metadata": {},
   "outputs": [],
   "source": [
    "from selenium import webdriver\n",
    "from selenium.webdriver.support.ui import WebDriverWait\n",
    "from selenium.webdriver.support import expected_conditions as EC\n",
    "from selenium.webdriver.common.by import By\n",
    "from selenium.webdriver.common.keys import Keys\n",
    "import pandas as pd\n",
    "import time\n",
    "from IPython.core.display import display, HTML\n",
    "from datetime import datetime\n",
    "\n",
    "chrome_options = webdriver.ChromeOptions()\n",
    "chrome_options.add_argument('--no-sandbox')\n",
    "chrome_path = 'C:\\\\Users\\\\carol\\\\Desktop\\\\Python\\\\Projects\\\\web-scraping\\\\chromedriver\\\\chromedriver.exe' # caminho onde o chromedriver está\n",
    "driver = webdriver.Chrome(executable_path = chrome_path)\n",
    "\n",
    "min_price = 200\n",
    "max_price = 800\n",
    "query = 'toledo'\n",
    "\n",
    "url='https://www.facebook.com/marketplace/110246492337509/search/?minPrice={}&maxPrice={}&query={}&category_id=propertyrentals&exact=false'.format(min_price, max_price, query)\n",
    "\n",
    "driver.get(url)\n",
    "\n",
    "time.sleep(3)\n",
    "elements = driver.find_elements_by_class_name('oajrlxb2')\n"
   ]
  },
  {
   "cell_type": "code",
   "execution_count": 11,
   "metadata": {},
   "outputs": [
    {
     "name": "stdout",
     "output_type": "stream",
     "text": [
      "R$ 500\n",
      "Salas Comerciais no Centro!!\n",
      "Toledo, PR\n"
     ]
    },
    {
     "data": {
      "text/html": [
       "<a class=\"oajrlxb2 g5ia77u1 qu0x051f esr5mh6w e9989ue4 r7d6kgcz rq0escxv nhd2j8a9 nc684nl6 p7hjln8o kvgmc6g5 cxmmr5t8 oygrvhab hcukyx3x jb3vyjys rz4wbd8a qt6c0cv9 a8nywdso i1ao9s8h esuyzwwr f1sip0of lzcic4wl gmql0nx0 p8dawk7l\" href=\"/marketplace/item/553933518820195/?ref=search&amp;referral_code=undefined\" role=\"link\" tabindex=\"0\"><div class=\"j83agx80 cbu4d94t l9j0dhe7\"><div class=\"l9j0dhe7\"><div class=\"k4urcfbm l9j0dhe7\"><div class=\"kr520xx4 j9ispegn l9j0dhe7 stjgntxs ni8dbmo4 n7fi1qx3 i09qtzwb kzx2olss aot14ch1 p86d2i9g beltcj47 t63ysoy8 linmgsc8 hop1g133 opwvks06\"><div class=\"beltcj47 p86d2i9g aot14ch1 kzx2olss ni8dbmo4 stjgntxs d5it6em2 l9j0dhe7 k4urcfbm\"><div class=\"j83agx80 lhclo0ds ihdl84by pmk7jnqg h119xb3h iylxurvu bo2ra7bd\"><div class=\"rq0escxv j83agx80 buofh1pr datstx6m ggysqto6 exrn9cbp ojkyduve abpf7j7b l9j0dhe7 k4urcfbm\"><img alt=\"Salas Comerciais no Centro!! no grupo Toledo, PR\" class=\"idiwt2bm bixrwtb6 ni8dbmo4 stjgntxs k4urcfbm\" src=\"https://scontent.ftow4-1.fna.fbcdn.net/v/t1.0-0/c43.0.260.260a/p261x260/105499990_3229210503814674_4506753195958067492_o.jpg?_nc_cat=105&amp;ccb=2&amp;_nc_sid=843cd7&amp;_nc_ohc=o_mLHIc_mGgAX_4EnMn&amp;_nc_ht=scontent.ftow4-1.fna&amp;tp=27&amp;oh=2a1332a489e72dc90ad4227e15934e1d&amp;oe=5FFC2468\"></div></div></div></div></div></div><div class=\"rq0escxv j83agx80 cbu4d94t i1fnvgqd muag1w35 pybr56ya f10w8fjw k4urcfbm c7r68pdi suyy3zvx\"><div class=\"aahdfvyu fsotbgu8\"><span class=\"j83agx80\"><div class=\"a8nywdso e5nlhep0 rz4wbd8a ecm0bbzt btwxx1t3 j83agx80\"><div class=\"hlyrhctz\"><span class=\"d2edcug0 hpfvmrgz qv66sw1b c1et5uql rrkovp55 a8c37x1j keod5gw0 nxhoafnm aigsh9s9 d3f4x2em fe6kdd0r mau55g9w c8b282yb mdeji52x a5q79mjw g1cxx5fr lrazzd5p oo9gr5id\" dir=\"auto\">R$&nbsp;500</span></div><div class=\"mkhogb32 f0t0fhil\"><span class=\"d2edcug0 hpfvmrgz qv66sw1b c1et5uql rrkovp55 a8c37x1j keod5gw0 nxhoafnm aigsh9s9 d3f4x2em fe6kdd0r mau55g9w c8b282yb iv3no6db jq4qci2q a3bd9o3v ekzkrbhg oo9gr5id\" dir=\"auto\">R$&nbsp;500</span></div></div></span></div><div class=\"aahdfvyu fsotbgu8\"><span aria-hidden=\"true\"><div class=\"a8nywdso e5nlhep0 rz4wbd8a linoseic\"><span class=\"d2edcug0 hpfvmrgz qv66sw1b c1et5uql rrkovp55 a8c37x1j keod5gw0 nxhoafnm aigsh9s9 d3f4x2em fe6kdd0r mau55g9w c8b282yb iv3no6db jq4qci2q a3bd9o3v knj5qynh oo9gr5id\" dir=\"auto\"><span class=\"a8c37x1j ni8dbmo4 stjgntxs l9j0dhe7\" style=\"-webkit-box-orient: vertical; -webkit-line-clamp: 2; display: -webkit-box;\">Salas Comerciais no Centro!!</span></span></div></span></div><div class=\"aahdfvyu fsotbgu8\"><span aria-hidden=\"true\"><div class=\"a8nywdso e5nlhep0 rz4wbd8a ecm0bbzt\"><span class=\"d2edcug0 hpfvmrgz qv66sw1b c1et5uql rrkovp55 a8c37x1j keod5gw0 nxhoafnm aigsh9s9 d9wwppkn fe6kdd0r mau55g9w c8b282yb iv3no6db e9vueds3 j5wam9gi knj5qynh m9osqain\" dir=\"auto\"><span class=\"a8c37x1j ni8dbmo4 stjgntxs l9j0dhe7 ltmttdrg g0qnabr5 ojkyduve\">Toledo, PR</span></span></div></span></div></div></div></a>"
      ],
      "text/plain": [
       "<IPython.core.display.HTML object>"
      ]
     },
     "metadata": {},
     "output_type": "display_data"
    },
    {
     "name": "stdout",
     "output_type": "stream",
     "text": [
      "R$ 580\n",
      "Aluga kitinete 1 quart s c b lav centro\n",
      "Toledo, PR\n"
     ]
    },
    {
     "data": {
      "text/html": [
       "<a class=\"oajrlxb2 g5ia77u1 qu0x051f esr5mh6w e9989ue4 r7d6kgcz rq0escxv nhd2j8a9 nc684nl6 p7hjln8o kvgmc6g5 cxmmr5t8 oygrvhab hcukyx3x jb3vyjys rz4wbd8a qt6c0cv9 a8nywdso i1ao9s8h esuyzwwr f1sip0of lzcic4wl gmql0nx0 p8dawk7l\" href=\"/marketplace/item/300286284377078/?ref=search&amp;referral_code=undefined\" role=\"link\" tabindex=\"0\"><div class=\"j83agx80 cbu4d94t l9j0dhe7\"><div class=\"l9j0dhe7\"><div class=\"k4urcfbm l9j0dhe7\"><div class=\"kr520xx4 j9ispegn l9j0dhe7 stjgntxs ni8dbmo4 n7fi1qx3 i09qtzwb kzx2olss aot14ch1 p86d2i9g beltcj47 t63ysoy8 linmgsc8 hop1g133 opwvks06\"><div class=\"beltcj47 p86d2i9g aot14ch1 kzx2olss ni8dbmo4 stjgntxs d5it6em2 l9j0dhe7 k4urcfbm\"><div class=\"j83agx80 lhclo0ds ihdl84by pmk7jnqg h119xb3h iylxurvu bo2ra7bd\"><div class=\"rq0escxv j83agx80 buofh1pr datstx6m ggysqto6 exrn9cbp ojkyduve abpf7j7b l9j0dhe7 k4urcfbm\"><img alt=\"Aluga  kitinete 1 quart s c b lav centro no grupo Toledo, PR\" class=\"idiwt2bm bixrwtb6 ni8dbmo4 stjgntxs k4urcfbm\" src=\"https://scontent.ftow4-1.fna.fbcdn.net/v/t1.0-0/c43.0.260.260a/p261x260/117909715_134836104982412_2956537120839170795_o.jpg?_nc_cat=103&amp;ccb=2&amp;_nc_sid=843cd7&amp;_nc_ohc=6ucLrg5IFUEAX_UUYzm&amp;_nc_ht=scontent.ftow4-1.fna&amp;tp=27&amp;oh=ea09511512452e7c45bd4a2bd091f3f3&amp;oe=5FF8C021\"></div></div></div></div></div></div><div class=\"rq0escxv j83agx80 cbu4d94t i1fnvgqd muag1w35 pybr56ya f10w8fjw k4urcfbm c7r68pdi suyy3zvx\"><div class=\"aahdfvyu fsotbgu8\"><span class=\"j83agx80\"><div class=\"a8nywdso e5nlhep0 rz4wbd8a ecm0bbzt btwxx1t3 j83agx80\"><div class=\"hlyrhctz\"><span class=\"d2edcug0 hpfvmrgz qv66sw1b c1et5uql rrkovp55 a8c37x1j keod5gw0 nxhoafnm aigsh9s9 d3f4x2em fe6kdd0r mau55g9w c8b282yb mdeji52x a5q79mjw g1cxx5fr lrazzd5p oo9gr5id\" dir=\"auto\">R$&nbsp;580</span></div><div class=\"mkhogb32 f0t0fhil\"><span class=\"d2edcug0 hpfvmrgz qv66sw1b c1et5uql rrkovp55 a8c37x1j keod5gw0 nxhoafnm aigsh9s9 d3f4x2em fe6kdd0r mau55g9w c8b282yb iv3no6db jq4qci2q a3bd9o3v ekzkrbhg oo9gr5id\" dir=\"auto\">R$&nbsp;580</span></div></div></span></div><div class=\"aahdfvyu fsotbgu8\"><span aria-hidden=\"true\"><div class=\"a8nywdso e5nlhep0 rz4wbd8a linoseic\"><span class=\"d2edcug0 hpfvmrgz qv66sw1b c1et5uql rrkovp55 a8c37x1j keod5gw0 nxhoafnm aigsh9s9 d3f4x2em fe6kdd0r mau55g9w c8b282yb iv3no6db jq4qci2q a3bd9o3v knj5qynh oo9gr5id\" dir=\"auto\"><span class=\"a8c37x1j ni8dbmo4 stjgntxs l9j0dhe7\" style=\"-webkit-box-orient: vertical; -webkit-line-clamp: 2; display: -webkit-box;\">Aluga  kitinete 1 quart s c b lav centro</span></span></div></span></div><div class=\"aahdfvyu fsotbgu8\"><span aria-hidden=\"true\"><div class=\"a8nywdso e5nlhep0 rz4wbd8a ecm0bbzt\"><span class=\"d2edcug0 hpfvmrgz qv66sw1b c1et5uql rrkovp55 a8c37x1j keod5gw0 nxhoafnm aigsh9s9 d9wwppkn fe6kdd0r mau55g9w c8b282yb iv3no6db e9vueds3 j5wam9gi knj5qynh m9osqain\" dir=\"auto\"><span class=\"a8c37x1j ni8dbmo4 stjgntxs l9j0dhe7 ltmttdrg g0qnabr5 ojkyduve\">Toledo, PR</span></span></div></span></div></div></div></a>"
      ],
      "text/plain": [
       "<IPython.core.display.HTML object>"
      ]
     },
     "metadata": {},
     "output_type": "display_data"
    },
    {
     "name": "stdout",
     "output_type": "stream",
     "text": [
      "R$ 690\n",
      "Aluga Apartamento\n",
      "Toledo, PR\n"
     ]
    },
    {
     "data": {
      "text/html": [
       "<a class=\"oajrlxb2 g5ia77u1 qu0x051f esr5mh6w e9989ue4 r7d6kgcz rq0escxv nhd2j8a9 nc684nl6 p7hjln8o kvgmc6g5 cxmmr5t8 oygrvhab hcukyx3x jb3vyjys rz4wbd8a qt6c0cv9 a8nywdso i1ao9s8h esuyzwwr f1sip0of lzcic4wl gmql0nx0 p8dawk7l\" href=\"/marketplace/item/3349718075146082/?ref=search&amp;referral_code=undefined\" role=\"link\" tabindex=\"0\"><div class=\"j83agx80 cbu4d94t l9j0dhe7\"><div class=\"l9j0dhe7\"><div class=\"k4urcfbm l9j0dhe7\"><div class=\"kr520xx4 j9ispegn l9j0dhe7 stjgntxs ni8dbmo4 n7fi1qx3 i09qtzwb kzx2olss aot14ch1 p86d2i9g beltcj47 t63ysoy8 linmgsc8 hop1g133 opwvks06\"><div class=\"beltcj47 p86d2i9g aot14ch1 kzx2olss ni8dbmo4 stjgntxs d5it6em2 l9j0dhe7 k4urcfbm\"><div class=\"j83agx80 lhclo0ds ihdl84by pmk7jnqg h119xb3h iylxurvu bo2ra7bd\"><div class=\"rq0escxv j83agx80 buofh1pr datstx6m ggysqto6 exrn9cbp ojkyduve abpf7j7b l9j0dhe7 k4urcfbm\"><img alt=\"Aluga Apartamento no grupo Toledo, PR\" class=\"idiwt2bm bixrwtb6 ni8dbmo4 stjgntxs k4urcfbm\" src=\"https://scontent.ftow4-1.fna.fbcdn.net/v/t1.0-0/c43.0.260.260a/p261x260/124045716_3640108979391489_3933833674620962331_o.jpg?_nc_cat=102&amp;ccb=2&amp;_nc_sid=843cd7&amp;_nc_ohc=_Hv4XdQky1AAX-poetN&amp;_nc_ht=scontent.ftow4-1.fna&amp;tp=27&amp;oh=ef52def4c12639adb11f8ae60e5a3bfb&amp;oe=5FFACC4E\"></div></div></div></div></div></div><div class=\"rq0escxv j83agx80 cbu4d94t i1fnvgqd muag1w35 pybr56ya f10w8fjw k4urcfbm c7r68pdi suyy3zvx\"><div class=\"aahdfvyu fsotbgu8\"><span class=\"j83agx80\"><div class=\"a8nywdso e5nlhep0 rz4wbd8a ecm0bbzt btwxx1t3 j83agx80\"><div class=\"hlyrhctz\"><span class=\"d2edcug0 hpfvmrgz qv66sw1b c1et5uql rrkovp55 a8c37x1j keod5gw0 nxhoafnm aigsh9s9 d3f4x2em fe6kdd0r mau55g9w c8b282yb mdeji52x a5q79mjw g1cxx5fr lrazzd5p oo9gr5id\" dir=\"auto\">R$&nbsp;690</span></div><div class=\"mkhogb32 f0t0fhil\"><span class=\"d2edcug0 hpfvmrgz qv66sw1b c1et5uql rrkovp55 a8c37x1j keod5gw0 nxhoafnm aigsh9s9 d3f4x2em fe6kdd0r mau55g9w c8b282yb iv3no6db jq4qci2q a3bd9o3v ekzkrbhg oo9gr5id\" dir=\"auto\">R$&nbsp;690</span></div></div></span></div><div class=\"aahdfvyu fsotbgu8\"><span aria-hidden=\"true\"><div class=\"a8nywdso e5nlhep0 rz4wbd8a linoseic\"><span class=\"d2edcug0 hpfvmrgz qv66sw1b c1et5uql rrkovp55 a8c37x1j keod5gw0 nxhoafnm aigsh9s9 d3f4x2em fe6kdd0r mau55g9w c8b282yb iv3no6db jq4qci2q a3bd9o3v knj5qynh oo9gr5id\" dir=\"auto\"><span class=\"a8c37x1j ni8dbmo4 stjgntxs l9j0dhe7\" style=\"-webkit-box-orient: vertical; -webkit-line-clamp: 2; display: -webkit-box;\">Aluga Apartamento</span></span></div></span></div><div class=\"aahdfvyu fsotbgu8\"><span aria-hidden=\"true\"><div class=\"a8nywdso e5nlhep0 rz4wbd8a ecm0bbzt\"><span class=\"d2edcug0 hpfvmrgz qv66sw1b c1et5uql rrkovp55 a8c37x1j keod5gw0 nxhoafnm aigsh9s9 d9wwppkn fe6kdd0r mau55g9w c8b282yb iv3no6db e9vueds3 j5wam9gi knj5qynh m9osqain\" dir=\"auto\"><span class=\"a8c37x1j ni8dbmo4 stjgntxs l9j0dhe7 ltmttdrg g0qnabr5 ojkyduve\">Toledo, PR</span></span></div></span></div></div></div></a>"
      ],
      "text/plain": [
       "<IPython.core.display.HTML object>"
      ]
     },
     "metadata": {},
     "output_type": "display_data"
    },
    {
     "name": "stdout",
     "output_type": "stream",
     "text": [
      "R$ 400\n",
      "Alugo casa\n"
     ]
    },
    {
     "data": {
      "text/html": [
       "<a class=\"oajrlxb2 g5ia77u1 qu0x051f esr5mh6w e9989ue4 r7d6kgcz rq0escxv nhd2j8a9 nc684nl6 p7hjln8o kvgmc6g5 cxmmr5t8 oygrvhab hcukyx3x jb3vyjys rz4wbd8a qt6c0cv9 a8nywdso i1ao9s8h esuyzwwr f1sip0of lzcic4wl gmql0nx0 p8dawk7l\" href=\"/marketplace/item/3142446645855222/?ref=search&amp;referral_code=undefined\" role=\"link\" tabindex=\"0\"><div class=\"j83agx80 cbu4d94t l9j0dhe7\"><div class=\"l9j0dhe7\"><div class=\"k4urcfbm l9j0dhe7\"><div class=\"kr520xx4 j9ispegn l9j0dhe7 stjgntxs ni8dbmo4 n7fi1qx3 i09qtzwb kzx2olss aot14ch1 p86d2i9g beltcj47 t63ysoy8 linmgsc8 hop1g133 opwvks06\"><div class=\"beltcj47 p86d2i9g aot14ch1 kzx2olss ni8dbmo4 stjgntxs d5it6em2 l9j0dhe7 k4urcfbm\"><div class=\"j83agx80 lhclo0ds ihdl84by pmk7jnqg h119xb3h iylxurvu bo2ra7bd\"><div class=\"rq0escxv j83agx80 buofh1pr datstx6m ggysqto6 exrn9cbp ojkyduve abpf7j7b l9j0dhe7 k4urcfbm\"><img alt=\"Alugo casa no grupo undefined\" class=\"idiwt2bm bixrwtb6 ni8dbmo4 stjgntxs k4urcfbm\" src=\"https://scontent.ftow4-1.fna.fbcdn.net/v/t45.5328-4/c0.373.960.960a/p960x960/131093467_3104290909670814_1902558671210854086_n.jpg?_nc_cat=100&amp;ccb=2&amp;_nc_sid=c48759&amp;_nc_ohc=B5nl49-Tav0AX8AMhZA&amp;_nc_ht=scontent.ftow4-1.fna&amp;tp=27&amp;oh=8f479264ef9229412e532587db44bce2&amp;oe=5FFBD2FF\"></div></div></div></div></div></div><div class=\"rq0escxv j83agx80 cbu4d94t i1fnvgqd muag1w35 pybr56ya f10w8fjw k4urcfbm c7r68pdi suyy3zvx\"><div class=\"aahdfvyu fsotbgu8\"><span class=\"j83agx80\"><div class=\"a8nywdso e5nlhep0 rz4wbd8a ecm0bbzt btwxx1t3 j83agx80\"><div class=\"hlyrhctz\"><span class=\"d2edcug0 hpfvmrgz qv66sw1b c1et5uql rrkovp55 a8c37x1j keod5gw0 nxhoafnm aigsh9s9 d3f4x2em fe6kdd0r mau55g9w c8b282yb mdeji52x a5q79mjw g1cxx5fr lrazzd5p oo9gr5id\" dir=\"auto\">R$&nbsp;400</span></div><div class=\"mkhogb32 f0t0fhil\"><span class=\"d2edcug0 hpfvmrgz qv66sw1b c1et5uql rrkovp55 a8c37x1j keod5gw0 nxhoafnm aigsh9s9 d3f4x2em fe6kdd0r mau55g9w c8b282yb iv3no6db jq4qci2q a3bd9o3v ekzkrbhg oo9gr5id\" dir=\"auto\">R$&nbsp;400</span></div></div></span></div><div class=\"aahdfvyu fsotbgu8\"><span aria-hidden=\"true\"><div class=\"a8nywdso e5nlhep0 rz4wbd8a linoseic\"><span class=\"d2edcug0 hpfvmrgz qv66sw1b c1et5uql rrkovp55 a8c37x1j keod5gw0 nxhoafnm aigsh9s9 d3f4x2em fe6kdd0r mau55g9w c8b282yb iv3no6db jq4qci2q a3bd9o3v knj5qynh oo9gr5id\" dir=\"auto\"><span class=\"a8c37x1j ni8dbmo4 stjgntxs l9j0dhe7\" style=\"-webkit-box-orient: vertical; -webkit-line-clamp: 2; display: -webkit-box;\">Alugo casa</span></span></div></span></div></div></div></a>"
      ],
      "text/plain": [
       "<IPython.core.display.HTML object>"
      ]
     },
     "metadata": {},
     "output_type": "display_data"
    },
    {
     "name": "stdout",
     "output_type": "stream",
     "text": [
      "R$ 650\n",
      "Aluga Apartamento Vila Industrial\n",
      "Toledo, PR\n"
     ]
    },
    {
     "data": {
      "text/html": [
       "<a class=\"oajrlxb2 g5ia77u1 qu0x051f esr5mh6w e9989ue4 r7d6kgcz rq0escxv nhd2j8a9 nc684nl6 p7hjln8o kvgmc6g5 cxmmr5t8 oygrvhab hcukyx3x jb3vyjys rz4wbd8a qt6c0cv9 a8nywdso i1ao9s8h esuyzwwr f1sip0of lzcic4wl gmql0nx0 p8dawk7l\" href=\"/marketplace/item/138419281132337/?ref=search&amp;referral_code=undefined\" role=\"link\" tabindex=\"0\"><div class=\"j83agx80 cbu4d94t l9j0dhe7\"><div class=\"l9j0dhe7\"><div class=\"k4urcfbm l9j0dhe7\"><div class=\"kr520xx4 j9ispegn l9j0dhe7 stjgntxs ni8dbmo4 n7fi1qx3 i09qtzwb kzx2olss aot14ch1 p86d2i9g beltcj47 t63ysoy8 linmgsc8 hop1g133 opwvks06\"><div class=\"beltcj47 p86d2i9g aot14ch1 kzx2olss ni8dbmo4 stjgntxs d5it6em2 l9j0dhe7 k4urcfbm\"><div class=\"j83agx80 lhclo0ds ihdl84by pmk7jnqg h119xb3h iylxurvu bo2ra7bd\"><div class=\"rq0escxv j83agx80 buofh1pr datstx6m ggysqto6 exrn9cbp ojkyduve abpf7j7b l9j0dhe7 k4urcfbm\"><img alt=\"Aluga Apartamento Vila Industrial no grupo Toledo, PR\" class=\"idiwt2bm bixrwtb6 ni8dbmo4 stjgntxs k4urcfbm\" src=\"https://scontent.ftow4-1.fna.fbcdn.net/v/t1.0-0/c0.106.960.960a/s261x260/129524844_3710793005656419_8102211974776697068_o.jpg?_nc_cat=110&amp;ccb=2&amp;_nc_sid=843cd7&amp;_nc_ohc=QrarM9S2cz0AX86BPdL&amp;_nc_ht=scontent.ftow4-1.fna&amp;tp=28&amp;oh=e3955bb1d2f0d8ac775a9798b88c44a0&amp;oe=5FFC84C9\"></div></div></div></div></div></div><div class=\"rq0escxv j83agx80 cbu4d94t i1fnvgqd muag1w35 pybr56ya f10w8fjw k4urcfbm c7r68pdi suyy3zvx\"><div class=\"aahdfvyu fsotbgu8\"><span class=\"j83agx80\"><div class=\"a8nywdso e5nlhep0 rz4wbd8a ecm0bbzt btwxx1t3 j83agx80\"><div class=\"hlyrhctz\"><span class=\"d2edcug0 hpfvmrgz qv66sw1b c1et5uql rrkovp55 a8c37x1j keod5gw0 nxhoafnm aigsh9s9 d3f4x2em fe6kdd0r mau55g9w c8b282yb mdeji52x a5q79mjw g1cxx5fr lrazzd5p oo9gr5id\" dir=\"auto\">R$&nbsp;650</span></div><div class=\"mkhogb32 f0t0fhil\"><span class=\"d2edcug0 hpfvmrgz qv66sw1b c1et5uql rrkovp55 a8c37x1j keod5gw0 nxhoafnm aigsh9s9 d3f4x2em fe6kdd0r mau55g9w c8b282yb iv3no6db jq4qci2q a3bd9o3v ekzkrbhg oo9gr5id\" dir=\"auto\">R$&nbsp;650</span></div></div></span></div><div class=\"aahdfvyu fsotbgu8\"><span aria-hidden=\"true\"><div class=\"a8nywdso e5nlhep0 rz4wbd8a linoseic\"><span class=\"d2edcug0 hpfvmrgz qv66sw1b c1et5uql rrkovp55 a8c37x1j keod5gw0 nxhoafnm aigsh9s9 d3f4x2em fe6kdd0r mau55g9w c8b282yb iv3no6db jq4qci2q a3bd9o3v knj5qynh oo9gr5id\" dir=\"auto\"><span class=\"a8c37x1j ni8dbmo4 stjgntxs l9j0dhe7\" style=\"-webkit-box-orient: vertical; -webkit-line-clamp: 2; display: -webkit-box;\">Aluga Apartamento Vila Industrial</span></span></div></span></div><div class=\"aahdfvyu fsotbgu8\"><span aria-hidden=\"true\"><div class=\"a8nywdso e5nlhep0 rz4wbd8a ecm0bbzt\"><span class=\"d2edcug0 hpfvmrgz qv66sw1b c1et5uql rrkovp55 a8c37x1j keod5gw0 nxhoafnm aigsh9s9 d9wwppkn fe6kdd0r mau55g9w c8b282yb iv3no6db e9vueds3 j5wam9gi knj5qynh m9osqain\" dir=\"auto\"><span class=\"a8c37x1j ni8dbmo4 stjgntxs l9j0dhe7 ltmttdrg g0qnabr5 ojkyduve\">Toledo, PR</span></span></div></span></div></div></div></a>"
      ],
      "text/plain": [
       "<IPython.core.display.HTML object>"
      ]
     },
     "metadata": {},
     "output_type": "display_data"
    },
    {
     "name": "stdout",
     "output_type": "stream",
     "text": [
      "R$ 680\n",
      "Aluga Apartamento Centro\n",
      "Toledo, PR\n"
     ]
    },
    {
     "data": {
      "text/html": [
       "<a class=\"oajrlxb2 g5ia77u1 qu0x051f esr5mh6w e9989ue4 r7d6kgcz rq0escxv nhd2j8a9 nc684nl6 p7hjln8o kvgmc6g5 cxmmr5t8 oygrvhab hcukyx3x jb3vyjys rz4wbd8a qt6c0cv9 a8nywdso i1ao9s8h esuyzwwr f1sip0of lzcic4wl gmql0nx0 p8dawk7l\" href=\"/marketplace/item/921830484981596/?ref=search&amp;referral_code=undefined\" role=\"link\" tabindex=\"0\"><div class=\"j83agx80 cbu4d94t l9j0dhe7\"><div class=\"l9j0dhe7\"><div class=\"k4urcfbm l9j0dhe7\"><div class=\"kr520xx4 j9ispegn l9j0dhe7 stjgntxs ni8dbmo4 n7fi1qx3 i09qtzwb kzx2olss aot14ch1 p86d2i9g beltcj47 t63ysoy8 linmgsc8 hop1g133 opwvks06\"><div class=\"beltcj47 p86d2i9g aot14ch1 kzx2olss ni8dbmo4 stjgntxs d5it6em2 l9j0dhe7 k4urcfbm\"><div class=\"j83agx80 lhclo0ds ihdl84by pmk7jnqg h119xb3h iylxurvu bo2ra7bd\"><div class=\"rq0escxv j83agx80 buofh1pr datstx6m ggysqto6 exrn9cbp ojkyduve abpf7j7b l9j0dhe7 k4urcfbm\"><img alt=\"Aluga Apartamento Centro no grupo Toledo, PR\" class=\"idiwt2bm bixrwtb6 ni8dbmo4 stjgntxs k4urcfbm\" src=\"https://scontent.ftow4-1.fna.fbcdn.net/v/t1.0-0/c0.29.261.261a/p235x350/117592631_3370721706330219_510900013167721767_o.jpg?_nc_cat=111&amp;ccb=2&amp;_nc_sid=843cd7&amp;_nc_ohc=GW7jtK6QNNEAX_yuSK0&amp;_nc_ht=scontent.ftow4-1.fna&amp;tp=27&amp;oh=92d70dd6fa7cc5b302de12cd9b050f72&amp;oe=5FFB59EE\"></div></div></div></div></div></div><div class=\"rq0escxv j83agx80 cbu4d94t i1fnvgqd muag1w35 pybr56ya f10w8fjw k4urcfbm c7r68pdi suyy3zvx\"><div class=\"aahdfvyu fsotbgu8\"><span class=\"j83agx80\"><div class=\"a8nywdso e5nlhep0 rz4wbd8a ecm0bbzt btwxx1t3 j83agx80\"><div class=\"hlyrhctz\"><span class=\"d2edcug0 hpfvmrgz qv66sw1b c1et5uql rrkovp55 a8c37x1j keod5gw0 nxhoafnm aigsh9s9 d3f4x2em fe6kdd0r mau55g9w c8b282yb mdeji52x a5q79mjw g1cxx5fr lrazzd5p oo9gr5id\" dir=\"auto\">R$&nbsp;680</span></div><div class=\"mkhogb32 f0t0fhil\"><span class=\"d2edcug0 hpfvmrgz qv66sw1b c1et5uql rrkovp55 a8c37x1j keod5gw0 nxhoafnm aigsh9s9 d3f4x2em fe6kdd0r mau55g9w c8b282yb iv3no6db jq4qci2q a3bd9o3v ekzkrbhg oo9gr5id\" dir=\"auto\">R$&nbsp;680</span></div></div></span></div><div class=\"aahdfvyu fsotbgu8\"><span aria-hidden=\"true\"><div class=\"a8nywdso e5nlhep0 rz4wbd8a linoseic\"><span class=\"d2edcug0 hpfvmrgz qv66sw1b c1et5uql rrkovp55 a8c37x1j keod5gw0 nxhoafnm aigsh9s9 d3f4x2em fe6kdd0r mau55g9w c8b282yb iv3no6db jq4qci2q a3bd9o3v knj5qynh oo9gr5id\" dir=\"auto\"><span class=\"a8c37x1j ni8dbmo4 stjgntxs l9j0dhe7\" style=\"-webkit-box-orient: vertical; -webkit-line-clamp: 2; display: -webkit-box;\">Aluga Apartamento Centro</span></span></div></span></div><div class=\"aahdfvyu fsotbgu8\"><span aria-hidden=\"true\"><div class=\"a8nywdso e5nlhep0 rz4wbd8a ecm0bbzt\"><span class=\"d2edcug0 hpfvmrgz qv66sw1b c1et5uql rrkovp55 a8c37x1j keod5gw0 nxhoafnm aigsh9s9 d9wwppkn fe6kdd0r mau55g9w c8b282yb iv3no6db e9vueds3 j5wam9gi knj5qynh m9osqain\" dir=\"auto\"><span class=\"a8c37x1j ni8dbmo4 stjgntxs l9j0dhe7 ltmttdrg g0qnabr5 ojkyduve\">Toledo, PR</span></span></div></span></div></div></div></a>"
      ],
      "text/plain": [
       "<IPython.core.display.HTML object>"
      ]
     },
     "metadata": {},
     "output_type": "display_data"
    },
    {
     "name": "stdout",
     "output_type": "stream",
     "text": [
      "R$ 700\n",
      "Aluga Apartamento Próximo a Prati\n",
      "Toledo, PR\n"
     ]
    },
    {
     "data": {
      "text/html": [
       "<a class=\"oajrlxb2 g5ia77u1 qu0x051f esr5mh6w e9989ue4 r7d6kgcz rq0escxv nhd2j8a9 nc684nl6 p7hjln8o kvgmc6g5 cxmmr5t8 oygrvhab hcukyx3x jb3vyjys rz4wbd8a qt6c0cv9 a8nywdso i1ao9s8h esuyzwwr f1sip0of lzcic4wl gmql0nx0 p8dawk7l\" href=\"/marketplace/item/425376708481182/?ref=search&amp;referral_code=undefined\" role=\"link\" tabindex=\"0\"><div class=\"j83agx80 cbu4d94t l9j0dhe7\"><div class=\"l9j0dhe7\"><div class=\"k4urcfbm l9j0dhe7\"><div class=\"kr520xx4 j9ispegn l9j0dhe7 stjgntxs ni8dbmo4 n7fi1qx3 i09qtzwb kzx2olss aot14ch1 p86d2i9g beltcj47 t63ysoy8 linmgsc8 hop1g133 opwvks06\"><div class=\"beltcj47 p86d2i9g aot14ch1 kzx2olss ni8dbmo4 stjgntxs d5it6em2 l9j0dhe7 k4urcfbm\"><div class=\"j83agx80 lhclo0ds ihdl84by pmk7jnqg h119xb3h iylxurvu bo2ra7bd\"><div class=\"rq0escxv j83agx80 buofh1pr datstx6m ggysqto6 exrn9cbp ojkyduve abpf7j7b l9j0dhe7 k4urcfbm\"><img alt=\"Aluga Apartamento Próximo a Prati no grupo Toledo, PR\" class=\"idiwt2bm bixrwtb6 ni8dbmo4 stjgntxs k4urcfbm\" src=\"https://scontent.ftow4-1.fna.fbcdn.net/v/t1.0-0/c0.106.960.960a/s261x260/127796843_3691199887615731_2567679520296190455_o.jpg?_nc_cat=103&amp;ccb=2&amp;_nc_sid=843cd7&amp;_nc_ohc=Vm9Dypemp8cAX9y1b7A&amp;_nc_ht=scontent.ftow4-1.fna&amp;tp=28&amp;oh=9bb2486b7ccc2993f188a007dd62b88e&amp;oe=5FFA09FE\"></div></div></div></div></div></div><div class=\"rq0escxv j83agx80 cbu4d94t i1fnvgqd muag1w35 pybr56ya f10w8fjw k4urcfbm c7r68pdi suyy3zvx\"><div class=\"aahdfvyu fsotbgu8\"><span class=\"j83agx80\"><div class=\"a8nywdso e5nlhep0 rz4wbd8a ecm0bbzt btwxx1t3 j83agx80\"><div class=\"hlyrhctz\"><span class=\"d2edcug0 hpfvmrgz qv66sw1b c1et5uql rrkovp55 a8c37x1j keod5gw0 nxhoafnm aigsh9s9 d3f4x2em fe6kdd0r mau55g9w c8b282yb mdeji52x a5q79mjw g1cxx5fr lrazzd5p oo9gr5id\" dir=\"auto\">R$&nbsp;700</span></div><div class=\"mkhogb32 f0t0fhil\"><span class=\"d2edcug0 hpfvmrgz qv66sw1b c1et5uql rrkovp55 a8c37x1j keod5gw0 nxhoafnm aigsh9s9 d3f4x2em fe6kdd0r mau55g9w c8b282yb iv3no6db jq4qci2q a3bd9o3v ekzkrbhg oo9gr5id\" dir=\"auto\">R$&nbsp;700</span></div></div></span></div><div class=\"aahdfvyu fsotbgu8\"><span aria-hidden=\"true\"><div class=\"a8nywdso e5nlhep0 rz4wbd8a linoseic\"><span class=\"d2edcug0 hpfvmrgz qv66sw1b c1et5uql rrkovp55 a8c37x1j keod5gw0 nxhoafnm aigsh9s9 d3f4x2em fe6kdd0r mau55g9w c8b282yb iv3no6db jq4qci2q a3bd9o3v knj5qynh oo9gr5id\" dir=\"auto\"><span class=\"a8c37x1j ni8dbmo4 stjgntxs l9j0dhe7\" style=\"-webkit-box-orient: vertical; -webkit-line-clamp: 2; display: -webkit-box;\">Aluga Apartamento Próximo a Prati</span></span></div></span></div><div class=\"aahdfvyu fsotbgu8\"><span aria-hidden=\"true\"><div class=\"a8nywdso e5nlhep0 rz4wbd8a ecm0bbzt\"><span class=\"d2edcug0 hpfvmrgz qv66sw1b c1et5uql rrkovp55 a8c37x1j keod5gw0 nxhoafnm aigsh9s9 d9wwppkn fe6kdd0r mau55g9w c8b282yb iv3no6db e9vueds3 j5wam9gi knj5qynh m9osqain\" dir=\"auto\"><span class=\"a8c37x1j ni8dbmo4 stjgntxs l9j0dhe7 ltmttdrg g0qnabr5 ojkyduve\">Toledo, PR</span></span></div></span></div></div></div></a>"
      ],
      "text/plain": [
       "<IPython.core.display.HTML object>"
      ]
     },
     "metadata": {},
     "output_type": "display_data"
    },
    {
     "name": "stdout",
     "output_type": "stream",
     "text": [
      "R$ 690\n",
      "Aluga Apartamento Jardim Concordia\n",
      "Toledo, PR\n"
     ]
    },
    {
     "data": {
      "text/html": [
       "<a class=\"oajrlxb2 g5ia77u1 qu0x051f esr5mh6w e9989ue4 r7d6kgcz rq0escxv nhd2j8a9 nc684nl6 p7hjln8o kvgmc6g5 cxmmr5t8 oygrvhab hcukyx3x jb3vyjys rz4wbd8a qt6c0cv9 a8nywdso i1ao9s8h esuyzwwr f1sip0of lzcic4wl gmql0nx0 p8dawk7l\" href=\"/marketplace/item/371960260534773/?ref=search&amp;referral_code=undefined\" role=\"link\" tabindex=\"0\"><div class=\"j83agx80 cbu4d94t l9j0dhe7\"><div class=\"l9j0dhe7\"><div class=\"k4urcfbm l9j0dhe7\"><div class=\"kr520xx4 j9ispegn l9j0dhe7 stjgntxs ni8dbmo4 n7fi1qx3 i09qtzwb kzx2olss aot14ch1 p86d2i9g beltcj47 t63ysoy8 linmgsc8 hop1g133 opwvks06\"><div class=\"beltcj47 p86d2i9g aot14ch1 kzx2olss ni8dbmo4 stjgntxs d5it6em2 l9j0dhe7 k4urcfbm\"><div class=\"j83agx80 lhclo0ds ihdl84by pmk7jnqg h119xb3h iylxurvu bo2ra7bd\"><div class=\"rq0escxv j83agx80 buofh1pr datstx6m ggysqto6 exrn9cbp ojkyduve abpf7j7b l9j0dhe7 k4urcfbm\"><img alt=\"Aluga Apartamento Jardim Concordia no grupo Toledo, PR\" class=\"idiwt2bm bixrwtb6 ni8dbmo4 stjgntxs k4urcfbm\" src=\"https://scontent.ftow4-1.fna.fbcdn.net/v/t1.0-0/c43.0.260.260a/p261x260/128874829_3710785802323806_155048121543830221_o.jpg?_nc_cat=106&amp;ccb=2&amp;_nc_sid=843cd7&amp;_nc_ohc=s-LKSyk9REMAX8IHDkT&amp;_nc_ht=scontent.ftow4-1.fna&amp;tp=27&amp;oh=7255029f79844e7b5d62e4faf42f26ec&amp;oe=5FFB7EF1\"></div></div></div></div></div></div><div class=\"rq0escxv j83agx80 cbu4d94t i1fnvgqd muag1w35 pybr56ya f10w8fjw k4urcfbm c7r68pdi suyy3zvx\"><div class=\"aahdfvyu fsotbgu8\"><span class=\"j83agx80\"><div class=\"a8nywdso e5nlhep0 rz4wbd8a ecm0bbzt btwxx1t3 j83agx80\"><div class=\"hlyrhctz\"><span class=\"d2edcug0 hpfvmrgz qv66sw1b c1et5uql rrkovp55 a8c37x1j keod5gw0 nxhoafnm aigsh9s9 d3f4x2em fe6kdd0r mau55g9w c8b282yb mdeji52x a5q79mjw g1cxx5fr lrazzd5p oo9gr5id\" dir=\"auto\">R$&nbsp;690</span></div><div class=\"mkhogb32 f0t0fhil\"><span class=\"d2edcug0 hpfvmrgz qv66sw1b c1et5uql rrkovp55 a8c37x1j keod5gw0 nxhoafnm aigsh9s9 d3f4x2em fe6kdd0r mau55g9w c8b282yb iv3no6db jq4qci2q a3bd9o3v ekzkrbhg oo9gr5id\" dir=\"auto\">R$&nbsp;690</span></div></div></span></div><div class=\"aahdfvyu fsotbgu8\"><span aria-hidden=\"true\"><div class=\"a8nywdso e5nlhep0 rz4wbd8a linoseic\"><span class=\"d2edcug0 hpfvmrgz qv66sw1b c1et5uql rrkovp55 a8c37x1j keod5gw0 nxhoafnm aigsh9s9 d3f4x2em fe6kdd0r mau55g9w c8b282yb iv3no6db jq4qci2q a3bd9o3v knj5qynh oo9gr5id\" dir=\"auto\"><span class=\"a8c37x1j ni8dbmo4 stjgntxs l9j0dhe7\" style=\"-webkit-box-orient: vertical; -webkit-line-clamp: 2; display: -webkit-box;\">Aluga Apartamento Jardim Concordia</span></span></div></span></div><div class=\"aahdfvyu fsotbgu8\"><span aria-hidden=\"true\"><div class=\"a8nywdso e5nlhep0 rz4wbd8a ecm0bbzt\"><span class=\"d2edcug0 hpfvmrgz qv66sw1b c1et5uql rrkovp55 a8c37x1j keod5gw0 nxhoafnm aigsh9s9 d9wwppkn fe6kdd0r mau55g9w c8b282yb iv3no6db e9vueds3 j5wam9gi knj5qynh m9osqain\" dir=\"auto\"><span class=\"a8c37x1j ni8dbmo4 stjgntxs l9j0dhe7 ltmttdrg g0qnabr5 ojkyduve\">Toledo, PR</span></span></div></span></div></div></div></a>"
      ],
      "text/plain": [
       "<IPython.core.display.HTML object>"
      ]
     },
     "metadata": {},
     "output_type": "display_data"
    },
    {
     "name": "stdout",
     "output_type": "stream",
     "text": [
      "R$ 700\n",
      "3 quartos 2 banheiros Apartamento\n",
      "Campo Mourão, PR\n"
     ]
    },
    {
     "data": {
      "text/html": [
       "<a class=\"oajrlxb2 g5ia77u1 qu0x051f esr5mh6w e9989ue4 r7d6kgcz rq0escxv nhd2j8a9 nc684nl6 p7hjln8o kvgmc6g5 cxmmr5t8 oygrvhab hcukyx3x jb3vyjys rz4wbd8a qt6c0cv9 a8nywdso i1ao9s8h esuyzwwr f1sip0of lzcic4wl gmql0nx0 p8dawk7l\" href=\"/marketplace/item/378866683363008/?ref=search&amp;referral_code=undefined\" role=\"link\" tabindex=\"0\"><div class=\"j83agx80 cbu4d94t l9j0dhe7\"><div class=\"l9j0dhe7\"><div class=\"k4urcfbm l9j0dhe7\"><div class=\"kr520xx4 j9ispegn l9j0dhe7 stjgntxs ni8dbmo4 n7fi1qx3 i09qtzwb kzx2olss aot14ch1 p86d2i9g beltcj47 t63ysoy8 linmgsc8 hop1g133 opwvks06\"><div class=\"beltcj47 p86d2i9g aot14ch1 kzx2olss ni8dbmo4 stjgntxs d5it6em2 l9j0dhe7 k4urcfbm\"><div class=\"j83agx80 lhclo0ds ihdl84by pmk7jnqg h119xb3h iylxurvu bo2ra7bd\"><div class=\"rq0escxv j83agx80 buofh1pr datstx6m ggysqto6 exrn9cbp ojkyduve abpf7j7b l9j0dhe7 k4urcfbm\"><img alt=\"3 quartos 2 banheiros Apartamento no grupo Campo Mourão, PR\" class=\"idiwt2bm bixrwtb6 ni8dbmo4 stjgntxs k4urcfbm\" src=\"https://scontent.ftow4-1.fna.fbcdn.net/v/t1.0-0/c87.0.260.260a/p261x260/126898584_1822818164535555_9038901939451708031_n.jpg?_nc_cat=110&amp;ccb=2&amp;_nc_sid=843cd7&amp;_nc_ohc=zjQ8oDvdoc0AX8SXRBa&amp;_nc_oc=AQmPKt193g-2JvyE53ajjn9Sm9-pssNCre9qDruBjl6fV9odMpzGmBPjDITnjvhQeGE&amp;_nc_ht=scontent.ftow4-1.fna&amp;tp=27&amp;oh=8dba94cc9ef5c42e91ae3c58c328811a&amp;oe=5FF99AF1\"></div></div></div></div></div></div><div class=\"rq0escxv j83agx80 cbu4d94t i1fnvgqd muag1w35 pybr56ya f10w8fjw k4urcfbm c7r68pdi suyy3zvx\"><div class=\"aahdfvyu fsotbgu8\"><span class=\"j83agx80\"><div class=\"a8nywdso e5nlhep0 rz4wbd8a ecm0bbzt btwxx1t3 j83agx80\"><div class=\"hlyrhctz\"><span class=\"d2edcug0 hpfvmrgz qv66sw1b c1et5uql rrkovp55 a8c37x1j keod5gw0 nxhoafnm aigsh9s9 d3f4x2em fe6kdd0r mau55g9w c8b282yb mdeji52x a5q79mjw g1cxx5fr lrazzd5p oo9gr5id\" dir=\"auto\">R$&nbsp;700</span></div><div class=\"mkhogb32 f0t0fhil\"><span class=\"d2edcug0 hpfvmrgz qv66sw1b c1et5uql rrkovp55 a8c37x1j keod5gw0 nxhoafnm aigsh9s9 d3f4x2em fe6kdd0r mau55g9w c8b282yb iv3no6db jq4qci2q a3bd9o3v ekzkrbhg oo9gr5id\" dir=\"auto\">R$&nbsp;700</span></div></div></span></div><div class=\"aahdfvyu fsotbgu8\"><span aria-hidden=\"true\"><div class=\"a8nywdso e5nlhep0 rz4wbd8a linoseic\"><span class=\"d2edcug0 hpfvmrgz qv66sw1b c1et5uql rrkovp55 a8c37x1j keod5gw0 nxhoafnm aigsh9s9 d3f4x2em fe6kdd0r mau55g9w c8b282yb iv3no6db jq4qci2q a3bd9o3v knj5qynh oo9gr5id\" dir=\"auto\"><span class=\"a8c37x1j ni8dbmo4 stjgntxs l9j0dhe7\" style=\"-webkit-box-orient: vertical; -webkit-line-clamp: 2; display: -webkit-box;\">3 quartos 2 banheiros Apartamento</span></span></div></span></div><div class=\"aahdfvyu fsotbgu8\"><span aria-hidden=\"true\"><div class=\"a8nywdso e5nlhep0 rz4wbd8a ecm0bbzt\"><span class=\"d2edcug0 hpfvmrgz qv66sw1b c1et5uql rrkovp55 a8c37x1j keod5gw0 nxhoafnm aigsh9s9 d9wwppkn fe6kdd0r mau55g9w c8b282yb iv3no6db e9vueds3 j5wam9gi knj5qynh m9osqain\" dir=\"auto\"><span class=\"a8c37x1j ni8dbmo4 stjgntxs l9j0dhe7 ltmttdrg g0qnabr5 ojkyduve\">Campo Mourão, PR</span></span></div></span></div></div></div></a>"
      ],
      "text/plain": [
       "<IPython.core.display.HTML object>"
      ]
     },
     "metadata": {},
     "output_type": "display_data"
    },
    {
     "name": "stdout",
     "output_type": "stream",
     "text": [
      "R$ 670\n",
      "Aluga-se\n",
      "Toledo, PR\n"
     ]
    },
    {
     "data": {
      "text/html": [
       "<a class=\"oajrlxb2 g5ia77u1 qu0x051f esr5mh6w e9989ue4 r7d6kgcz rq0escxv nhd2j8a9 nc684nl6 p7hjln8o kvgmc6g5 cxmmr5t8 oygrvhab hcukyx3x jb3vyjys rz4wbd8a qt6c0cv9 a8nywdso i1ao9s8h esuyzwwr f1sip0of lzcic4wl gmql0nx0 p8dawk7l\" href=\"/marketplace/item/326347718406548/?ref=search&amp;referral_code=undefined\" role=\"link\" tabindex=\"0\"><div class=\"j83agx80 cbu4d94t l9j0dhe7\"><div class=\"l9j0dhe7\"><div class=\"k4urcfbm l9j0dhe7\"><div class=\"kr520xx4 j9ispegn l9j0dhe7 stjgntxs ni8dbmo4 n7fi1qx3 i09qtzwb kzx2olss aot14ch1 p86d2i9g beltcj47 t63ysoy8 linmgsc8 hop1g133 opwvks06\"><div class=\"beltcj47 p86d2i9g aot14ch1 kzx2olss ni8dbmo4 stjgntxs d5it6em2 l9j0dhe7 k4urcfbm\"><div class=\"j83agx80 lhclo0ds ihdl84by pmk7jnqg h119xb3h iylxurvu bo2ra7bd\"><div class=\"rq0escxv j83agx80 buofh1pr datstx6m ggysqto6 exrn9cbp ojkyduve abpf7j7b l9j0dhe7 k4urcfbm\"><img alt=\"Aluga-se no grupo Toledo, PR\" class=\"idiwt2bm bixrwtb6 ni8dbmo4 stjgntxs k4urcfbm\" src=\"https://scontent.ftow4-1.fna.fbcdn.net/v/t1.0-0/c43.0.260.260a/p261x260/116729779_3249812521738440_5560113803044052223_o.jpg?_nc_cat=104&amp;ccb=2&amp;_nc_sid=843cd7&amp;_nc_ohc=t9hAq6esxZkAX8oQabJ&amp;_nc_ht=scontent.ftow4-1.fna&amp;tp=27&amp;oh=b57c870ce23d8a22489578968915d994&amp;oe=5FFC96E3\"></div></div></div></div></div></div><div class=\"rq0escxv j83agx80 cbu4d94t i1fnvgqd muag1w35 pybr56ya f10w8fjw k4urcfbm c7r68pdi suyy3zvx\"><div class=\"aahdfvyu fsotbgu8\"><span class=\"j83agx80\"><div class=\"a8nywdso e5nlhep0 rz4wbd8a ecm0bbzt btwxx1t3 j83agx80\"><div class=\"hlyrhctz\"><span class=\"d2edcug0 hpfvmrgz qv66sw1b c1et5uql rrkovp55 a8c37x1j keod5gw0 nxhoafnm aigsh9s9 d3f4x2em fe6kdd0r mau55g9w c8b282yb mdeji52x a5q79mjw g1cxx5fr lrazzd5p oo9gr5id\" dir=\"auto\">R$&nbsp;670</span></div><div class=\"mkhogb32 f0t0fhil\"><span class=\"d2edcug0 hpfvmrgz qv66sw1b c1et5uql rrkovp55 a8c37x1j keod5gw0 nxhoafnm aigsh9s9 d3f4x2em fe6kdd0r mau55g9w c8b282yb iv3no6db jq4qci2q a3bd9o3v ekzkrbhg oo9gr5id\" dir=\"auto\">R$&nbsp;670</span></div></div></span></div><div class=\"aahdfvyu fsotbgu8\"><span aria-hidden=\"true\"><div class=\"a8nywdso e5nlhep0 rz4wbd8a linoseic\"><span class=\"d2edcug0 hpfvmrgz qv66sw1b c1et5uql rrkovp55 a8c37x1j keod5gw0 nxhoafnm aigsh9s9 d3f4x2em fe6kdd0r mau55g9w c8b282yb iv3no6db jq4qci2q a3bd9o3v knj5qynh oo9gr5id\" dir=\"auto\"><span class=\"a8c37x1j ni8dbmo4 stjgntxs l9j0dhe7\" style=\"-webkit-box-orient: vertical; -webkit-line-clamp: 2; display: -webkit-box;\">Aluga-se</span></span></div></span></div><div class=\"aahdfvyu fsotbgu8\"><span aria-hidden=\"true\"><div class=\"a8nywdso e5nlhep0 rz4wbd8a ecm0bbzt\"><span class=\"d2edcug0 hpfvmrgz qv66sw1b c1et5uql rrkovp55 a8c37x1j keod5gw0 nxhoafnm aigsh9s9 d9wwppkn fe6kdd0r mau55g9w c8b282yb iv3no6db e9vueds3 j5wam9gi knj5qynh m9osqain\" dir=\"auto\"><span class=\"a8c37x1j ni8dbmo4 stjgntxs l9j0dhe7 ltmttdrg g0qnabr5 ojkyduve\">Toledo, PR</span></span></div></span></div></div></div></a>"
      ],
      "text/plain": [
       "<IPython.core.display.HTML object>"
      ]
     },
     "metadata": {},
     "output_type": "display_data"
    },
    {
     "name": "stdout",
     "output_type": "stream",
     "text": [
      "R$ 785\n",
      "Alugo\n",
      "Cascavel, PR\n"
     ]
    },
    {
     "data": {
      "text/html": [
       "<a class=\"oajrlxb2 g5ia77u1 qu0x051f esr5mh6w e9989ue4 r7d6kgcz rq0escxv nhd2j8a9 nc684nl6 p7hjln8o kvgmc6g5 cxmmr5t8 oygrvhab hcukyx3x jb3vyjys rz4wbd8a qt6c0cv9 a8nywdso i1ao9s8h esuyzwwr f1sip0of lzcic4wl gmql0nx0 p8dawk7l\" href=\"/marketplace/item/844495132760259/?ref=search&amp;referral_code=undefined\" role=\"link\" tabindex=\"0\"><div class=\"j83agx80 cbu4d94t l9j0dhe7\"><div class=\"l9j0dhe7\"><div class=\"k4urcfbm l9j0dhe7\"><div class=\"kr520xx4 j9ispegn l9j0dhe7 stjgntxs ni8dbmo4 n7fi1qx3 i09qtzwb kzx2olss aot14ch1 p86d2i9g beltcj47 t63ysoy8 linmgsc8 hop1g133 opwvks06\"><div class=\"beltcj47 p86d2i9g aot14ch1 kzx2olss ni8dbmo4 stjgntxs d5it6em2 l9j0dhe7 k4urcfbm\"><div class=\"j83agx80 lhclo0ds ihdl84by pmk7jnqg h119xb3h iylxurvu bo2ra7bd\"><div class=\"rq0escxv j83agx80 buofh1pr datstx6m ggysqto6 exrn9cbp ojkyduve abpf7j7b l9j0dhe7 k4urcfbm\"><img alt=\"Alugo no grupo Cascavel, PR\" class=\"idiwt2bm bixrwtb6 ni8dbmo4 stjgntxs k4urcfbm\" src=\"https://scontent.ftow4-1.fna.fbcdn.net/v/t1.0-0/c0.79.720.720a/s261x260/125838479_3128166883956097_6448126566140502786_n.jpg?_nc_cat=101&amp;ccb=2&amp;_nc_sid=843cd7&amp;_nc_ohc=qBKZv4Ya7gIAX8DaMYL&amp;_nc_ht=scontent.ftow4-1.fna&amp;tp=28&amp;oh=5978e88b331bb11e4244365f66b06f02&amp;oe=5FF9BF9C\"></div></div></div></div></div></div><div class=\"rq0escxv j83agx80 cbu4d94t i1fnvgqd muag1w35 pybr56ya f10w8fjw k4urcfbm c7r68pdi suyy3zvx\"><div class=\"aahdfvyu fsotbgu8\"><span class=\"j83agx80\"><div class=\"a8nywdso e5nlhep0 rz4wbd8a ecm0bbzt btwxx1t3 j83agx80\"><div class=\"hlyrhctz\"><span class=\"d2edcug0 hpfvmrgz qv66sw1b c1et5uql rrkovp55 a8c37x1j keod5gw0 nxhoafnm aigsh9s9 d3f4x2em fe6kdd0r mau55g9w c8b282yb mdeji52x a5q79mjw g1cxx5fr lrazzd5p oo9gr5id\" dir=\"auto\">R$&nbsp;785</span></div><div class=\"mkhogb32 f0t0fhil\"><span class=\"d2edcug0 hpfvmrgz qv66sw1b c1et5uql rrkovp55 a8c37x1j keod5gw0 nxhoafnm aigsh9s9 d3f4x2em fe6kdd0r mau55g9w c8b282yb iv3no6db jq4qci2q a3bd9o3v ekzkrbhg oo9gr5id\" dir=\"auto\">R$&nbsp;785</span></div></div></span></div><div class=\"aahdfvyu fsotbgu8\"><span aria-hidden=\"true\"><div class=\"a8nywdso e5nlhep0 rz4wbd8a linoseic\"><span class=\"d2edcug0 hpfvmrgz qv66sw1b c1et5uql rrkovp55 a8c37x1j keod5gw0 nxhoafnm aigsh9s9 d3f4x2em fe6kdd0r mau55g9w c8b282yb iv3no6db jq4qci2q a3bd9o3v knj5qynh oo9gr5id\" dir=\"auto\"><span class=\"a8c37x1j ni8dbmo4 stjgntxs l9j0dhe7\" style=\"-webkit-box-orient: vertical; -webkit-line-clamp: 2; display: -webkit-box;\">Alugo</span></span></div></span></div><div class=\"aahdfvyu fsotbgu8\"><span aria-hidden=\"true\"><div class=\"a8nywdso e5nlhep0 rz4wbd8a ecm0bbzt\"><span class=\"d2edcug0 hpfvmrgz qv66sw1b c1et5uql rrkovp55 a8c37x1j keod5gw0 nxhoafnm aigsh9s9 d9wwppkn fe6kdd0r mau55g9w c8b282yb iv3no6db e9vueds3 j5wam9gi knj5qynh m9osqain\" dir=\"auto\"><span class=\"a8c37x1j ni8dbmo4 stjgntxs l9j0dhe7 ltmttdrg g0qnabr5 ojkyduve\">Cascavel, PR</span></span></div></span></div></div></div></a>"
      ],
      "text/plain": [
       "<IPython.core.display.HTML object>"
      ]
     },
     "metadata": {},
     "output_type": "display_data"
    },
    {
     "name": "stdout",
     "output_type": "stream",
     "text": [
      "R$ 800\n",
      "Aluga Apartamento Jardim Tocantins\n",
      "Toledo, PR\n"
     ]
    },
    {
     "data": {
      "text/html": [
       "<a class=\"oajrlxb2 g5ia77u1 qu0x051f esr5mh6w e9989ue4 r7d6kgcz rq0escxv nhd2j8a9 nc684nl6 p7hjln8o kvgmc6g5 cxmmr5t8 oygrvhab hcukyx3x jb3vyjys rz4wbd8a qt6c0cv9 a8nywdso i1ao9s8h esuyzwwr f1sip0of lzcic4wl gmql0nx0 p8dawk7l\" href=\"/marketplace/item/186278479828519/?ref=search&amp;referral_code=undefined\" role=\"link\" tabindex=\"0\"><div class=\"j83agx80 cbu4d94t l9j0dhe7\"><div class=\"l9j0dhe7\"><div class=\"k4urcfbm l9j0dhe7\"><div class=\"kr520xx4 j9ispegn l9j0dhe7 stjgntxs ni8dbmo4 n7fi1qx3 i09qtzwb kzx2olss aot14ch1 p86d2i9g beltcj47 t63ysoy8 linmgsc8 hop1g133 opwvks06\"><div class=\"beltcj47 p86d2i9g aot14ch1 kzx2olss ni8dbmo4 stjgntxs d5it6em2 l9j0dhe7 k4urcfbm\"><div class=\"j83agx80 lhclo0ds ihdl84by pmk7jnqg h119xb3h iylxurvu bo2ra7bd\"><div class=\"rq0escxv j83agx80 buofh1pr datstx6m ggysqto6 exrn9cbp ojkyduve abpf7j7b l9j0dhe7 k4urcfbm\"><img alt=\"Aluga Apartamento Jardim Tocantins no grupo Toledo, PR\" class=\"idiwt2bm bixrwtb6 ni8dbmo4 stjgntxs k4urcfbm\" src=\"https://scontent.ftow4-1.fna.fbcdn.net/v/t1.0-0/c0.106.960.960a/s261x260/129758603_3716038671798519_6278975546317944849_o.jpg?_nc_cat=101&amp;ccb=2&amp;_nc_sid=843cd7&amp;_nc_ohc=mPKjGr40z40AX9FitoH&amp;_nc_ht=scontent.ftow4-1.fna&amp;tp=28&amp;oh=55b6cf3bd37649750e86adf8c4b4949f&amp;oe=5FFAE801\"></div></div></div></div></div></div><div class=\"rq0escxv j83agx80 cbu4d94t i1fnvgqd muag1w35 pybr56ya f10w8fjw k4urcfbm c7r68pdi suyy3zvx\"><div class=\"aahdfvyu fsotbgu8\"><span class=\"j83agx80\"><div class=\"a8nywdso e5nlhep0 rz4wbd8a ecm0bbzt btwxx1t3 j83agx80\"><div class=\"hlyrhctz\"><span class=\"d2edcug0 hpfvmrgz qv66sw1b c1et5uql rrkovp55 a8c37x1j keod5gw0 nxhoafnm aigsh9s9 d3f4x2em fe6kdd0r mau55g9w c8b282yb mdeji52x a5q79mjw g1cxx5fr lrazzd5p oo9gr5id\" dir=\"auto\">R$&nbsp;800</span></div><div class=\"mkhogb32 f0t0fhil\"><span class=\"d2edcug0 hpfvmrgz qv66sw1b c1et5uql rrkovp55 a8c37x1j keod5gw0 nxhoafnm aigsh9s9 d3f4x2em fe6kdd0r mau55g9w c8b282yb iv3no6db jq4qci2q a3bd9o3v ekzkrbhg oo9gr5id\" dir=\"auto\">R$&nbsp;800</span></div></div></span></div><div class=\"aahdfvyu fsotbgu8\"><span aria-hidden=\"true\"><div class=\"a8nywdso e5nlhep0 rz4wbd8a linoseic\"><span class=\"d2edcug0 hpfvmrgz qv66sw1b c1et5uql rrkovp55 a8c37x1j keod5gw0 nxhoafnm aigsh9s9 d3f4x2em fe6kdd0r mau55g9w c8b282yb iv3no6db jq4qci2q a3bd9o3v knj5qynh oo9gr5id\" dir=\"auto\"><span class=\"a8c37x1j ni8dbmo4 stjgntxs l9j0dhe7\" style=\"-webkit-box-orient: vertical; -webkit-line-clamp: 2; display: -webkit-box;\">Aluga Apartamento Jardim Tocantins</span></span></div></span></div><div class=\"aahdfvyu fsotbgu8\"><span aria-hidden=\"true\"><div class=\"a8nywdso e5nlhep0 rz4wbd8a ecm0bbzt\"><span class=\"d2edcug0 hpfvmrgz qv66sw1b c1et5uql rrkovp55 a8c37x1j keod5gw0 nxhoafnm aigsh9s9 d9wwppkn fe6kdd0r mau55g9w c8b282yb iv3no6db e9vueds3 j5wam9gi knj5qynh m9osqain\" dir=\"auto\"><span class=\"a8c37x1j ni8dbmo4 stjgntxs l9j0dhe7 ltmttdrg g0qnabr5 ojkyduve\">Toledo, PR</span></span></div></span></div></div></div></a>"
      ],
      "text/plain": [
       "<IPython.core.display.HTML object>"
      ]
     },
     "metadata": {},
     "output_type": "display_data"
    },
    {
     "name": "stdout",
     "output_type": "stream",
     "text": [
      "R$ 800\n",
      "Aluga-se casa no jardim novo Horizonte\n",
      "Foz do Iguaçu, PR\n"
     ]
    },
    {
     "data": {
      "text/html": [
       "<a class=\"oajrlxb2 g5ia77u1 qu0x051f esr5mh6w e9989ue4 r7d6kgcz rq0escxv nhd2j8a9 nc684nl6 p7hjln8o kvgmc6g5 cxmmr5t8 oygrvhab hcukyx3x jb3vyjys rz4wbd8a qt6c0cv9 a8nywdso i1ao9s8h esuyzwwr f1sip0of lzcic4wl gmql0nx0 p8dawk7l\" href=\"/marketplace/item/359660868419036/?ref=search&amp;referral_code=undefined\" role=\"link\" tabindex=\"0\"><div class=\"j83agx80 cbu4d94t l9j0dhe7\"><div class=\"l9j0dhe7\"><div class=\"k4urcfbm l9j0dhe7\"><div class=\"kr520xx4 j9ispegn l9j0dhe7 stjgntxs ni8dbmo4 n7fi1qx3 i09qtzwb kzx2olss aot14ch1 p86d2i9g beltcj47 t63ysoy8 linmgsc8 hop1g133 opwvks06\"><div class=\"beltcj47 p86d2i9g aot14ch1 kzx2olss ni8dbmo4 stjgntxs d5it6em2 l9j0dhe7 k4urcfbm\"><div class=\"j83agx80 lhclo0ds ihdl84by pmk7jnqg h119xb3h iylxurvu bo2ra7bd\"><div class=\"rq0escxv j83agx80 buofh1pr datstx6m ggysqto6 exrn9cbp ojkyduve abpf7j7b l9j0dhe7 k4urcfbm\"><img alt=\"Aluga-se casa no jardim novo Horizonte no grupo Foz do Iguaçu, PR\" class=\"idiwt2bm bixrwtb6 ni8dbmo4 stjgntxs k4urcfbm\" src=\"https://scontent.ftow4-1.fna.fbcdn.net/v/t1.0-0/c43.0.260.260a/p261x260/123774767_3374914585877179_4131430732827373208_o.jpg?_nc_cat=107&amp;ccb=2&amp;_nc_sid=843cd7&amp;_nc_ohc=jv-zZTbP9RUAX82ODZP&amp;_nc_ht=scontent.ftow4-1.fna&amp;tp=27&amp;oh=9e96fce93d52aeceb1c78c57761b4015&amp;oe=5FFAF760\"></div></div></div></div></div></div><div class=\"rq0escxv j83agx80 cbu4d94t i1fnvgqd muag1w35 pybr56ya f10w8fjw k4urcfbm c7r68pdi suyy3zvx\"><div class=\"aahdfvyu fsotbgu8\"><span class=\"j83agx80\"><div class=\"a8nywdso e5nlhep0 rz4wbd8a ecm0bbzt btwxx1t3 j83agx80\"><div class=\"hlyrhctz\"><span class=\"d2edcug0 hpfvmrgz qv66sw1b c1et5uql rrkovp55 a8c37x1j keod5gw0 nxhoafnm aigsh9s9 d3f4x2em fe6kdd0r mau55g9w c8b282yb mdeji52x a5q79mjw g1cxx5fr lrazzd5p oo9gr5id\" dir=\"auto\">R$&nbsp;800</span></div><div class=\"mkhogb32 f0t0fhil\"><span class=\"d2edcug0 hpfvmrgz qv66sw1b c1et5uql rrkovp55 a8c37x1j keod5gw0 nxhoafnm aigsh9s9 d3f4x2em fe6kdd0r mau55g9w c8b282yb iv3no6db jq4qci2q a3bd9o3v ekzkrbhg oo9gr5id\" dir=\"auto\">R$&nbsp;800</span></div></div></span></div><div class=\"aahdfvyu fsotbgu8\"><span aria-hidden=\"true\"><div class=\"a8nywdso e5nlhep0 rz4wbd8a linoseic\"><span class=\"d2edcug0 hpfvmrgz qv66sw1b c1et5uql rrkovp55 a8c37x1j keod5gw0 nxhoafnm aigsh9s9 d3f4x2em fe6kdd0r mau55g9w c8b282yb iv3no6db jq4qci2q a3bd9o3v knj5qynh oo9gr5id\" dir=\"auto\"><span class=\"a8c37x1j ni8dbmo4 stjgntxs l9j0dhe7\" style=\"-webkit-box-orient: vertical; -webkit-line-clamp: 2; display: -webkit-box;\">Aluga-se casa no jardim novo Horizonte</span></span></div></span></div><div class=\"aahdfvyu fsotbgu8\"><span aria-hidden=\"true\"><div class=\"a8nywdso e5nlhep0 rz4wbd8a ecm0bbzt\"><span class=\"d2edcug0 hpfvmrgz qv66sw1b c1et5uql rrkovp55 a8c37x1j keod5gw0 nxhoafnm aigsh9s9 d9wwppkn fe6kdd0r mau55g9w c8b282yb iv3no6db e9vueds3 j5wam9gi knj5qynh m9osqain\" dir=\"auto\"><span class=\"a8c37x1j ni8dbmo4 stjgntxs l9j0dhe7 ltmttdrg g0qnabr5 ojkyduve\">Foz do Iguaçu, PR</span></span></div></span></div></div></div></a>"
      ],
      "text/plain": [
       "<IPython.core.display.HTML object>"
      ]
     },
     "metadata": {},
     "output_type": "display_data"
    },
    {
     "name": "stdout",
     "output_type": "stream",
     "text": [
      "R$ 480\n",
      "Aluga-se casa\n",
      "Cianorte, PR\n"
     ]
    },
    {
     "data": {
      "text/html": [
       "<a class=\"oajrlxb2 g5ia77u1 qu0x051f esr5mh6w e9989ue4 r7d6kgcz rq0escxv nhd2j8a9 nc684nl6 p7hjln8o kvgmc6g5 cxmmr5t8 oygrvhab hcukyx3x jb3vyjys rz4wbd8a qt6c0cv9 a8nywdso i1ao9s8h esuyzwwr f1sip0of lzcic4wl gmql0nx0 p8dawk7l\" href=\"/marketplace/item/993814061112941/?ref=search&amp;referral_code=undefined\" role=\"link\" tabindex=\"0\"><div class=\"j83agx80 cbu4d94t l9j0dhe7\"><div class=\"l9j0dhe7\"><div class=\"k4urcfbm l9j0dhe7\"><div class=\"kr520xx4 j9ispegn l9j0dhe7 stjgntxs ni8dbmo4 n7fi1qx3 i09qtzwb kzx2olss aot14ch1 p86d2i9g beltcj47 t63ysoy8 linmgsc8 hop1g133 opwvks06\"><div class=\"beltcj47 p86d2i9g aot14ch1 kzx2olss ni8dbmo4 stjgntxs d5it6em2 l9j0dhe7 k4urcfbm\"><div class=\"j83agx80 lhclo0ds ihdl84by pmk7jnqg h119xb3h iylxurvu bo2ra7bd\"><div class=\"rq0escxv j83agx80 buofh1pr datstx6m ggysqto6 exrn9cbp ojkyduve abpf7j7b l9j0dhe7 k4urcfbm\"><img alt=\"Aluga-se casa no grupo Cianorte, PR\" class=\"idiwt2bm bixrwtb6 ni8dbmo4 stjgntxs k4urcfbm\" src=\"https://scontent.ftow4-1.fna.fbcdn.net/v/t1.0-0/c43.0.260.260a/p261x260/128671391_3407270616025519_3100198389539360985_n.jpg?_nc_cat=111&amp;ccb=2&amp;_nc_sid=843cd7&amp;_nc_ohc=DnzEwU8QyZoAX-F3sQK&amp;_nc_ht=scontent.ftow4-1.fna&amp;tp=27&amp;oh=bf524701dfa9801b9ad1f891d8d20554&amp;oe=5FFC4E71\"></div></div></div></div></div></div><div class=\"rq0escxv j83agx80 cbu4d94t i1fnvgqd muag1w35 pybr56ya f10w8fjw k4urcfbm c7r68pdi suyy3zvx\"><div class=\"aahdfvyu fsotbgu8\"><span class=\"j83agx80\"><div class=\"a8nywdso e5nlhep0 rz4wbd8a ecm0bbzt btwxx1t3 j83agx80\"><div class=\"hlyrhctz\"><span class=\"d2edcug0 hpfvmrgz qv66sw1b c1et5uql rrkovp55 a8c37x1j keod5gw0 nxhoafnm aigsh9s9 d3f4x2em fe6kdd0r mau55g9w c8b282yb mdeji52x a5q79mjw g1cxx5fr lrazzd5p oo9gr5id\" dir=\"auto\">R$&nbsp;480</span></div><div class=\"mkhogb32 f0t0fhil\"><span class=\"d2edcug0 hpfvmrgz qv66sw1b c1et5uql rrkovp55 a8c37x1j keod5gw0 nxhoafnm aigsh9s9 d3f4x2em fe6kdd0r mau55g9w c8b282yb iv3no6db jq4qci2q a3bd9o3v ekzkrbhg oo9gr5id\" dir=\"auto\">R$&nbsp;480</span></div></div></span></div><div class=\"aahdfvyu fsotbgu8\"><span aria-hidden=\"true\"><div class=\"a8nywdso e5nlhep0 rz4wbd8a linoseic\"><span class=\"d2edcug0 hpfvmrgz qv66sw1b c1et5uql rrkovp55 a8c37x1j keod5gw0 nxhoafnm aigsh9s9 d3f4x2em fe6kdd0r mau55g9w c8b282yb iv3no6db jq4qci2q a3bd9o3v knj5qynh oo9gr5id\" dir=\"auto\"><span class=\"a8c37x1j ni8dbmo4 stjgntxs l9j0dhe7\" style=\"-webkit-box-orient: vertical; -webkit-line-clamp: 2; display: -webkit-box;\">Aluga-se casa</span></span></div></span></div><div class=\"aahdfvyu fsotbgu8\"><span aria-hidden=\"true\"><div class=\"a8nywdso e5nlhep0 rz4wbd8a ecm0bbzt\"><span class=\"d2edcug0 hpfvmrgz qv66sw1b c1et5uql rrkovp55 a8c37x1j keod5gw0 nxhoafnm aigsh9s9 d9wwppkn fe6kdd0r mau55g9w c8b282yb iv3no6db e9vueds3 j5wam9gi knj5qynh m9osqain\" dir=\"auto\"><span class=\"a8c37x1j ni8dbmo4 stjgntxs l9j0dhe7 ltmttdrg g0qnabr5 ojkyduve\">Cianorte, PR</span></span></div></span></div></div></div></a>"
      ],
      "text/plain": [
       "<IPython.core.display.HTML object>"
      ]
     },
     "metadata": {},
     "output_type": "display_data"
    },
    {
     "name": "stdout",
     "output_type": "stream",
     "text": [
      "R$ 700\n",
      "2 quartos 1 banheiro Casa\n",
      "Cascavel, PR\n"
     ]
    },
    {
     "data": {
      "text/html": [
       "<a class=\"oajrlxb2 g5ia77u1 qu0x051f esr5mh6w e9989ue4 r7d6kgcz rq0escxv nhd2j8a9 nc684nl6 p7hjln8o kvgmc6g5 cxmmr5t8 oygrvhab hcukyx3x jb3vyjys rz4wbd8a qt6c0cv9 a8nywdso i1ao9s8h esuyzwwr f1sip0of lzcic4wl gmql0nx0 p8dawk7l\" href=\"/marketplace/item/1347813572239740/?ref=search&amp;referral_code=undefined\" role=\"link\" tabindex=\"0\"><div class=\"j83agx80 cbu4d94t l9j0dhe7\"><div class=\"l9j0dhe7\"><div class=\"k4urcfbm l9j0dhe7\"><div class=\"kr520xx4 j9ispegn l9j0dhe7 stjgntxs ni8dbmo4 n7fi1qx3 i09qtzwb kzx2olss aot14ch1 p86d2i9g beltcj47 t63ysoy8 linmgsc8 hop1g133 opwvks06\"><div class=\"beltcj47 p86d2i9g aot14ch1 kzx2olss ni8dbmo4 stjgntxs d5it6em2 l9j0dhe7 k4urcfbm\"><div class=\"j83agx80 lhclo0ds ihdl84by pmk7jnqg h119xb3h iylxurvu bo2ra7bd\"><div class=\"rq0escxv j83agx80 buofh1pr datstx6m ggysqto6 exrn9cbp ojkyduve abpf7j7b l9j0dhe7 k4urcfbm\"><img alt=\"2 quartos 1 banheiro Casa no grupo Cascavel, PR\" class=\"idiwt2bm bixrwtb6 ni8dbmo4 stjgntxs k4urcfbm\" src=\"https://scontent.ftow4-1.fna.fbcdn.net/v/t1.0-0/c43.0.260.260a/p261x260/128027366_835702520530494_4283501852294506160_o.jpg?_nc_cat=101&amp;ccb=2&amp;_nc_sid=843cd7&amp;_nc_ohc=mKBj3xVeb9wAX_v8EZo&amp;_nc_ht=scontent.ftow4-1.fna&amp;tp=27&amp;oh=f298ac92f715630b2bbeab861751767f&amp;oe=5FF993F5\"></div></div></div></div></div></div><div class=\"rq0escxv j83agx80 cbu4d94t i1fnvgqd muag1w35 pybr56ya f10w8fjw k4urcfbm c7r68pdi suyy3zvx\"><div class=\"aahdfvyu fsotbgu8\"><span class=\"j83agx80\"><div class=\"a8nywdso e5nlhep0 rz4wbd8a ecm0bbzt btwxx1t3 j83agx80\"><div class=\"hlyrhctz\"><span class=\"d2edcug0 hpfvmrgz qv66sw1b c1et5uql rrkovp55 a8c37x1j keod5gw0 nxhoafnm aigsh9s9 d3f4x2em fe6kdd0r mau55g9w c8b282yb mdeji52x a5q79mjw g1cxx5fr lrazzd5p oo9gr5id\" dir=\"auto\">R$&nbsp;700</span></div><div class=\"mkhogb32 f0t0fhil\"><span class=\"d2edcug0 hpfvmrgz qv66sw1b c1et5uql rrkovp55 a8c37x1j keod5gw0 nxhoafnm aigsh9s9 d3f4x2em fe6kdd0r mau55g9w c8b282yb iv3no6db jq4qci2q a3bd9o3v ekzkrbhg oo9gr5id\" dir=\"auto\">R$&nbsp;700</span></div></div></span></div><div class=\"aahdfvyu fsotbgu8\"><span aria-hidden=\"true\"><div class=\"a8nywdso e5nlhep0 rz4wbd8a linoseic\"><span class=\"d2edcug0 hpfvmrgz qv66sw1b c1et5uql rrkovp55 a8c37x1j keod5gw0 nxhoafnm aigsh9s9 d3f4x2em fe6kdd0r mau55g9w c8b282yb iv3no6db jq4qci2q a3bd9o3v knj5qynh oo9gr5id\" dir=\"auto\"><span class=\"a8c37x1j ni8dbmo4 stjgntxs l9j0dhe7\" style=\"-webkit-box-orient: vertical; -webkit-line-clamp: 2; display: -webkit-box;\">2 quartos 1 banheiro Casa</span></span></div></span></div><div class=\"aahdfvyu fsotbgu8\"><span aria-hidden=\"true\"><div class=\"a8nywdso e5nlhep0 rz4wbd8a ecm0bbzt\"><span class=\"d2edcug0 hpfvmrgz qv66sw1b c1et5uql rrkovp55 a8c37x1j keod5gw0 nxhoafnm aigsh9s9 d9wwppkn fe6kdd0r mau55g9w c8b282yb iv3no6db e9vueds3 j5wam9gi knj5qynh m9osqain\" dir=\"auto\"><span class=\"a8c37x1j ni8dbmo4 stjgntxs l9j0dhe7 ltmttdrg g0qnabr5 ojkyduve\">Cascavel, PR</span></span></div></span></div></div></div></a>"
      ],
      "text/plain": [
       "<IPython.core.display.HTML object>"
      ]
     },
     "metadata": {},
     "output_type": "display_data"
    },
    {
     "name": "stdout",
     "output_type": "stream",
     "text": [
      "R$ 450\n",
      "Quarto\n",
      "Toledo, PR\n"
     ]
    },
    {
     "data": {
      "text/html": [
       "<a class=\"oajrlxb2 g5ia77u1 qu0x051f esr5mh6w e9989ue4 r7d6kgcz rq0escxv nhd2j8a9 nc684nl6 p7hjln8o kvgmc6g5 cxmmr5t8 oygrvhab hcukyx3x jb3vyjys rz4wbd8a qt6c0cv9 a8nywdso i1ao9s8h esuyzwwr f1sip0of lzcic4wl gmql0nx0 p8dawk7l\" href=\"/marketplace/item/2408814969293773/?ref=search&amp;referral_code=undefined\" role=\"link\" tabindex=\"0\"><div class=\"j83agx80 cbu4d94t l9j0dhe7\"><div class=\"l9j0dhe7\"><div class=\"k4urcfbm l9j0dhe7\"><div class=\"kr520xx4 j9ispegn l9j0dhe7 stjgntxs ni8dbmo4 n7fi1qx3 i09qtzwb kzx2olss aot14ch1 p86d2i9g beltcj47 t63ysoy8 linmgsc8 hop1g133 opwvks06\"><div class=\"beltcj47 p86d2i9g aot14ch1 kzx2olss ni8dbmo4 stjgntxs d5it6em2 l9j0dhe7 k4urcfbm\"><div class=\"j83agx80 lhclo0ds ihdl84by pmk7jnqg h119xb3h iylxurvu bo2ra7bd\"><div class=\"rq0escxv j83agx80 buofh1pr datstx6m ggysqto6 exrn9cbp ojkyduve abpf7j7b l9j0dhe7 k4urcfbm\"><img alt=\"Quarto no grupo Toledo, PR\" class=\"idiwt2bm bixrwtb6 ni8dbmo4 stjgntxs k4urcfbm\" src=\"https://scontent.ftow4-1.fna.fbcdn.net/v/t1.0-0/c0.79.720.720a/s261x260/117666711_2710273995905832_4713076806804478835_n.jpg?_nc_cat=110&amp;ccb=2&amp;_nc_sid=843cd7&amp;_nc_ohc=04zZKKRWvTYAX-msKKm&amp;_nc_ht=scontent.ftow4-1.fna&amp;tp=28&amp;oh=ad733eee3134a6394e5d54d35d1e5326&amp;oe=5FF9CEA0\"></div></div></div></div></div></div><div class=\"rq0escxv j83agx80 cbu4d94t i1fnvgqd muag1w35 pybr56ya f10w8fjw k4urcfbm c7r68pdi suyy3zvx\"><div class=\"aahdfvyu fsotbgu8\"><span class=\"j83agx80\"><div class=\"a8nywdso e5nlhep0 rz4wbd8a ecm0bbzt btwxx1t3 j83agx80\"><div class=\"hlyrhctz\"><span class=\"d2edcug0 hpfvmrgz qv66sw1b c1et5uql rrkovp55 a8c37x1j keod5gw0 nxhoafnm aigsh9s9 d3f4x2em fe6kdd0r mau55g9w c8b282yb mdeji52x a5q79mjw g1cxx5fr lrazzd5p oo9gr5id\" dir=\"auto\">R$&nbsp;450</span></div><div class=\"mkhogb32 f0t0fhil\"><span class=\"d2edcug0 hpfvmrgz qv66sw1b c1et5uql rrkovp55 a8c37x1j keod5gw0 nxhoafnm aigsh9s9 d3f4x2em fe6kdd0r mau55g9w c8b282yb iv3no6db jq4qci2q a3bd9o3v ekzkrbhg oo9gr5id\" dir=\"auto\">R$&nbsp;450</span></div></div></span></div><div class=\"aahdfvyu fsotbgu8\"><span aria-hidden=\"true\"><div class=\"a8nywdso e5nlhep0 rz4wbd8a linoseic\"><span class=\"d2edcug0 hpfvmrgz qv66sw1b c1et5uql rrkovp55 a8c37x1j keod5gw0 nxhoafnm aigsh9s9 d3f4x2em fe6kdd0r mau55g9w c8b282yb iv3no6db jq4qci2q a3bd9o3v knj5qynh oo9gr5id\" dir=\"auto\"><span class=\"a8c37x1j ni8dbmo4 stjgntxs l9j0dhe7\" style=\"-webkit-box-orient: vertical; -webkit-line-clamp: 2; display: -webkit-box;\">Quarto</span></span></div></span></div><div class=\"aahdfvyu fsotbgu8\"><span aria-hidden=\"true\"><div class=\"a8nywdso e5nlhep0 rz4wbd8a ecm0bbzt\"><span class=\"d2edcug0 hpfvmrgz qv66sw1b c1et5uql rrkovp55 a8c37x1j keod5gw0 nxhoafnm aigsh9s9 d9wwppkn fe6kdd0r mau55g9w c8b282yb iv3no6db e9vueds3 j5wam9gi knj5qynh m9osqain\" dir=\"auto\"><span class=\"a8c37x1j ni8dbmo4 stjgntxs l9j0dhe7 ltmttdrg g0qnabr5 ojkyduve\">Toledo, PR</span></span></div></span></div></div></div></a>"
      ],
      "text/plain": [
       "<IPython.core.display.HTML object>"
      ]
     },
     "metadata": {},
     "output_type": "display_data"
    },
    {
     "name": "stdout",
     "output_type": "stream",
     "text": [
      "R$ 600\n",
      "1 quarto 1 banheiro Casa\n",
      "Dourados, MS\n"
     ]
    },
    {
     "data": {
      "text/html": [
       "<a class=\"oajrlxb2 g5ia77u1 qu0x051f esr5mh6w e9989ue4 r7d6kgcz rq0escxv nhd2j8a9 nc684nl6 p7hjln8o kvgmc6g5 cxmmr5t8 oygrvhab hcukyx3x jb3vyjys rz4wbd8a qt6c0cv9 a8nywdso i1ao9s8h esuyzwwr f1sip0of lzcic4wl gmql0nx0 p8dawk7l\" href=\"/marketplace/item/1643826629155847/?ref=search&amp;referral_code=undefined\" role=\"link\" tabindex=\"0\"><div class=\"j83agx80 cbu4d94t l9j0dhe7\"><div class=\"l9j0dhe7\"><div class=\"k4urcfbm l9j0dhe7\"><div class=\"kr520xx4 j9ispegn l9j0dhe7 stjgntxs ni8dbmo4 n7fi1qx3 i09qtzwb kzx2olss aot14ch1 p86d2i9g beltcj47 t63ysoy8 linmgsc8 hop1g133 opwvks06\"><div class=\"beltcj47 p86d2i9g aot14ch1 kzx2olss ni8dbmo4 stjgntxs d5it6em2 l9j0dhe7 k4urcfbm\"><div class=\"j83agx80 lhclo0ds ihdl84by pmk7jnqg h119xb3h iylxurvu bo2ra7bd\"><div class=\"rq0escxv j83agx80 buofh1pr datstx6m ggysqto6 exrn9cbp ojkyduve abpf7j7b l9j0dhe7 k4urcfbm\"><img alt=\"1 quarto 1 banheiro Casa no grupo Dourados, MS\" class=\"idiwt2bm bixrwtb6 ni8dbmo4 stjgntxs k4urcfbm\" src=\"https://scontent.ftow4-1.fna.fbcdn.net/v/t1.0-0/c102.0.260.260a/p261x260/127795330_2820453238243921_321188308348342227_o.jpg?_nc_cat=111&amp;ccb=2&amp;_nc_sid=843cd7&amp;_nc_ohc=2EqRr6YypCwAX9vBpeC&amp;_nc_ht=scontent.ftow4-1.fna&amp;tp=27&amp;oh=fb878c8778861805099e39fc6d9ef93c&amp;oe=5FFA29E3\"></div></div></div></div></div></div><div class=\"rq0escxv j83agx80 cbu4d94t i1fnvgqd muag1w35 pybr56ya f10w8fjw k4urcfbm c7r68pdi suyy3zvx\"><div class=\"aahdfvyu fsotbgu8\"><span class=\"j83agx80\"><div class=\"a8nywdso e5nlhep0 rz4wbd8a ecm0bbzt btwxx1t3 j83agx80\"><div class=\"hlyrhctz\"><span class=\"d2edcug0 hpfvmrgz qv66sw1b c1et5uql rrkovp55 a8c37x1j keod5gw0 nxhoafnm aigsh9s9 d3f4x2em fe6kdd0r mau55g9w c8b282yb mdeji52x a5q79mjw g1cxx5fr lrazzd5p oo9gr5id\" dir=\"auto\">R$&nbsp;600</span></div><div class=\"mkhogb32 f0t0fhil\"><span class=\"d2edcug0 hpfvmrgz qv66sw1b c1et5uql rrkovp55 a8c37x1j keod5gw0 nxhoafnm aigsh9s9 d3f4x2em fe6kdd0r mau55g9w c8b282yb iv3no6db jq4qci2q a3bd9o3v ekzkrbhg oo9gr5id\" dir=\"auto\">R$&nbsp;600</span></div></div></span></div><div class=\"aahdfvyu fsotbgu8\"><span aria-hidden=\"true\"><div class=\"a8nywdso e5nlhep0 rz4wbd8a linoseic\"><span class=\"d2edcug0 hpfvmrgz qv66sw1b c1et5uql rrkovp55 a8c37x1j keod5gw0 nxhoafnm aigsh9s9 d3f4x2em fe6kdd0r mau55g9w c8b282yb iv3no6db jq4qci2q a3bd9o3v knj5qynh oo9gr5id\" dir=\"auto\"><span class=\"a8c37x1j ni8dbmo4 stjgntxs l9j0dhe7\" style=\"-webkit-box-orient: vertical; -webkit-line-clamp: 2; display: -webkit-box;\">1 quarto 1 banheiro Casa</span></span></div></span></div><div class=\"aahdfvyu fsotbgu8\"><span aria-hidden=\"true\"><div class=\"a8nywdso e5nlhep0 rz4wbd8a ecm0bbzt\"><span class=\"d2edcug0 hpfvmrgz qv66sw1b c1et5uql rrkovp55 a8c37x1j keod5gw0 nxhoafnm aigsh9s9 d9wwppkn fe6kdd0r mau55g9w c8b282yb iv3no6db e9vueds3 j5wam9gi knj5qynh m9osqain\" dir=\"auto\"><span class=\"a8c37x1j ni8dbmo4 stjgntxs l9j0dhe7 ltmttdrg g0qnabr5 ojkyduve\">Dourados, MS</span></span></div></span></div></div></div></a>"
      ],
      "text/plain": [
       "<IPython.core.display.HTML object>"
      ]
     },
     "metadata": {},
     "output_type": "display_data"
    },
    {
     "name": "stdout",
     "output_type": "stream",
     "text": [
      "R$ 600\n",
      "2 quartos 1 banheiro Apartamento\n",
      "Cascavel, PR\n"
     ]
    },
    {
     "data": {
      "text/html": [
       "<a class=\"oajrlxb2 g5ia77u1 qu0x051f esr5mh6w e9989ue4 r7d6kgcz rq0escxv nhd2j8a9 nc684nl6 p7hjln8o kvgmc6g5 cxmmr5t8 oygrvhab hcukyx3x jb3vyjys rz4wbd8a qt6c0cv9 a8nywdso i1ao9s8h esuyzwwr f1sip0of lzcic4wl gmql0nx0 p8dawk7l\" href=\"/marketplace/item/210806240430396/?ref=search&amp;referral_code=undefined\" role=\"link\" tabindex=\"0\"><div class=\"j83agx80 cbu4d94t l9j0dhe7\"><div class=\"l9j0dhe7\"><div class=\"k4urcfbm l9j0dhe7\"><div class=\"kr520xx4 j9ispegn l9j0dhe7 stjgntxs ni8dbmo4 n7fi1qx3 i09qtzwb kzx2olss aot14ch1 p86d2i9g beltcj47 t63ysoy8 linmgsc8 hop1g133 opwvks06\"><div class=\"beltcj47 p86d2i9g aot14ch1 kzx2olss ni8dbmo4 stjgntxs d5it6em2 l9j0dhe7 k4urcfbm\"><div class=\"j83agx80 lhclo0ds ihdl84by pmk7jnqg h119xb3h iylxurvu bo2ra7bd\"><div class=\"rq0escxv j83agx80 buofh1pr datstx6m ggysqto6 exrn9cbp ojkyduve abpf7j7b l9j0dhe7 k4urcfbm\"><img alt=\"2 quartos 1 banheiro Apartamento no grupo Cascavel, PR\" class=\"idiwt2bm bixrwtb6 ni8dbmo4 stjgntxs k4urcfbm\" src=\"https://scontent.ftow4-1.fna.fbcdn.net/v/t1.0-0/c65.0.260.260a/p261x260/125963805_829295744504505_4968523532172516682_o.jpg?_nc_cat=110&amp;ccb=2&amp;_nc_sid=843cd7&amp;_nc_ohc=KtM6QVSi7FsAX-bhqxk&amp;_nc_ht=scontent.ftow4-1.fna&amp;tp=27&amp;oh=52ca3cb1398061fdf9c1f36e441c2065&amp;oe=5FF9D171\"></div></div></div></div></div></div><div class=\"rq0escxv j83agx80 cbu4d94t i1fnvgqd muag1w35 pybr56ya f10w8fjw k4urcfbm c7r68pdi suyy3zvx\"><div class=\"aahdfvyu fsotbgu8\"><span class=\"j83agx80\"><div class=\"a8nywdso e5nlhep0 rz4wbd8a ecm0bbzt btwxx1t3 j83agx80\"><div class=\"hlyrhctz\"><span class=\"d2edcug0 hpfvmrgz qv66sw1b c1et5uql rrkovp55 a8c37x1j keod5gw0 nxhoafnm aigsh9s9 d3f4x2em fe6kdd0r mau55g9w c8b282yb mdeji52x a5q79mjw g1cxx5fr lrazzd5p oo9gr5id\" dir=\"auto\">R$&nbsp;600</span></div><div class=\"mkhogb32 f0t0fhil\"><span class=\"d2edcug0 hpfvmrgz qv66sw1b c1et5uql rrkovp55 a8c37x1j keod5gw0 nxhoafnm aigsh9s9 d3f4x2em fe6kdd0r mau55g9w c8b282yb iv3no6db jq4qci2q a3bd9o3v ekzkrbhg oo9gr5id\" dir=\"auto\">R$&nbsp;600</span></div></div></span></div><div class=\"aahdfvyu fsotbgu8\"><span aria-hidden=\"true\"><div class=\"a8nywdso e5nlhep0 rz4wbd8a linoseic\"><span class=\"d2edcug0 hpfvmrgz qv66sw1b c1et5uql rrkovp55 a8c37x1j keod5gw0 nxhoafnm aigsh9s9 d3f4x2em fe6kdd0r mau55g9w c8b282yb iv3no6db jq4qci2q a3bd9o3v knj5qynh oo9gr5id\" dir=\"auto\"><span class=\"a8c37x1j ni8dbmo4 stjgntxs l9j0dhe7\" style=\"-webkit-box-orient: vertical; -webkit-line-clamp: 2; display: -webkit-box;\">2 quartos 1 banheiro Apartamento</span></span></div></span></div><div class=\"aahdfvyu fsotbgu8\"><span aria-hidden=\"true\"><div class=\"a8nywdso e5nlhep0 rz4wbd8a ecm0bbzt\"><span class=\"d2edcug0 hpfvmrgz qv66sw1b c1et5uql rrkovp55 a8c37x1j keod5gw0 nxhoafnm aigsh9s9 d9wwppkn fe6kdd0r mau55g9w c8b282yb iv3no6db e9vueds3 j5wam9gi knj5qynh m9osqain\" dir=\"auto\"><span class=\"a8c37x1j ni8dbmo4 stjgntxs l9j0dhe7 ltmttdrg g0qnabr5 ojkyduve\">Cascavel, PR</span></span></div></span></div></div></div></a>"
      ],
      "text/plain": [
       "<IPython.core.display.HTML object>"
      ]
     },
     "metadata": {},
     "output_type": "display_data"
    },
    {
     "name": "stdout",
     "output_type": "stream",
     "text": [
      "R$ 500\n",
      "Aluga-se casa!\n",
      "Tibagi, PR\n"
     ]
    },
    {
     "data": {
      "text/html": [
       "<a class=\"oajrlxb2 g5ia77u1 qu0x051f esr5mh6w e9989ue4 r7d6kgcz rq0escxv nhd2j8a9 nc684nl6 p7hjln8o kvgmc6g5 cxmmr5t8 oygrvhab hcukyx3x jb3vyjys rz4wbd8a qt6c0cv9 a8nywdso i1ao9s8h esuyzwwr f1sip0of lzcic4wl gmql0nx0 p8dawk7l\" href=\"/marketplace/item/408381683906150/?ref=search&amp;referral_code=undefined\" role=\"link\" tabindex=\"0\"><div class=\"j83agx80 cbu4d94t l9j0dhe7\"><div class=\"l9j0dhe7\"><div class=\"k4urcfbm l9j0dhe7\"><div class=\"kr520xx4 j9ispegn l9j0dhe7 stjgntxs ni8dbmo4 n7fi1qx3 i09qtzwb kzx2olss aot14ch1 p86d2i9g beltcj47 t63ysoy8 linmgsc8 hop1g133 opwvks06\"><div class=\"beltcj47 p86d2i9g aot14ch1 kzx2olss ni8dbmo4 stjgntxs d5it6em2 l9j0dhe7 k4urcfbm\"><div class=\"j83agx80 lhclo0ds ihdl84by pmk7jnqg h119xb3h iylxurvu bo2ra7bd\"><div class=\"rq0escxv j83agx80 buofh1pr datstx6m ggysqto6 exrn9cbp ojkyduve abpf7j7b l9j0dhe7 k4urcfbm\"><img alt=\"Aluga-se casa! no grupo Tibagi, PR\" class=\"idiwt2bm bixrwtb6 ni8dbmo4 stjgntxs k4urcfbm\" src=\"https://scontent.ftow4-1.fna.fbcdn.net/v/t1.0-0/c0.291.1132.1132a/s261x260/127452620_195841978766031_953130823063361012_o.jpg?_nc_cat=101&amp;ccb=2&amp;_nc_sid=843cd7&amp;_nc_ohc=SfXGnQbYK8YAX_KfCdT&amp;_nc_ht=scontent.ftow4-1.fna&amp;tp=28&amp;oh=7eec2f93270b385bca7548e73f73a129&amp;oe=5FFA2F78\"></div></div></div></div></div></div><div class=\"rq0escxv j83agx80 cbu4d94t i1fnvgqd muag1w35 pybr56ya f10w8fjw k4urcfbm c7r68pdi suyy3zvx\"><div class=\"aahdfvyu fsotbgu8\"><span class=\"j83agx80\"><div class=\"a8nywdso e5nlhep0 rz4wbd8a ecm0bbzt btwxx1t3 j83agx80\"><div class=\"hlyrhctz\"><span class=\"d2edcug0 hpfvmrgz qv66sw1b c1et5uql rrkovp55 a8c37x1j keod5gw0 nxhoafnm aigsh9s9 d3f4x2em fe6kdd0r mau55g9w c8b282yb mdeji52x a5q79mjw g1cxx5fr lrazzd5p oo9gr5id\" dir=\"auto\">R$&nbsp;500</span></div><div class=\"mkhogb32 f0t0fhil\"><span class=\"d2edcug0 hpfvmrgz qv66sw1b c1et5uql rrkovp55 a8c37x1j keod5gw0 nxhoafnm aigsh9s9 d3f4x2em fe6kdd0r mau55g9w c8b282yb iv3no6db jq4qci2q a3bd9o3v ekzkrbhg oo9gr5id\" dir=\"auto\">R$&nbsp;500</span></div></div></span></div><div class=\"aahdfvyu fsotbgu8\"><span aria-hidden=\"true\"><div class=\"a8nywdso e5nlhep0 rz4wbd8a linoseic\"><span class=\"d2edcug0 hpfvmrgz qv66sw1b c1et5uql rrkovp55 a8c37x1j keod5gw0 nxhoafnm aigsh9s9 d3f4x2em fe6kdd0r mau55g9w c8b282yb iv3no6db jq4qci2q a3bd9o3v knj5qynh oo9gr5id\" dir=\"auto\"><span class=\"a8c37x1j ni8dbmo4 stjgntxs l9j0dhe7\" style=\"-webkit-box-orient: vertical; -webkit-line-clamp: 2; display: -webkit-box;\">Aluga-se casa!</span></span></div></span></div><div class=\"aahdfvyu fsotbgu8\"><span aria-hidden=\"true\"><div class=\"a8nywdso e5nlhep0 rz4wbd8a ecm0bbzt\"><span class=\"d2edcug0 hpfvmrgz qv66sw1b c1et5uql rrkovp55 a8c37x1j keod5gw0 nxhoafnm aigsh9s9 d9wwppkn fe6kdd0r mau55g9w c8b282yb iv3no6db e9vueds3 j5wam9gi knj5qynh m9osqain\" dir=\"auto\"><span class=\"a8c37x1j ni8dbmo4 stjgntxs l9j0dhe7 ltmttdrg g0qnabr5 ojkyduve\">Tibagi, PR</span></span></div></span></div></div></div></a>"
      ],
      "text/plain": [
       "<IPython.core.display.HTML object>"
      ]
     },
     "metadata": {},
     "output_type": "display_data"
    },
    {
     "name": "stdout",
     "output_type": "stream",
     "text": [
      "R$ 270\n",
      "1 quarto· 1 banheiro · 1 cozinha, piscina ,Chácara para alugar\n",
      "Santa Helena, PR\n"
     ]
    },
    {
     "data": {
      "text/html": [
       "<a class=\"oajrlxb2 g5ia77u1 qu0x051f esr5mh6w e9989ue4 r7d6kgcz rq0escxv nhd2j8a9 nc684nl6 p7hjln8o kvgmc6g5 cxmmr5t8 oygrvhab hcukyx3x jb3vyjys rz4wbd8a qt6c0cv9 a8nywdso i1ao9s8h esuyzwwr f1sip0of lzcic4wl gmql0nx0 p8dawk7l\" href=\"/marketplace/item/700530327548303/?ref=search&amp;referral_code=undefined\" role=\"link\" tabindex=\"0\"><div class=\"j83agx80 cbu4d94t l9j0dhe7\"><div class=\"l9j0dhe7\"><div class=\"k4urcfbm l9j0dhe7\"><div class=\"kr520xx4 j9ispegn l9j0dhe7 stjgntxs ni8dbmo4 n7fi1qx3 i09qtzwb kzx2olss aot14ch1 p86d2i9g beltcj47 t63ysoy8 linmgsc8 hop1g133 opwvks06\"><div class=\"beltcj47 p86d2i9g aot14ch1 kzx2olss ni8dbmo4 stjgntxs d5it6em2 l9j0dhe7 k4urcfbm\"><div class=\"j83agx80 lhclo0ds ihdl84by pmk7jnqg h119xb3h iylxurvu bo2ra7bd\"><div class=\"rq0escxv j83agx80 buofh1pr datstx6m ggysqto6 exrn9cbp ojkyduve abpf7j7b l9j0dhe7 k4urcfbm\"><img alt=\"1 quarto· 1 banheiro · 1 cozinha, piscina ,Chácara para alugar no grupo Santa Helena, PR\" class=\"idiwt2bm bixrwtb6 ni8dbmo4 stjgntxs k4urcfbm\" src=\"https://scontent.ftow4-1.fna.fbcdn.net/v/t1.0-0/c0.211.640.640a/s261x260/124405456_3760982617247170_7816919459315337954_o.jpg?_nc_cat=103&amp;ccb=2&amp;_nc_sid=843cd7&amp;_nc_ohc=ksHW-LLps5UAX-3s0Qd&amp;_nc_ht=scontent.ftow4-1.fna&amp;tp=28&amp;oh=0189807b997e1aa3e2917cf6882c896d&amp;oe=5FF9D625\"></div></div></div></div></div></div><div class=\"rq0escxv j83agx80 cbu4d94t i1fnvgqd muag1w35 pybr56ya f10w8fjw k4urcfbm c7r68pdi suyy3zvx\"><div class=\"aahdfvyu fsotbgu8\"><span class=\"j83agx80\"><div class=\"a8nywdso e5nlhep0 rz4wbd8a ecm0bbzt btwxx1t3 j83agx80\"><div class=\"hlyrhctz\"><span class=\"d2edcug0 hpfvmrgz qv66sw1b c1et5uql rrkovp55 a8c37x1j keod5gw0 nxhoafnm aigsh9s9 d3f4x2em fe6kdd0r mau55g9w c8b282yb mdeji52x a5q79mjw g1cxx5fr lrazzd5p oo9gr5id\" dir=\"auto\">R$&nbsp;270</span></div><div class=\"mkhogb32 f0t0fhil\"><span class=\"d2edcug0 hpfvmrgz qv66sw1b c1et5uql rrkovp55 a8c37x1j keod5gw0 nxhoafnm aigsh9s9 d3f4x2em fe6kdd0r mau55g9w c8b282yb iv3no6db jq4qci2q a3bd9o3v ekzkrbhg oo9gr5id\" dir=\"auto\">R$&nbsp;270</span></div></div></span></div><div class=\"aahdfvyu fsotbgu8\"><span aria-hidden=\"true\"><div class=\"a8nywdso e5nlhep0 rz4wbd8a linoseic\"><span class=\"d2edcug0 hpfvmrgz qv66sw1b c1et5uql rrkovp55 a8c37x1j keod5gw0 nxhoafnm aigsh9s9 d3f4x2em fe6kdd0r mau55g9w c8b282yb iv3no6db jq4qci2q a3bd9o3v knj5qynh oo9gr5id\" dir=\"auto\"><span class=\"a8c37x1j ni8dbmo4 stjgntxs l9j0dhe7\" style=\"-webkit-box-orient: vertical; -webkit-line-clamp: 2; display: -webkit-box;\">1 quarto· 1 banheiro · 1 cozinha, piscina ,Chácara para alugar</span></span></div></span></div><div class=\"aahdfvyu fsotbgu8\"><span aria-hidden=\"true\"><div class=\"a8nywdso e5nlhep0 rz4wbd8a ecm0bbzt\"><span class=\"d2edcug0 hpfvmrgz qv66sw1b c1et5uql rrkovp55 a8c37x1j keod5gw0 nxhoafnm aigsh9s9 d9wwppkn fe6kdd0r mau55g9w c8b282yb iv3no6db e9vueds3 j5wam9gi knj5qynh m9osqain\" dir=\"auto\"><span class=\"a8c37x1j ni8dbmo4 stjgntxs l9j0dhe7 ltmttdrg g0qnabr5 ojkyduve\">Santa Helena, PR</span></span></div></span></div></div></div></a>"
      ],
      "text/plain": [
       "<IPython.core.display.HTML object>"
      ]
     },
     "metadata": {},
     "output_type": "display_data"
    },
    {
     "name": "stdout",
     "output_type": "stream",
     "text": [
      "R$ 750\n",
      "3 quartos 1 banheiro Apartamento\n",
      "Concórdia, SC\n"
     ]
    },
    {
     "data": {
      "text/html": [
       "<a class=\"oajrlxb2 g5ia77u1 qu0x051f esr5mh6w e9989ue4 r7d6kgcz rq0escxv nhd2j8a9 nc684nl6 p7hjln8o kvgmc6g5 cxmmr5t8 oygrvhab hcukyx3x jb3vyjys rz4wbd8a qt6c0cv9 a8nywdso i1ao9s8h esuyzwwr f1sip0of lzcic4wl gmql0nx0 p8dawk7l\" href=\"/marketplace/item/368613114373472/?ref=search&amp;referral_code=undefined\" role=\"link\" tabindex=\"0\"><div class=\"j83agx80 cbu4d94t l9j0dhe7\"><div class=\"l9j0dhe7\"><div class=\"k4urcfbm l9j0dhe7\"><div class=\"kr520xx4 j9ispegn l9j0dhe7 stjgntxs ni8dbmo4 n7fi1qx3 i09qtzwb kzx2olss aot14ch1 p86d2i9g beltcj47 t63ysoy8 linmgsc8 hop1g133 opwvks06\"><div class=\"beltcj47 p86d2i9g aot14ch1 kzx2olss ni8dbmo4 stjgntxs d5it6em2 l9j0dhe7 k4urcfbm\"><div class=\"j83agx80 lhclo0ds ihdl84by pmk7jnqg h119xb3h iylxurvu bo2ra7bd\"><div class=\"rq0escxv j83agx80 buofh1pr datstx6m ggysqto6 exrn9cbp ojkyduve abpf7j7b l9j0dhe7 k4urcfbm\"><img alt=\"3 quartos 1 banheiro Apartamento no grupo Concórdia, SC\" class=\"idiwt2bm bixrwtb6 ni8dbmo4 stjgntxs k4urcfbm\" src=\"https://scontent.ftow4-1.fna.fbcdn.net/v/t1.0-0/c43.0.260.260a/p261x260/125465750_1047110542461975_3680627968834788646_o.jpg?_nc_cat=111&amp;ccb=2&amp;_nc_sid=843cd7&amp;_nc_ohc=sNwccrMPQfwAX_FB691&amp;_nc_ht=scontent.ftow4-1.fna&amp;tp=27&amp;oh=ee773bbe936ce3857b9eb9503bc94629&amp;oe=5FFB25C3\"></div></div></div></div></div></div><div class=\"rq0escxv j83agx80 cbu4d94t i1fnvgqd muag1w35 pybr56ya f10w8fjw k4urcfbm c7r68pdi suyy3zvx\"><div class=\"aahdfvyu fsotbgu8\"><span class=\"j83agx80\"><div class=\"a8nywdso e5nlhep0 rz4wbd8a ecm0bbzt btwxx1t3 j83agx80\"><div class=\"hlyrhctz\"><span class=\"d2edcug0 hpfvmrgz qv66sw1b c1et5uql rrkovp55 a8c37x1j keod5gw0 nxhoafnm aigsh9s9 d3f4x2em fe6kdd0r mau55g9w c8b282yb mdeji52x a5q79mjw g1cxx5fr lrazzd5p oo9gr5id\" dir=\"auto\">R$&nbsp;750</span></div><div class=\"mkhogb32 f0t0fhil\"><span class=\"d2edcug0 hpfvmrgz qv66sw1b c1et5uql rrkovp55 a8c37x1j keod5gw0 nxhoafnm aigsh9s9 d3f4x2em fe6kdd0r mau55g9w c8b282yb iv3no6db jq4qci2q a3bd9o3v ekzkrbhg oo9gr5id\" dir=\"auto\">R$&nbsp;750</span></div></div></span></div><div class=\"aahdfvyu fsotbgu8\"><span aria-hidden=\"true\"><div class=\"a8nywdso e5nlhep0 rz4wbd8a linoseic\"><span class=\"d2edcug0 hpfvmrgz qv66sw1b c1et5uql rrkovp55 a8c37x1j keod5gw0 nxhoafnm aigsh9s9 d3f4x2em fe6kdd0r mau55g9w c8b282yb iv3no6db jq4qci2q a3bd9o3v knj5qynh oo9gr5id\" dir=\"auto\"><span class=\"a8c37x1j ni8dbmo4 stjgntxs l9j0dhe7\" style=\"-webkit-box-orient: vertical; -webkit-line-clamp: 2; display: -webkit-box;\">3 quartos 1 banheiro Apartamento</span></span></div></span></div><div class=\"aahdfvyu fsotbgu8\"><span aria-hidden=\"true\"><div class=\"a8nywdso e5nlhep0 rz4wbd8a ecm0bbzt\"><span class=\"d2edcug0 hpfvmrgz qv66sw1b c1et5uql rrkovp55 a8c37x1j keod5gw0 nxhoafnm aigsh9s9 d9wwppkn fe6kdd0r mau55g9w c8b282yb iv3no6db e9vueds3 j5wam9gi knj5qynh m9osqain\" dir=\"auto\"><span class=\"a8c37x1j ni8dbmo4 stjgntxs l9j0dhe7 ltmttdrg g0qnabr5 ojkyduve\">Concórdia, SC</span></span></div></span></div></div></div></a>"
      ],
      "text/plain": [
       "<IPython.core.display.HTML object>"
      ]
     },
     "metadata": {},
     "output_type": "display_data"
    },
    {
     "name": "stdout",
     "output_type": "stream",
     "text": [
      "R$ 700\n",
      "Alugo kitnet semi mobiliada parque sao paulo\n",
      "Cascavel, PR\n"
     ]
    },
    {
     "data": {
      "text/html": [
       "<a class=\"oajrlxb2 g5ia77u1 qu0x051f esr5mh6w e9989ue4 r7d6kgcz rq0escxv nhd2j8a9 nc684nl6 p7hjln8o kvgmc6g5 cxmmr5t8 oygrvhab hcukyx3x jb3vyjys rz4wbd8a qt6c0cv9 a8nywdso i1ao9s8h esuyzwwr f1sip0of lzcic4wl gmql0nx0 p8dawk7l\" href=\"/marketplace/item/237609304379307/?ref=search&amp;referral_code=undefined\" role=\"link\" tabindex=\"0\"><div class=\"j83agx80 cbu4d94t l9j0dhe7\"><div class=\"l9j0dhe7\"><div class=\"k4urcfbm l9j0dhe7\"><div class=\"kr520xx4 j9ispegn l9j0dhe7 stjgntxs ni8dbmo4 n7fi1qx3 i09qtzwb kzx2olss aot14ch1 p86d2i9g beltcj47 t63ysoy8 linmgsc8 hop1g133 opwvks06\"><div class=\"beltcj47 p86d2i9g aot14ch1 kzx2olss ni8dbmo4 stjgntxs d5it6em2 l9j0dhe7 k4urcfbm\"><div class=\"j83agx80 lhclo0ds ihdl84by pmk7jnqg h119xb3h iylxurvu bo2ra7bd\"><div class=\"rq0escxv j83agx80 buofh1pr datstx6m ggysqto6 exrn9cbp ojkyduve abpf7j7b l9j0dhe7 k4urcfbm\"><img alt=\"Alugo kitnet semi mobiliada parque sao paulo no grupo Cascavel, PR\" class=\"idiwt2bm bixrwtb6 ni8dbmo4 stjgntxs k4urcfbm\" src=\"https://scontent.ftow4-1.fna.fbcdn.net/v/t1.0-0/c0.79.720.720a/s261x260/128537589_2058953587569530_5384325612145660226_n.jpg?_nc_cat=103&amp;ccb=2&amp;_nc_sid=843cd7&amp;_nc_ohc=klDnZvUX3e8AX93AM1q&amp;_nc_ht=scontent.ftow4-1.fna&amp;tp=28&amp;oh=1c7302dfa548aae15b862f4baf0809ff&amp;oe=5FFA4149\"></div></div></div></div></div></div><div class=\"rq0escxv j83agx80 cbu4d94t i1fnvgqd muag1w35 pybr56ya f10w8fjw k4urcfbm c7r68pdi suyy3zvx\"><div class=\"aahdfvyu fsotbgu8\"><span class=\"j83agx80\"><div class=\"a8nywdso e5nlhep0 rz4wbd8a ecm0bbzt btwxx1t3 j83agx80\"><div class=\"hlyrhctz\"><span class=\"d2edcug0 hpfvmrgz qv66sw1b c1et5uql rrkovp55 a8c37x1j keod5gw0 nxhoafnm aigsh9s9 d3f4x2em fe6kdd0r mau55g9w c8b282yb mdeji52x a5q79mjw g1cxx5fr lrazzd5p oo9gr5id\" dir=\"auto\">R$&nbsp;700</span></div><div class=\"mkhogb32 f0t0fhil\"><span class=\"d2edcug0 hpfvmrgz qv66sw1b c1et5uql rrkovp55 a8c37x1j keod5gw0 nxhoafnm aigsh9s9 d3f4x2em fe6kdd0r mau55g9w c8b282yb iv3no6db jq4qci2q a3bd9o3v ekzkrbhg oo9gr5id\" dir=\"auto\">R$&nbsp;700</span></div></div></span></div><div class=\"aahdfvyu fsotbgu8\"><span aria-hidden=\"true\"><div class=\"a8nywdso e5nlhep0 rz4wbd8a linoseic\"><span class=\"d2edcug0 hpfvmrgz qv66sw1b c1et5uql rrkovp55 a8c37x1j keod5gw0 nxhoafnm aigsh9s9 d3f4x2em fe6kdd0r mau55g9w c8b282yb iv3no6db jq4qci2q a3bd9o3v knj5qynh oo9gr5id\" dir=\"auto\"><span class=\"a8c37x1j ni8dbmo4 stjgntxs l9j0dhe7\" style=\"-webkit-box-orient: vertical; -webkit-line-clamp: 2; display: -webkit-box;\">Alugo kitnet semi mobiliada parque sao paulo</span></span></div></span></div><div class=\"aahdfvyu fsotbgu8\"><span aria-hidden=\"true\"><div class=\"a8nywdso e5nlhep0 rz4wbd8a ecm0bbzt\"><span class=\"d2edcug0 hpfvmrgz qv66sw1b c1et5uql rrkovp55 a8c37x1j keod5gw0 nxhoafnm aigsh9s9 d9wwppkn fe6kdd0r mau55g9w c8b282yb iv3no6db e9vueds3 j5wam9gi knj5qynh m9osqain\" dir=\"auto\"><span class=\"a8c37x1j ni8dbmo4 stjgntxs l9j0dhe7 ltmttdrg g0qnabr5 ojkyduve\">Cascavel, PR</span></span></div></span></div></div></div></a>"
      ],
      "text/plain": [
       "<IPython.core.display.HTML object>"
      ]
     },
     "metadata": {},
     "output_type": "display_data"
    },
    {
     "name": "stdout",
     "output_type": "stream",
     "text": [
      "R$ 750\n",
      "Alugo apartamento NOVO residencial Vintage\n",
      "Toledo, PR\n"
     ]
    },
    {
     "data": {
      "text/html": [
       "<a class=\"oajrlxb2 g5ia77u1 qu0x051f esr5mh6w e9989ue4 r7d6kgcz rq0escxv nhd2j8a9 nc684nl6 p7hjln8o kvgmc6g5 cxmmr5t8 oygrvhab hcukyx3x jb3vyjys rz4wbd8a qt6c0cv9 a8nywdso i1ao9s8h esuyzwwr f1sip0of lzcic4wl gmql0nx0 p8dawk7l\" href=\"/marketplace/item/1670304246481503/?ref=search&amp;referral_code=undefined\" role=\"link\" tabindex=\"0\"><div class=\"j83agx80 cbu4d94t l9j0dhe7\"><div class=\"l9j0dhe7\"><div class=\"k4urcfbm l9j0dhe7\"><div class=\"kr520xx4 j9ispegn l9j0dhe7 stjgntxs ni8dbmo4 n7fi1qx3 i09qtzwb kzx2olss aot14ch1 p86d2i9g beltcj47 t63ysoy8 linmgsc8 hop1g133 opwvks06\"><div class=\"beltcj47 p86d2i9g aot14ch1 kzx2olss ni8dbmo4 stjgntxs d5it6em2 l9j0dhe7 k4urcfbm\"><div class=\"j83agx80 lhclo0ds ihdl84by pmk7jnqg h119xb3h iylxurvu bo2ra7bd\"><div class=\"rq0escxv j83agx80 buofh1pr datstx6m ggysqto6 exrn9cbp ojkyduve abpf7j7b l9j0dhe7 k4urcfbm\"><img alt=\"Alugo apartamento NOVO residencial Vintage no grupo Toledo, PR\" class=\"idiwt2bm bixrwtb6 ni8dbmo4 stjgntxs k4urcfbm\" src=\"https://scontent.ftow4-1.fna.fbcdn.net/v/t1.0-0/c130.0.260.260a/p261x260/125057592_2048183641983960_6921129059557097108_o.jpg?_nc_cat=109&amp;cb=846ca55b-ee17756f&amp;ccb=2&amp;_nc_sid=843cd7&amp;_nc_ohc=VHAvds_CIi0AX8YkJut&amp;_nc_ht=scontent.ftow4-1.fna&amp;tp=27&amp;oh=e9f75e7f8c0757d4e2079ec09c1b5a64&amp;oe=5FF986E1\"></div></div></div></div></div></div><div class=\"rq0escxv j83agx80 cbu4d94t i1fnvgqd muag1w35 pybr56ya f10w8fjw k4urcfbm c7r68pdi suyy3zvx\"><div class=\"aahdfvyu fsotbgu8\"><span class=\"j83agx80\"><div class=\"a8nywdso e5nlhep0 rz4wbd8a ecm0bbzt btwxx1t3 j83agx80\"><div class=\"hlyrhctz\"><span class=\"d2edcug0 hpfvmrgz qv66sw1b c1et5uql rrkovp55 a8c37x1j keod5gw0 nxhoafnm aigsh9s9 d3f4x2em fe6kdd0r mau55g9w c8b282yb mdeji52x a5q79mjw g1cxx5fr lrazzd5p oo9gr5id\" dir=\"auto\">R$&nbsp;750</span></div><div class=\"mkhogb32 f0t0fhil\"><span class=\"d2edcug0 hpfvmrgz qv66sw1b c1et5uql rrkovp55 a8c37x1j keod5gw0 nxhoafnm aigsh9s9 d3f4x2em fe6kdd0r mau55g9w c8b282yb iv3no6db jq4qci2q a3bd9o3v ekzkrbhg oo9gr5id\" dir=\"auto\">R$&nbsp;750</span></div></div></span></div><div class=\"aahdfvyu fsotbgu8\"><span aria-hidden=\"true\"><div class=\"a8nywdso e5nlhep0 rz4wbd8a linoseic\"><span class=\"d2edcug0 hpfvmrgz qv66sw1b c1et5uql rrkovp55 a8c37x1j keod5gw0 nxhoafnm aigsh9s9 d3f4x2em fe6kdd0r mau55g9w c8b282yb iv3no6db jq4qci2q a3bd9o3v knj5qynh oo9gr5id\" dir=\"auto\"><span class=\"a8c37x1j ni8dbmo4 stjgntxs l9j0dhe7\" style=\"-webkit-box-orient: vertical; -webkit-line-clamp: 2; display: -webkit-box;\">Alugo apartamento NOVO residencial Vintage</span></span></div></span></div><div class=\"aahdfvyu fsotbgu8\"><span aria-hidden=\"true\"><div class=\"a8nywdso e5nlhep0 rz4wbd8a ecm0bbzt\"><span class=\"d2edcug0 hpfvmrgz qv66sw1b c1et5uql rrkovp55 a8c37x1j keod5gw0 nxhoafnm aigsh9s9 d9wwppkn fe6kdd0r mau55g9w c8b282yb iv3no6db e9vueds3 j5wam9gi knj5qynh m9osqain\" dir=\"auto\"><span class=\"a8c37x1j ni8dbmo4 stjgntxs l9j0dhe7 ltmttdrg g0qnabr5 ojkyduve\">Toledo, PR</span></span></div></span></div></div></div></a>"
      ],
      "text/plain": [
       "<IPython.core.display.HTML object>"
      ]
     },
     "metadata": {},
     "output_type": "display_data"
    }
   ],
   "source": [
    "palavras = ['apartamento','kitnet', 'quitnet', 'apto', 'casa', 'dividir', 'Apto', 'quarto', 'mobiliada', 'Quarto', 'Toledo', 'toledo', 'Cascavel', 'cascavel']\n",
    "chosen = {}\n",
    "count = 0\n",
    "for element in elements:\n",
    "    for palavra in palavras:\n",
    "        if 'R$' in element.text and palavra in element.text:\n",
    "            if element.text not in chosen.values():\n",
    "                chosen[count] = element.text\n",
    "                print(element.text)\n",
    "                display(HTML(element.get_attribute('outerHTML')))\n",
    "                count+=1"
   ]
  },
  {
   "cell_type": "code",
   "execution_count": 15,
   "metadata": {
    "scrolled": true
   },
   "outputs": [],
   "source": [
    "# Cria um arquivo .csv com as informações do scrapping\n",
    "import csv\n",
    "with open('imoveis.csv', 'w', encoding='utf-8') as csvfile:\n",
    "    writer = csv.writer(csvfile,delimiter=',', quotechar='\"', quoting=csv.QUOTE_MINIMAL)\n",
    "    writer.writerow([\"Preço\", \"Imóvel\", \"Local\"])\n",
    "    for key, value in chosen.items():\n",
    "        v = value.split('\\n')\n",
    "        price = v[0]\n",
    "        try:\n",
    "            texto = v[1].replace(',', ' ')\n",
    "            local = v[2].replace(',', ' ')\n",
    "        except:\n",
    "            pass\n",
    "            \n",
    "        writer.writerow([price, texto, local])\n",
    "\n",
    "        "
   ]
  },
  {
   "cell_type": "code",
   "execution_count": 16,
   "metadata": {},
   "outputs": [],
   "source": [
    "driver.quit() # sai do browser"
   ]
  },
  {
   "cell_type": "code",
   "execution_count": null,
   "metadata": {},
   "outputs": [],
   "source": []
  }
 ],
 "metadata": {
  "kernelspec": {
   "display_name": "Python 3",
   "language": "python",
   "name": "python3"
  },
  "language_info": {
   "codemirror_mode": {
    "name": "ipython",
    "version": 3
   },
   "file_extension": ".py",
   "mimetype": "text/x-python",
   "name": "python",
   "nbconvert_exporter": "python",
   "pygments_lexer": "ipython3",
   "version": "3.7.6"
  }
 },
 "nbformat": 4,
 "nbformat_minor": 4
}
